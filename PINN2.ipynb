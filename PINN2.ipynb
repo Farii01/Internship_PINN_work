{
  "nbformat": 4,
  "nbformat_minor": 0,
  "metadata": {
    "colab": {
      "provenance": [],
      "toc_visible": true,
      "authorship_tag": "ABX9TyMNw4/yjPZXFMspAhdYNRLj",
      "include_colab_link": true
    },
    "kernelspec": {
      "name": "python3",
      "display_name": "Python 3"
    },
    "language_info": {
      "name": "python"
    }
  },
  "cells": [
    {
      "cell_type": "markdown",
      "metadata": {
        "id": "view-in-github",
        "colab_type": "text"
      },
      "source": [
        "<a href=\"https://colab.research.google.com/github/Farii01/Internship_PINN_work/blob/main/PINN2.ipynb\" target=\"_parent\"><img src=\"https://colab.research.google.com/assets/colab-badge.svg\" alt=\"Open In Colab\"/></a>"
      ]
    },
    {
      "cell_type": "code",
      "execution_count": 120,
      "metadata": {
        "colab": {
          "base_uri": "https://localhost:8080/"
        },
        "id": "__0ZNv8T8Vu8",
        "outputId": "84ab14fa-ee7c-499b-9496-c208da00bb08"
      },
      "outputs": [
        {
          "output_type": "stream",
          "name": "stdout",
          "text": [
            "Collecting git+https://gricad-gitlab.univ-grenoble-alpes.fr/claveaur/pygeotools.git\n",
            "  Cloning https://gricad-gitlab.univ-grenoble-alpes.fr/claveaur/pygeotools.git to /tmp/pip-req-build-x2cgbu__\n",
            "  Running command git clone --filter=blob:none --quiet https://gricad-gitlab.univ-grenoble-alpes.fr/claveaur/pygeotools.git /tmp/pip-req-build-x2cgbu__\n",
            "  Resolved https://gricad-gitlab.univ-grenoble-alpes.fr/claveaur/pygeotools.git to commit 87d5eab82dbae0c55a8d93113cd4ac6db38a0bf0\n",
            "  Installing build dependencies ... \u001b[?25l\u001b[?25hdone\n",
            "  Getting requirements to build wheel ... \u001b[?25l\u001b[?25hdone\n",
            "  Preparing metadata (pyproject.toml) ... \u001b[?25l\u001b[?25hdone\n",
            "Requirement already satisfied: cartopy in /usr/local/lib/python3.11/dist-packages (from pygeodyntools==1.0.0) (0.24.1)\n",
            "Requirement already satisfied: cdflib in /usr/local/lib/python3.11/dist-packages (from pygeodyntools==1.0.0) (1.3.4)\n",
            "Requirement already satisfied: cmocean in /usr/local/lib/python3.11/dist-packages (from pygeodyntools==1.0.0) (4.0.3)\n",
            "Requirement already satisfied: h5py in /usr/local/lib/python3.11/dist-packages (from pygeodyntools==1.0.0) (3.13.0)\n",
            "Requirement already satisfied: matplotlib in /usr/local/lib/python3.11/dist-packages (from pygeodyntools==1.0.0) (3.10.0)\n",
            "Requirement already satisfied: numpy>=1.10 in /usr/local/lib/python3.11/dist-packages (from pygeodyntools==1.0.0) (2.0.2)\n",
            "Requirement already satisfied: scipy>=0.17 in /usr/local/lib/python3.11/dist-packages (from pygeodyntools==1.0.0) (1.15.3)\n",
            "Requirement already satisfied: shapely>=1.8 in /usr/local/lib/python3.11/dist-packages (from cartopy->pygeodyntools==1.0.0) (2.1.0)\n",
            "Requirement already satisfied: packaging>=21 in /usr/local/lib/python3.11/dist-packages (from cartopy->pygeodyntools==1.0.0) (24.2)\n",
            "Requirement already satisfied: pyshp>=2.3 in /usr/local/lib/python3.11/dist-packages (from cartopy->pygeodyntools==1.0.0) (2.3.1)\n",
            "Requirement already satisfied: pyproj>=3.3.1 in /usr/local/lib/python3.11/dist-packages (from cartopy->pygeodyntools==1.0.0) (3.7.1)\n",
            "Requirement already satisfied: contourpy>=1.0.1 in /usr/local/lib/python3.11/dist-packages (from matplotlib->pygeodyntools==1.0.0) (1.3.2)\n",
            "Requirement already satisfied: cycler>=0.10 in /usr/local/lib/python3.11/dist-packages (from matplotlib->pygeodyntools==1.0.0) (0.12.1)\n",
            "Requirement already satisfied: fonttools>=4.22.0 in /usr/local/lib/python3.11/dist-packages (from matplotlib->pygeodyntools==1.0.0) (4.58.0)\n",
            "Requirement already satisfied: kiwisolver>=1.3.1 in /usr/local/lib/python3.11/dist-packages (from matplotlib->pygeodyntools==1.0.0) (1.4.8)\n",
            "Requirement already satisfied: pillow>=8 in /usr/local/lib/python3.11/dist-packages (from matplotlib->pygeodyntools==1.0.0) (11.2.1)\n",
            "Requirement already satisfied: pyparsing>=2.3.1 in /usr/local/lib/python3.11/dist-packages (from matplotlib->pygeodyntools==1.0.0) (3.2.3)\n",
            "Requirement already satisfied: python-dateutil>=2.7 in /usr/local/lib/python3.11/dist-packages (from matplotlib->pygeodyntools==1.0.0) (2.9.0.post0)\n",
            "Requirement already satisfied: certifi in /usr/local/lib/python3.11/dist-packages (from pyproj>=3.3.1->cartopy->pygeodyntools==1.0.0) (2025.4.26)\n",
            "Requirement already satisfied: six>=1.5 in /usr/local/lib/python3.11/dist-packages (from python-dateutil>=2.7->matplotlib->pygeodyntools==1.0.0) (1.17.0)\n"
          ]
        }
      ],
      "source": [
        "!pip install git+https://gricad-gitlab.univ-grenoble-alpes.fr/claveaur/pygeotools.git\n"
      ]
    },
    {
      "cell_type": "code",
      "source": [
        "import pygeotools\n",
        "import torch\n",
        "import torch.nn as nn\n",
        "import numpy as np"
      ],
      "metadata": {
        "id": "XiUWYQDLCxnz"
      },
      "execution_count": 121,
      "outputs": []
    },
    {
      "cell_type": "code",
      "source": [
        "model_path = \"/content/COVOBS-x2_400reals.hdf5\"\n"
      ],
      "metadata": {
        "id": "i-haLL7_8xzJ"
      },
      "execution_count": 122,
      "outputs": []
    },
    {
      "cell_type": "code",
      "source": [
        "import pygeotools\n",
        "\n",
        "pygeo = pygeotools.pygeotools()\n",
        "model_name=  \"COVOBS-x2_400reals.hdf5\"\n",
        "pygeo.loadModel(\n",
        "    modelName=\"COVOBS-x2_400reals.hdf5\",\n",
        "    modelType=\"covobs_hdf5\",\n",
        "    modelPath=model_path\n",
        ")\n",
        "\n",
        "pygeo.isLoaded(\"COVOBS-x2_400reals.hdf5\")  # Should return True\n"
      ],
      "metadata": {
        "colab": {
          "base_uri": "https://localhost:8080/"
        },
        "id": "51WlbPM6883Y",
        "outputId": "53fff521-f4af-46d2-d4ae-f55d4051a25e"
      },
      "execution_count": 123,
      "outputs": [
        {
          "output_type": "stream",
          "name": "stdout",
          "text": [
            "pygeotools was initialized with `verbose=True`.\n"
          ]
        },
        {
          "output_type": "execute_result",
          "data": {
            "text/plain": [
              "True"
            ]
          },
          "metadata": {},
          "execution_count": 123
        }
      ]
    },
    {
      "cell_type": "markdown",
      "source": [
        "\n",
        "*   **2 Epochs**\n",
        "*   **2015 data**\n",
        "\n",
        "\n"
      ],
      "metadata": {
        "id": "g2NV_NjvDE0c"
      }
    },
    {
      "cell_type": "markdown",
      "source": [
        "# **Familiarizing with pygeo**"
      ],
      "metadata": {
        "id": "mJMNjhP5CqgM"
      }
    },
    {
      "cell_type": "code",
      "source": [
        "dir(pygeo)\n"
      ],
      "metadata": {
        "colab": {
          "base_uri": "https://localhost:8080/"
        },
        "id": "f_wZUJn4BjiI",
        "outputId": "a568ca16-3877-49ae-c873-678e897f80a1"
      },
      "execution_count": 124,
      "outputs": [
        {
          "output_type": "execute_result",
          "data": {
            "text/plain": [
              "['Error',\n",
              " '__class__',\n",
              " '__class_getitem__',\n",
              " '__contains__',\n",
              " '__delattr__',\n",
              " '__delitem__',\n",
              " '__dict__',\n",
              " '__dir__',\n",
              " '__doc__',\n",
              " '__eq__',\n",
              " '__format__',\n",
              " '__ge__',\n",
              " '__getattribute__',\n",
              " '__getitem__',\n",
              " '__getstate__',\n",
              " '__gt__',\n",
              " '__hash__',\n",
              " '__init__',\n",
              " '__init_subclass__',\n",
              " '__ior__',\n",
              " '__iter__',\n",
              " '__le__',\n",
              " '__len__',\n",
              " '__lt__',\n",
              " '__module__',\n",
              " '__ne__',\n",
              " '__new__',\n",
              " '__or__',\n",
              " '__reduce__',\n",
              " '__reduce_ex__',\n",
              " '__repr__',\n",
              " '__reversed__',\n",
              " '__ror__',\n",
              " '__setattr__',\n",
              " '__setitem__',\n",
              " '__sizeof__',\n",
              " '__str__',\n",
              " '__subclasshook__',\n",
              " '__weakref__',\n",
              " '_pygeotools__colors',\n",
              " '_pygeotools__computedOperators',\n",
              " '_pygeotools__figures',\n",
              " '_pygeotools__gridTypes',\n",
              " '_pygeotools__grids',\n",
              " '_pygeotools__modelTypes',\n",
              " '_pygeotools__numericalCostLimit',\n",
              " '_pygeotools__numericalPrecision',\n",
              " '_pygeotools__observationTypes',\n",
              " '_pygeotools__observatories',\n",
              " '_pygeotools__precisions',\n",
              " '_pygeotools__verbose',\n",
              " 'addFigure',\n",
              " 'addGrid',\n",
              " 'addMeasure',\n",
              " 'addOperator',\n",
              " 'addSubplot',\n",
              " 'applyPrecision',\n",
              " 'clear',\n",
              " 'cloneModel',\n",
              " 'compareContext',\n",
              " 'computeLegendrePolynomials',\n",
              " 'computeObservableMF',\n",
              " 'computeObservablePSD',\n",
              " 'computeObservableSV',\n",
              " 'computeObservableSpectra',\n",
              " 'computeObservableU',\n",
              " 'computeOperatorHb',\n",
              " 'computeOperatorHu',\n",
              " 'constants',\n",
              " 'convertLatitudesToThetas',\n",
              " 'convertLongitudesToPhis',\n",
              " 'convertPhisToLongitudes',\n",
              " 'convertThetasToLatitudes',\n",
              " 'copy',\n",
              " 'currentGrid',\n",
              " 'deleteFigure',\n",
              " 'deleteGrid',\n",
              " 'deleteModel',\n",
              " 'deleteQuantity',\n",
              " 'deleteSubplot',\n",
              " 'fromkeys',\n",
              " 'get',\n",
              " 'getAvailableObservatories',\n",
              " 'getColor',\n",
              " 'getComputableMeasures',\n",
              " 'getCurrentGrid',\n",
              " 'getDistanceBetweenTwoPoints',\n",
              " 'getFigure',\n",
              " 'getFigures',\n",
              " 'getGrid',\n",
              " 'getGrids',\n",
              " 'getMagneticComponent',\n",
              " 'getMeasure',\n",
              " 'getMeasures',\n",
              " 'getModel',\n",
              " 'getNumericalCostLimit',\n",
              " 'getNumericalPrecision',\n",
              " 'getNumericalPrecisions',\n",
              " 'getObservation',\n",
              " 'getObservationAtPoint',\n",
              " 'getObservations',\n",
              " 'getObservatoryCoordinates',\n",
              " 'getOperator',\n",
              " 'getOperators',\n",
              " 'getPSDFrequencies',\n",
              " 'getQuantities',\n",
              " 'getQuantity',\n",
              " 'hasColor',\n",
              " 'hasGrid',\n",
              " 'hasMeasure',\n",
              " 'hasObservation',\n",
              " 'hasOperator',\n",
              " 'hasQuantity',\n",
              " 'interpolation',\n",
              " 'isContextValid',\n",
              " 'isFigure',\n",
              " 'isGrid',\n",
              " 'isGridSet',\n",
              " 'isLoaded',\n",
              " 'isMeasureComputable',\n",
              " 'isNumericalPrecision',\n",
              " 'isObservatory',\n",
              " 'is_cdf',\n",
              " 'items',\n",
              " 'keys',\n",
              " 'loadModel',\n",
              " 'loadObservation',\n",
              " 'load_chaos_hdf5',\n",
              " 'load_covobs_hdf5',\n",
              " 'load_govo_cdf',\n",
              " 'load_kalmag_hdf5',\n",
              " 'load_lod_csv',\n",
              " 'load_oam_hdf5',\n",
              " 'load_pygeodyn_hdf5',\n",
              " 'plotField',\n",
              " 'plotMap',\n",
              " 'plotSerie',\n",
              " 'pop',\n",
              " 'popitem',\n",
              " 'retrieveFullContext',\n",
              " 'retrieveKFromNM',\n",
              " 'retrieveLMAX',\n",
              " 'retrieveNMFromK',\n",
              " 'retrieveObservatories',\n",
              " 'retrieveSubplot',\n",
              " 'sanitizeCheck',\n",
              " 'saveFigure',\n",
              " 'selectFromMeasure',\n",
              " 'selectFromQuantity',\n",
              " 'setColor',\n",
              " 'setGrid',\n",
              " 'setNumericalCostLimit',\n",
              " 'setNumericalPrecision',\n",
              " 'setdefault',\n",
              " 'standardiseObservationName',\n",
              " 'standardiseQuantityName',\n",
              " 'streamPlot',\n",
              " 'tensorDotProductCostEstimation',\n",
              " 'tensorProductCostEstimation',\n",
              " 'timeFiltering',\n",
              " 'update',\n",
              " 'values']"
            ]
          },
          "metadata": {},
          "execution_count": 124
        }
      ]
    },
    {
      "cell_type": "code",
      "source": [
        "help(pygeo.addMeasure)"
      ],
      "metadata": {
        "colab": {
          "base_uri": "https://localhost:8080/"
        },
        "id": "lHZ3sNzRL2Bn",
        "outputId": "9e731f4a-3ca0-4a06-b5d0-a00a8a7911d4"
      },
      "execution_count": 125,
      "outputs": [
        {
          "output_type": "stream",
          "name": "stdout",
          "text": [
            "Help on method addMeasure in module pygeotools.pygeotools:\n",
            "\n",
            "addMeasure(modelName: str, measureName: str, context={}) -> numpy.ndarray method of pygeotools.pygeotools.pygeotools instance\n",
            "    # Adding a measure with a specific context\n",
            "\n"
          ]
        }
      ]
    },
    {
      "cell_type": "code",
      "source": [
        "help(pygeo.getQuantities) # What the function expects, What it returns, What we can do with it\n"
      ],
      "metadata": {
        "colab": {
          "base_uri": "https://localhost:8080/"
        },
        "id": "fjeI9yeyBwEI",
        "outputId": "603f1db4-f1de-4482-f799-b1d179fd0de0"
      },
      "execution_count": 126,
      "outputs": [
        {
          "output_type": "stream",
          "name": "stdout",
          "text": [
            "Help on method getQuantities in module pygeotools.pygeotools:\n",
            "\n",
            "getQuantities(modelName: str) -> set method of pygeotools.pygeotools.pygeotools instance\n",
            "    # Retrieving the available quantities of a model\n",
            "\n"
          ]
        }
      ]
    },
    {
      "cell_type": "code",
      "source": [
        "pygeo[model_name].keys() # what is inside models\n"
      ],
      "metadata": {
        "colab": {
          "base_uri": "https://localhost:8080/"
        },
        "id": "BTmJCyq2B9cM",
        "outputId": "680992a3-6e44-4422-f31e-75ef6ec7e00f"
      },
      "execution_count": 127,
      "outputs": [
        {
          "output_type": "execute_result",
          "data": {
            "text/plain": [
              "dict_keys(['type', 'path', 'quantities', 'measures'])"
            ]
          },
          "metadata": {},
          "execution_count": 127
        }
      ]
    },
    {
      "cell_type": "code",
      "source": [
        "pygeo[model_name]['quantities'].keys()# inside quantities in models"
      ],
      "metadata": {
        "colab": {
          "base_uri": "https://localhost:8080/"
        },
        "id": "tD_hLUSKCEWz",
        "outputId": "acf73e7a-9278-4758-e79a-2ae91745a575"
      },
      "execution_count": 128,
      "outputs": [
        {
          "output_type": "execute_result",
          "data": {
            "text/plain": [
              "dict_keys(['dgnm', 'dq10', 'gnm', 'q10', 'times'])"
            ]
          },
          "metadata": {},
          "execution_count": 128
        }
      ]
    },
    {
      "cell_type": "code",
      "source": [
        "pygeo.getQuantities(model_name)\n"
      ],
      "metadata": {
        "colab": {
          "base_uri": "https://localhost:8080/"
        },
        "id": "42BAzlHUG_2P",
        "outputId": "d5d4f6f3-8f73-4b67-8d9b-86ac472c2d4d"
      },
      "execution_count": 129,
      "outputs": [
        {
          "output_type": "execute_result",
          "data": {
            "text/plain": [
              "dict_keys(['dgnm', 'dq10', 'gnm', 'q10', 'times'])"
            ]
          },
          "metadata": {},
          "execution_count": 129
        }
      ]
    },
    {
      "cell_type": "code",
      "source": [
        "# i was seeing the range\n",
        "info  = pygeo.getQuantity(model_name, \"times\")\n",
        "print(f\"Model covers from {info .min()} to {info.max()}\")\n"
      ],
      "metadata": {
        "colab": {
          "base_uri": "https://localhost:8080/"
        },
        "id": "EMRcxxYoAf1Y",
        "outputId": "12a2830f-8fdf-4a07-9a48-3099d2955226"
      },
      "execution_count": 130,
      "outputs": [
        {
          "output_type": "stream",
          "name": "stdout",
          "text": [
            "Model covers from 1840.0 to 2022.0\n"
          ]
        }
      ]
    },
    {
      "cell_type": "code",
      "source": [
        "times = pygeo.getQuantity(model_name, \"times\")\n",
        "print(times[0:1])"
      ],
      "metadata": {
        "colab": {
          "base_uri": "https://localhost:8080/"
        },
        "id": "5u7ji9zFEMDY",
        "outputId": "d421248c-bd54-43ec-eefb-d4ef1db38e75"
      },
      "execution_count": 131,
      "outputs": [
        {
          "output_type": "stream",
          "name": "stdout",
          "text": [
            "[1840.]\n"
          ]
        }
      ]
    },
    {
      "cell_type": "markdown",
      "source": [
        "Focusing from"
      ],
      "metadata": {
        "id": "eipycCx_O0BK"
      }
    },
    {
      "cell_type": "code",
      "source": [],
      "metadata": {
        "id": "jNVoJ623CzlF"
      },
      "execution_count": 131,
      "outputs": []
    },
    {
      "cell_type": "code",
      "source": [
        "# Define context: surface of Earth's core, max degree 14\n",
        "context = {\n",
        "    \"r\": pygeo.constants[\"rEarth\"],\n",
        "    \"lmax\": 14\n",
        "}\n",
        "\n",
        "# Compute measures: Br (MF) and dBr/dt (SV). u.\n",
        "pygeo.addMeasure(modelName=model_name, measureName=\"MF\", context= context) # theta phy br\n",
        "pygeo.addMeasure(modelName=model_name, measureName=\"SV\", context=context) # the phi and the change in br\n",
        "\n",
        "MF = pygeo.getMeasure(model_name, \"MF\", context=context)\n",
        "SV = pygeo.getMeasure(model_name, \"SV\", context=context)"
      ],
      "metadata": {
        "colab": {
          "base_uri": "https://localhost:8080/"
        },
        "id": "n1e2sUoXOuyg",
        "outputId": "866e1458-0d96-4f47-928d-c523a147877b"
      },
      "execution_count": 132,
      "outputs": [
        {
          "output_type": "stream",
          "name": "stdout",
          "text": [
            "14\n"
          ]
        }
      ]
    },
    {
      "cell_type": "code",
      "source": [
        "import torch\n",
        "import torch.nn as nn\n",
        "\n",
        "class CoreFlowPINN(nn.Module):\n",
        "    def __init__(self):\n",
        "        super(CoreFlowPINN, self).__init__()\n",
        "        self.net = nn.Sequential(\n",
        "            nn.Linear(2, 32),\n",
        "            nn.Tanh(),\n",
        "            nn.Linear(32, 32),\n",
        "            nn.Tanh(),\n",
        "            nn.Linear(32, 2)  # Output: u_theta and u_phi\n",
        "        )\n",
        "\n",
        "    def forward(self, x):\n",
        "        return self.net(x)\n"
      ],
      "metadata": {
        "id": "q-u27UUgUsL9"
      },
      "execution_count": 133,
      "outputs": []
    },
    {
      "cell_type": "code",
      "source": [
        "find_years = range(2020, 2026)\n",
        "\n",
        "# using pygeo to fetch time data\n",
        "years = pygeo.getQuantity(model_name, \"times\")\n",
        "\n",
        "for year in find_years:\n",
        "    if year in years:\n",
        "        mf_grid = pygeo.selectFromMeasure(\n",
        "            modelName=model_name,\n",
        "            measure=MF,\n",
        "            options={\"time\": (year, year)}\n",
        "        )\n",
        "\n",
        "        sv_grid = pygeo.selectFromMeasure(\n",
        "            modelName=model_name,\n",
        "            measure=SV,\n",
        "            options={\"time\": (year, year)}\n",
        "        )\n",
        "\n",
        "        print(f\"\\n Data loaded for year {year} \\n\")\n",
        "\n",
        "        # Flatten grid to [theta, phi, value]\n",
        "        mf_np = np.array(mf_grid).reshape(-1, 3)\n",
        "        sv_np = np.array(sv_grid).reshape(-1, 3)\n",
        "\n",
        "        # Convert to torch tensors\n",
        "        theta = torch.tensor(mf_np[:, 0:1], dtype=torch.float32, requires_grad=True)\n",
        "        phi   = torch.tensor(mf_np[:, 1:2], dtype=torch.float32, requires_grad=True)\n",
        "        Br    = torch.tensor(mf_np[:, 2:3], dtype=torch.float32)\n",
        "        dBr_dt = torch.tensor(sv_np[:, 2:3], dtype=torch.float32)\n",
        "\n",
        "        inputs = torch.cat([theta, phi], dim=1)\n",
        "\n",
        "        # Reinitialize model and optimizer for each year\n",
        "        model = CoreFlowPINN()\n",
        "        optimizer = torch.optim.Adam(model.parameters(), lr=0.001)\n",
        "\n",
        "        # Training loop for current year\n",
        "        for epoch in range(11):  # or just range(1) for 1 epoch\n",
        "            optimizer.zero_grad()\n",
        "\n",
        "            u_pred = model(inputs)\n",
        "            u_theta = u_pred[:, 0:1]\n",
        "            u_phi = u_pred[:, 1:2]\n",
        "\n",
        "            q_theta = u_theta * Br\n",
        "            q_phi = u_phi * Br\n",
        "\n",
        "            dq_theta_dtheta = torch.autograd.grad(\n",
        "                q_theta, theta,\n",
        "                grad_outputs=torch.ones_like(q_theta),\n",
        "                create_graph=True, retain_graph=True\n",
        "            )[0]\n",
        "\n",
        "            dq_phi_dphi = torch.autograd.grad(\n",
        "                q_phi, phi,\n",
        "                grad_outputs=torch.ones_like(q_phi),\n",
        "                create_graph=True, retain_graph=True\n",
        "            )[0]\n",
        "\n",
        "            residual = dBr_dt + dq_theta_dtheta + dq_phi_dphi\n",
        "            loss = torch.mean(residual**2)\n",
        "\n",
        "            loss.backward()\n",
        "            optimizer.step()\n",
        "\n",
        "            print(f\"{year} : Epoch {epoch} --- Loss {loss.item():.6f}\")\n",
        "\n",
        "    else:\n",
        "        print(f\"\\nNo data available for year {year}\")\n"
      ],
      "metadata": {
        "colab": {
          "base_uri": "https://localhost:8080/"
        },
        "id": "fRDFr2sfVZcK",
        "outputId": "83a7539f-60a1-4021-acbf-ea1276b8019b"
      },
      "execution_count": 144,
      "outputs": [
        {
          "output_type": "stream",
          "name": "stdout",
          "text": [
            "\n",
            " Data loaded for year 2020 \n",
            "\n",
            "2020 : Epoch 0 --- Loss 1755.828735\n",
            "2020 : Epoch 1 --- Loss 1749.650879\n",
            "2020 : Epoch 2 --- Loss 1756.939087\n",
            "2020 : Epoch 3 --- Loss 1749.621948\n",
            "2020 : Epoch 4 --- Loss 1753.254272\n",
            "2020 : Epoch 5 --- Loss 1750.293213\n",
            "2020 : Epoch 6 --- Loss 1746.247070\n",
            "2020 : Epoch 7 --- Loss 1749.823730\n",
            "2020 : Epoch 8 --- Loss 1749.614380\n",
            "2020 : Epoch 9 --- Loss 1748.474121\n",
            "2020 : Epoch 10 --- Loss 1749.426514\n",
            "\n",
            " Data loaded for year 2021 \n",
            "\n",
            "2021 : Epoch 0 --- Loss 1662.868408\n",
            "2021 : Epoch 1 --- Loss 1655.493042\n",
            "2021 : Epoch 2 --- Loss 1662.379272\n",
            "2021 : Epoch 3 --- Loss 1657.233032\n",
            "2021 : Epoch 4 --- Loss 1711.221069\n",
            "2021 : Epoch 5 --- Loss 1655.474121\n",
            "2021 : Epoch 6 --- Loss 1691.586670\n",
            "2021 : Epoch 7 --- Loss 1656.705811\n",
            "2021 : Epoch 8 --- Loss 1656.059082\n",
            "2021 : Epoch 9 --- Loss 1655.478760\n",
            "2021 : Epoch 10 --- Loss 1655.581787\n",
            "\n",
            " Data loaded for year 2022 \n",
            "\n",
            "2022 : Epoch 0 --- Loss 1425.097778\n",
            "2022 : Epoch 1 --- Loss 1400.092163\n",
            "2022 : Epoch 2 --- Loss 1436.380859\n",
            "2022 : Epoch 3 --- Loss 1405.750732\n",
            "2022 : Epoch 4 --- Loss 1399.771729\n",
            "2022 : Epoch 5 --- Loss 1399.962402\n",
            "2022 : Epoch 6 --- Loss 1400.353394\n",
            "2022 : Epoch 7 --- Loss 1400.878052\n",
            "2022 : Epoch 8 --- Loss 1397.699463\n",
            "2022 : Epoch 9 --- Loss 1403.857056\n",
            "2022 : Epoch 10 --- Loss 1399.082275\n",
            "\n",
            "No data available for year 2023\n",
            "\n",
            "No data available for year 2024\n",
            "\n",
            "No data available for year 2025\n"
          ]
        }
      ]
    }
  ]
}