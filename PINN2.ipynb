{
  "nbformat": 4,
  "nbformat_minor": 0,
  "metadata": {
    "colab": {
      "provenance": [],
      "authorship_tag": "ABX9TyNcaQ3kMwZFG5F52wZwbwMg",
      "include_colab_link": true
    },
    "kernelspec": {
      "name": "python3",
      "display_name": "Python 3"
    },
    "language_info": {
      "name": "python"
    }
  },
  "cells": [
    {
      "cell_type": "markdown",
      "metadata": {
        "id": "view-in-github",
        "colab_type": "text"
      },
      "source": [
        "<a href=\"https://colab.research.google.com/github/Farii01/Internship_PINN_work/blob/main/PINN2.ipynb\" target=\"_parent\"><img src=\"https://colab.research.google.com/assets/colab-badge.svg\" alt=\"Open In Colab\"/></a>"
      ]
    },
    {
      "cell_type": "code",
      "execution_count": 1,
      "metadata": {
        "colab": {
          "base_uri": "https://localhost:8080/"
        },
        "id": "__0ZNv8T8Vu8",
        "outputId": "f74d4f27-c858-4825-e0aa-ffe5c1426977"
      },
      "outputs": [
        {
          "output_type": "stream",
          "name": "stdout",
          "text": [
            "Collecting git+https://gricad-gitlab.univ-grenoble-alpes.fr/claveaur/pygeotools.git\n",
            "  Cloning https://gricad-gitlab.univ-grenoble-alpes.fr/claveaur/pygeotools.git to /tmp/pip-req-build-v26ydau0\n",
            "  Running command git clone --filter=blob:none --quiet https://gricad-gitlab.univ-grenoble-alpes.fr/claveaur/pygeotools.git /tmp/pip-req-build-v26ydau0\n",
            "  Resolved https://gricad-gitlab.univ-grenoble-alpes.fr/claveaur/pygeotools.git to commit 87d5eab82dbae0c55a8d93113cd4ac6db38a0bf0\n",
            "  Installing build dependencies ... \u001b[?25l\u001b[?25hdone\n",
            "  Getting requirements to build wheel ... \u001b[?25l\u001b[?25hdone\n",
            "  Preparing metadata (pyproject.toml) ... \u001b[?25l\u001b[?25hdone\n",
            "Requirement already satisfied: cartopy in /usr/local/lib/python3.11/dist-packages (from pygeodyntools==1.0.0) (0.24.1)\n",
            "Requirement already satisfied: cdflib in /usr/local/lib/python3.11/dist-packages (from pygeodyntools==1.0.0) (1.3.4)\n",
            "Requirement already satisfied: cmocean in /usr/local/lib/python3.11/dist-packages (from pygeodyntools==1.0.0) (4.0.3)\n",
            "Requirement already satisfied: h5py in /usr/local/lib/python3.11/dist-packages (from pygeodyntools==1.0.0) (3.13.0)\n",
            "Requirement already satisfied: matplotlib in /usr/local/lib/python3.11/dist-packages (from pygeodyntools==1.0.0) (3.10.0)\n",
            "Requirement already satisfied: numpy>=1.10 in /usr/local/lib/python3.11/dist-packages (from pygeodyntools==1.0.0) (2.0.2)\n",
            "Requirement already satisfied: scipy>=0.17 in /usr/local/lib/python3.11/dist-packages (from pygeodyntools==1.0.0) (1.15.3)\n",
            "Requirement already satisfied: shapely>=1.8 in /usr/local/lib/python3.11/dist-packages (from cartopy->pygeodyntools==1.0.0) (2.1.0)\n",
            "Requirement already satisfied: packaging>=21 in /usr/local/lib/python3.11/dist-packages (from cartopy->pygeodyntools==1.0.0) (24.2)\n",
            "Requirement already satisfied: pyshp>=2.3 in /usr/local/lib/python3.11/dist-packages (from cartopy->pygeodyntools==1.0.0) (2.3.1)\n",
            "Requirement already satisfied: pyproj>=3.3.1 in /usr/local/lib/python3.11/dist-packages (from cartopy->pygeodyntools==1.0.0) (3.7.1)\n",
            "Requirement already satisfied: contourpy>=1.0.1 in /usr/local/lib/python3.11/dist-packages (from matplotlib->pygeodyntools==1.0.0) (1.3.2)\n",
            "Requirement already satisfied: cycler>=0.10 in /usr/local/lib/python3.11/dist-packages (from matplotlib->pygeodyntools==1.0.0) (0.12.1)\n",
            "Requirement already satisfied: fonttools>=4.22.0 in /usr/local/lib/python3.11/dist-packages (from matplotlib->pygeodyntools==1.0.0) (4.58.0)\n",
            "Requirement already satisfied: kiwisolver>=1.3.1 in /usr/local/lib/python3.11/dist-packages (from matplotlib->pygeodyntools==1.0.0) (1.4.8)\n",
            "Requirement already satisfied: pillow>=8 in /usr/local/lib/python3.11/dist-packages (from matplotlib->pygeodyntools==1.0.0) (11.2.1)\n",
            "Requirement already satisfied: pyparsing>=2.3.1 in /usr/local/lib/python3.11/dist-packages (from matplotlib->pygeodyntools==1.0.0) (3.2.3)\n",
            "Requirement already satisfied: python-dateutil>=2.7 in /usr/local/lib/python3.11/dist-packages (from matplotlib->pygeodyntools==1.0.0) (2.9.0.post0)\n",
            "Requirement already satisfied: certifi in /usr/local/lib/python3.11/dist-packages (from pyproj>=3.3.1->cartopy->pygeodyntools==1.0.0) (2025.4.26)\n",
            "Requirement already satisfied: six>=1.5 in /usr/local/lib/python3.11/dist-packages (from python-dateutil>=2.7->matplotlib->pygeodyntools==1.0.0) (1.17.0)\n"
          ]
        }
      ],
      "source": [
        "!pip install git+https://gricad-gitlab.univ-grenoble-alpes.fr/claveaur/pygeotools.git\n"
      ]
    },
    {
      "cell_type": "code",
      "source": [
        "import pygeotools\n",
        "import torch\n",
        "import torch.nn as nn\n",
        "import numpy as np"
      ],
      "metadata": {
        "id": "XiUWYQDLCxnz"
      },
      "execution_count": 2,
      "outputs": []
    },
    {
      "cell_type": "code",
      "source": [
        "model_path = \"/content/COVOBS-x2_400reals.hdf5\"\n"
      ],
      "metadata": {
        "id": "i-haLL7_8xzJ"
      },
      "execution_count": 3,
      "outputs": []
    },
    {
      "cell_type": "code",
      "source": [
        "import pygeotools\n",
        "\n",
        "pygeo = pygeotools.pygeotools()\n",
        "model_name=  \"COVOBS-x2_400reals.hdf5\"\n",
        "pygeo.loadModel(\n",
        "    modelName=\"COVOBS-x2_400reals.hdf5\",\n",
        "    modelType=\"covobs_hdf5\",\n",
        "    modelPath=model_path\n",
        ")\n",
        "\n",
        "pygeo.isLoaded(\"COVOBS-x2_400reals.hdf5\")  # Should return True\n"
      ],
      "metadata": {
        "colab": {
          "base_uri": "https://localhost:8080/"
        },
        "id": "51WlbPM6883Y",
        "outputId": "59de9e57-6ef7-4c92-862d-cf27aa877ae8"
      },
      "execution_count": 4,
      "outputs": [
        {
          "output_type": "stream",
          "name": "stdout",
          "text": [
            "pygeotools was initialized with `verbose=True`.\n"
          ]
        },
        {
          "output_type": "execute_result",
          "data": {
            "text/plain": [
              "True"
            ]
          },
          "metadata": {},
          "execution_count": 4
        }
      ]
    },
    {
      "cell_type": "markdown",
      "source": [
        "\n",
        "*   **2 Epochs**\n",
        "*   **2015 data**\n",
        "\n",
        "\n"
      ],
      "metadata": {
        "id": "g2NV_NjvDE0c"
      }
    },
    {
      "cell_type": "markdown",
      "source": [
        "# **Familiarizing with pygeo**"
      ],
      "metadata": {
        "id": "mJMNjhP5CqgM"
      }
    },
    {
      "cell_type": "code",
      "source": [
        "dir(pygeo)\n"
      ],
      "metadata": {
        "colab": {
          "base_uri": "https://localhost:8080/"
        },
        "id": "f_wZUJn4BjiI",
        "outputId": "1915d172-9d7a-4dcd-a013-b4c90f08ed8e"
      },
      "execution_count": 5,
      "outputs": [
        {
          "output_type": "execute_result",
          "data": {
            "text/plain": [
              "['Error',\n",
              " '__class__',\n",
              " '__class_getitem__',\n",
              " '__contains__',\n",
              " '__delattr__',\n",
              " '__delitem__',\n",
              " '__dict__',\n",
              " '__dir__',\n",
              " '__doc__',\n",
              " '__eq__',\n",
              " '__format__',\n",
              " '__ge__',\n",
              " '__getattribute__',\n",
              " '__getitem__',\n",
              " '__getstate__',\n",
              " '__gt__',\n",
              " '__hash__',\n",
              " '__init__',\n",
              " '__init_subclass__',\n",
              " '__ior__',\n",
              " '__iter__',\n",
              " '__le__',\n",
              " '__len__',\n",
              " '__lt__',\n",
              " '__module__',\n",
              " '__ne__',\n",
              " '__new__',\n",
              " '__or__',\n",
              " '__reduce__',\n",
              " '__reduce_ex__',\n",
              " '__repr__',\n",
              " '__reversed__',\n",
              " '__ror__',\n",
              " '__setattr__',\n",
              " '__setitem__',\n",
              " '__sizeof__',\n",
              " '__str__',\n",
              " '__subclasshook__',\n",
              " '__weakref__',\n",
              " '_pygeotools__colors',\n",
              " '_pygeotools__computedOperators',\n",
              " '_pygeotools__figures',\n",
              " '_pygeotools__gridTypes',\n",
              " '_pygeotools__grids',\n",
              " '_pygeotools__modelTypes',\n",
              " '_pygeotools__numericalCostLimit',\n",
              " '_pygeotools__numericalPrecision',\n",
              " '_pygeotools__observationTypes',\n",
              " '_pygeotools__observatories',\n",
              " '_pygeotools__precisions',\n",
              " '_pygeotools__verbose',\n",
              " 'addFigure',\n",
              " 'addGrid',\n",
              " 'addMeasure',\n",
              " 'addOperator',\n",
              " 'addSubplot',\n",
              " 'applyPrecision',\n",
              " 'clear',\n",
              " 'cloneModel',\n",
              " 'compareContext',\n",
              " 'computeLegendrePolynomials',\n",
              " 'computeObservableMF',\n",
              " 'computeObservablePSD',\n",
              " 'computeObservableSV',\n",
              " 'computeObservableSpectra',\n",
              " 'computeObservableU',\n",
              " 'computeOperatorHb',\n",
              " 'computeOperatorHu',\n",
              " 'constants',\n",
              " 'convertLatitudesToThetas',\n",
              " 'convertLongitudesToPhis',\n",
              " 'convertPhisToLongitudes',\n",
              " 'convertThetasToLatitudes',\n",
              " 'copy',\n",
              " 'currentGrid',\n",
              " 'deleteFigure',\n",
              " 'deleteGrid',\n",
              " 'deleteModel',\n",
              " 'deleteQuantity',\n",
              " 'deleteSubplot',\n",
              " 'fromkeys',\n",
              " 'get',\n",
              " 'getAvailableObservatories',\n",
              " 'getColor',\n",
              " 'getComputableMeasures',\n",
              " 'getCurrentGrid',\n",
              " 'getDistanceBetweenTwoPoints',\n",
              " 'getFigure',\n",
              " 'getFigures',\n",
              " 'getGrid',\n",
              " 'getGrids',\n",
              " 'getMagneticComponent',\n",
              " 'getMeasure',\n",
              " 'getMeasures',\n",
              " 'getModel',\n",
              " 'getNumericalCostLimit',\n",
              " 'getNumericalPrecision',\n",
              " 'getNumericalPrecisions',\n",
              " 'getObservation',\n",
              " 'getObservationAtPoint',\n",
              " 'getObservations',\n",
              " 'getObservatoryCoordinates',\n",
              " 'getOperator',\n",
              " 'getOperators',\n",
              " 'getPSDFrequencies',\n",
              " 'getQuantities',\n",
              " 'getQuantity',\n",
              " 'hasColor',\n",
              " 'hasGrid',\n",
              " 'hasMeasure',\n",
              " 'hasObservation',\n",
              " 'hasOperator',\n",
              " 'hasQuantity',\n",
              " 'interpolation',\n",
              " 'isContextValid',\n",
              " 'isFigure',\n",
              " 'isGrid',\n",
              " 'isGridSet',\n",
              " 'isLoaded',\n",
              " 'isMeasureComputable',\n",
              " 'isNumericalPrecision',\n",
              " 'isObservatory',\n",
              " 'is_cdf',\n",
              " 'items',\n",
              " 'keys',\n",
              " 'loadModel',\n",
              " 'loadObservation',\n",
              " 'load_chaos_hdf5',\n",
              " 'load_covobs_hdf5',\n",
              " 'load_govo_cdf',\n",
              " 'load_kalmag_hdf5',\n",
              " 'load_lod_csv',\n",
              " 'load_oam_hdf5',\n",
              " 'load_pygeodyn_hdf5',\n",
              " 'plotField',\n",
              " 'plotMap',\n",
              " 'plotSerie',\n",
              " 'pop',\n",
              " 'popitem',\n",
              " 'retrieveFullContext',\n",
              " 'retrieveKFromNM',\n",
              " 'retrieveLMAX',\n",
              " 'retrieveNMFromK',\n",
              " 'retrieveObservatories',\n",
              " 'retrieveSubplot',\n",
              " 'sanitizeCheck',\n",
              " 'saveFigure',\n",
              " 'selectFromMeasure',\n",
              " 'selectFromQuantity',\n",
              " 'setColor',\n",
              " 'setGrid',\n",
              " 'setNumericalCostLimit',\n",
              " 'setNumericalPrecision',\n",
              " 'setdefault',\n",
              " 'standardiseObservationName',\n",
              " 'standardiseQuantityName',\n",
              " 'streamPlot',\n",
              " 'tensorDotProductCostEstimation',\n",
              " 'tensorProductCostEstimation',\n",
              " 'timeFiltering',\n",
              " 'update',\n",
              " 'values']"
            ]
          },
          "metadata": {},
          "execution_count": 5
        }
      ]
    },
    {
      "cell_type": "code",
      "source": [
        "help(pygeo.addMeasure)"
      ],
      "metadata": {
        "colab": {
          "base_uri": "https://localhost:8080/"
        },
        "id": "lHZ3sNzRL2Bn",
        "outputId": "44653d93-42cd-4aa8-d233-8ad644db3720"
      },
      "execution_count": 6,
      "outputs": [
        {
          "output_type": "stream",
          "name": "stdout",
          "text": [
            "Help on method addMeasure in module pygeotools.pygeotools:\n",
            "\n",
            "addMeasure(modelName: str, measureName: str, context={}) -> numpy.ndarray method of pygeotools.pygeotools.pygeotools instance\n",
            "    # Adding a measure with a specific context\n",
            "\n"
          ]
        }
      ]
    },
    {
      "cell_type": "code",
      "source": [
        "help(pygeo.getQuantities) # What the function expects, What it returns, What we can do with it\n"
      ],
      "metadata": {
        "colab": {
          "base_uri": "https://localhost:8080/"
        },
        "id": "fjeI9yeyBwEI",
        "outputId": "4466bb05-5eea-49f2-9344-8780ac1c78a9"
      },
      "execution_count": 7,
      "outputs": [
        {
          "output_type": "stream",
          "name": "stdout",
          "text": [
            "Help on method getQuantities in module pygeotools.pygeotools:\n",
            "\n",
            "getQuantities(modelName: str) -> set method of pygeotools.pygeotools.pygeotools instance\n",
            "    # Retrieving the available quantities of a model\n",
            "\n"
          ]
        }
      ]
    },
    {
      "cell_type": "code",
      "source": [
        "pygeo[model_name].keys() # what is inside models\n"
      ],
      "metadata": {
        "colab": {
          "base_uri": "https://localhost:8080/"
        },
        "id": "BTmJCyq2B9cM",
        "outputId": "63a2b6c0-58cb-4b7c-b888-bb39bd2a9981"
      },
      "execution_count": 8,
      "outputs": [
        {
          "output_type": "execute_result",
          "data": {
            "text/plain": [
              "dict_keys(['type', 'path', 'quantities', 'measures'])"
            ]
          },
          "metadata": {},
          "execution_count": 8
        }
      ]
    },
    {
      "cell_type": "code",
      "source": [
        "pygeo[model_name]['quantities'].keys()# inside quantities in models"
      ],
      "metadata": {
        "colab": {
          "base_uri": "https://localhost:8080/"
        },
        "id": "tD_hLUSKCEWz",
        "outputId": "9d5bc96d-1b46-4852-da64-d6b18b9959b4"
      },
      "execution_count": 9,
      "outputs": [
        {
          "output_type": "execute_result",
          "data": {
            "text/plain": [
              "dict_keys(['dgnm', 'dq10', 'gnm', 'q10', 'times'])"
            ]
          },
          "metadata": {},
          "execution_count": 9
        }
      ]
    },
    {
      "cell_type": "code",
      "source": [
        "pygeo.getQuantities(model_name)\n"
      ],
      "metadata": {
        "colab": {
          "base_uri": "https://localhost:8080/"
        },
        "id": "42BAzlHUG_2P",
        "outputId": "7ad0088c-fbd9-4ace-adc9-2d7666faac3b"
      },
      "execution_count": 10,
      "outputs": [
        {
          "output_type": "execute_result",
          "data": {
            "text/plain": [
              "dict_keys(['dgnm', 'dq10', 'gnm', 'q10', 'times'])"
            ]
          },
          "metadata": {},
          "execution_count": 10
        }
      ]
    },
    {
      "cell_type": "code",
      "source": [
        "# i was seeing the range\n",
        "info  = pygeo.getQuantity(model_name, \"times\")\n",
        "print(f\"Model covers from {info .min()} to {info.max()}\")\n"
      ],
      "metadata": {
        "colab": {
          "base_uri": "https://localhost:8080/"
        },
        "id": "EMRcxxYoAf1Y",
        "outputId": "2950133b-9232-4195-ea2e-b945b69c7ad5"
      },
      "execution_count": 11,
      "outputs": [
        {
          "output_type": "stream",
          "name": "stdout",
          "text": [
            "Model covers from 1840.0 to 2022.0\n"
          ]
        }
      ]
    },
    {
      "cell_type": "code",
      "source": [
        "times = pygeo.getQuantity(model_name, \"times\")\n",
        "print(times[0:1])"
      ],
      "metadata": {
        "colab": {
          "base_uri": "https://localhost:8080/"
        },
        "id": "5u7ji9zFEMDY",
        "outputId": "dd027447-b6e6-4245-913c-a4397cfd32cd"
      },
      "execution_count": 12,
      "outputs": [
        {
          "output_type": "stream",
          "name": "stdout",
          "text": [
            "[1840.]\n"
          ]
        }
      ]
    },
    {
      "cell_type": "markdown",
      "source": [
        "Focusing from"
      ],
      "metadata": {
        "id": "eipycCx_O0BK"
      }
    },
    {
      "cell_type": "code",
      "source": [
        "\n",
        "\n",
        "context = {\n",
        "    \"r\": pygeo.constants[\"rCore\"],  # not rEarth\n",
        "    \"lmax\": 14\n",
        "}\n",
        "\n",
        "\n",
        "# Compute measures: Br (MF) and dBr/dt (SV). u.\n",
        "pygeo.addMeasure(modelName=model_name, measureName=\"MF\", context= context) # theta phy br\n",
        "pygeo.addMeasure(modelName=model_name, measureName=\"SV\", context=context) # the phi and the change in br\n",
        "\n",
        "MF = pygeo.getMeasure(model_name, \"MF\", context=context)\n",
        "SV = pygeo.getMeasure(model_name, \"SV\", context=context)"
      ],
      "metadata": {
        "colab": {
          "base_uri": "https://localhost:8080/"
        },
        "id": "n1e2sUoXOuyg",
        "outputId": "85fa2ed6-cda8-4caa-ec72-53cc48dac125"
      },
      "execution_count": 13,
      "outputs": [
        {
          "output_type": "stream",
          "name": "stdout",
          "text": [
            "14\n"
          ]
        }
      ]
    },
    {
      "cell_type": "code",
      "source": [
        "import torch\n",
        "import torch.nn as nn\n",
        "\n",
        "#  3-layer NN: 2x32 → 32x32 → 32x2\n",
        "class CoreFlowPINN(nn.Module):\n",
        "    def __init__(self):\n",
        "        super(CoreFlowPINN, self).__init__()\n",
        "        self.net = nn.Sequential(\n",
        "            nn.Linear(2, 32),\n",
        "            nn.Tanh(),\n",
        "            nn.Linear(32, 32),\n",
        "            nn.Tanh(),\n",
        "            nn.Linear(32, 2)  # Output: u_theta and u_phi\n",
        "        )\n",
        "\n",
        "    def forward(self, x):\n",
        "        return self.net(x)\n"
      ],
      "metadata": {
        "id": "q-u27UUgUsL9"
      },
      "execution_count": 14,
      "outputs": []
    },
    {
      "cell_type": "markdown",
      "source": [
        "![d.png](data:image/png;base64,iVBORw0KGgoAAAANSUhEUgAABt0AAAEjCAYAAABens6EAAAAAXNSR0IArs4c6QAAAARnQU1BAACxjwv8YQUAAAAJcEhZcwAAEnQAABJ0Ad5mH3gAAP+lSURBVHhe7N13VBRXGwbwhyJVsWPBApbYEzV2BSyxm9iixtgSY4nxs3csCNbYa2JJNIpGJfZuEkDFjhoTC3axIEixoFTZne+P3RlnhwW2gKI8v3M4CTN32p1hZrzv3PdaCIIggIiIiOgDc/nKFfTp0xcvXrxQztJRtkwZ+Ptvg7Ozs3KWjrHjxmHHjp1o1LAh1q5dAwcHB2URSUBAAAYMHIT8+fPDz28jalSvrizyVujbD3m9/LJ2DVq0aJFuWWNk13rN9c+tVxix/BYSktWY0d8NbesXUhZJ16GzTzF13T042Fpi6bCKqFUxr7LIByO985ed3vW1Ya63VWfvez1lRt/x6ZuWFYw9Z9m1H3JvYxvGMraestLbro+3sT1D6/Phms/hMfcaUHUSju8fgNKK+UFjyqP/Lkjzb4u/69P5V9xb2BTAUYws9x32KOdrdVx7B0taALj/Czo0m4OrygL4AuvuLkYzPMTaDk0x+5py/hsTJ0zARzd/1OyTjSOQEq89XqsM9qEqvIL2YWDZN/sp7VM6dSLVg5J4zJkei2miYzN+nwSAx3490elwO+ze3AclAQAnMK3ucGDRRfi6y///zbzDAIC2GD78LpbJln3s1xOdlt2Q1l1p+D749XGRfs9I0cL5lZOIcqzklNfKSURE7z1L5QQiIiIi+jC0aNEC9+7ewaV/LmZLQyKROXh9GiY31lNOOeacsh+UfXLOOX6Iw3u1Ea1KFdIE3ACgWbsvNP9zbQ8O35fN6Pwr1nXW/V0TcNPVce2v6Kjz+5vgFsoOwP6gSagmm68bpCqNgfvTLr/rfx/Jpsi0X4Z7d+9oA4xNsURn3VXhFXRHu8/XsOfIQ/mSmWq28A6OT6yqO7FatzfHnOmxZJ+SfbbgnBRwA4Am8A0Rg2zy/3/z+7mQizgXMgu9FcuW7LNFO0/zY2jAjYiIiN49Bt2IiIjog1SjenVc+uci7t29g3t37+CXtWsAAPnz58fevXuk6UePBuFJVBRq1qoNt3LlpZ9evXojISFBuVoAwH//XdYpv3q1Zt2ZSUhIQK9evXW2ExAQoCymY/XqNXArVx5NmzZDVFQUoFiPfD+joqLQtGkzaZ8CAgLgVq48ataqjctXrmD16jX44ouOUu+/AQMHSfPk4l/F6+ynfNv6ZOV6Takj0atEFfrODkWdwRdQZ/AF9J0dileJKmUxQE/ZOoMv4NDZp8piRhHrW/zRVwdjx42TztuevXt1yuu7jgypD/k6Fy5clGZ9l69cyfD6NuT8GXts+vZDSXl9KqedOXM20+slPeK+6DteUWb1Il+P8pj69x+QYZ0Zct4g+/uW/yjrS189wcD9z6r61CejOpbXm7LeM5on0nfMxh6L8hz06tUb8a/idcogg3Os7x6qbzl9xy8y5BwZw5D1ZVc9pceQa9jY+54oq54Z2XmO5c/djPYzc6UxcL/mvWTiRzf1r6/FYu27yz4MLAuEPdcuuus7qefXL2vX6A24AcDBkaN1ept9Dt16Wn1YjavaDAAzZ8wAsBf9y5XH2HHjtCWawrprF6n8pRnNYN1qAcqWKSNNa7bwDvbu3YP8gaN1zsXllw3wKL+m99Uva0fixopx0j4/+rkjLl8pgiXa97IlLd7Uq8dcbSDy2hz0kdXrzfIjtVvUuvqH7rkvOwCVZfsK7MVNPdea8tnmpnO8RERERKZh0I2IiIhytcvppKE8dfo0Bg4clKaB7dTp0+j59dc65ef++GOmjTRRUVFo1649Tp0+rTN9wMBBGTY6NmrcCPnz58fzFy/wRNvYdOfuXVy9pmmIunrtGu7cvQsAuHz5Mu4/eID8+fOjUeNGOusx1IsXL9Dz66919vP+gwcYNWp0mrowhiHrNbWOACDyaQq6Tb+Ka/ff7OO1+wkYtfI2EpLVmZYFgKnr7mHFrnCdaYYaO24cBgwcpDPtxYsX+OKLjnr3/dTp0xg5cpTONOV1ZGx9nDp9GitWrgS0weVGjRsZfX3rY8qxKffDWOldL92798iwMVtsgN+xY6fO9FOnT6Ndu/bSssbWi/KYyrqW1ZkvZ+h5W716Deb++KNOGWivA331Kmfs/ptan/oYUsf9+vVD/vz5de5P0NbN+ZDzAAAPD48M0/Smx5Bj0XcOTum5d8spz3F6160hxw8TzlFmjF1fdtWTnLHX8CkD7nui9PbfnGdGVp/jqKgodO/eA/cfPNApp6xnY4wdNy5Nnd5/8ACtWrfRCQquXr0GvkE6xQDtsSvr87b2v6/jdc+pvrLQbm/K1KnS723btNFbJ/cfPMDnX3yR5vgzM2DgIJ31vHjxAn369JWOz9x61bev0HOtBWhTiyrt2LFTb70QERERGYpBNyIiIsrVNmzYgBcvXqBr1y5S77eJEyYAioCWnLxsV+2X1Dt27Ezzdb3cvPnzcf/BA5QtUwZnz5zW2c6WLVvSbUQqX64cqlWtihcvXuDUyVMAgKgnT6QG0RcvXiDqyRMAwO3bdwAA1apWRfly5WRr0Rg8eJDmC3Tpa/M1elNqNWrYEFevXDaoLpCF6zW1jgBg+7FoRD/XjAkxo78bzq/+FPvn1EDRAnmURTF/60NEP3+NogXyYP+cGji/+lN806Y4AODAmVhEPk1RLpKhgIAAqXFv4oQJaa6Nn1etStODAulcR3//HSCVNaU+xO2L9W/I9Z3R+TP12JT7YQr59SJu7/6DB7h8+bKyqMTPb5PUAP/L2jW4J+vlev/BA+zatRsw8e9efkze06amW2eGnLeEhAQcP34cSOc6SO/8ikzZf1PqUx9D6ljffQtZ9GEADDiWXbt2Sw324j6ePXNap0eOPoZct4YcP0w8RxkxZX3ZVU/QBjZMuYb1lZXf9+Sy45mRledYrD/5fsrLGfu3pe9+K95nXrx4gQ0bNgDaAOzPq1a9WbDzrzrHLn8fuXzlPm5qi5VulPbaSe/dRX6eWrRogdOnT0t1Iu7b1SuX0ahhQ+WimdJ3vuT3CkPqtUWLFjrXqrhPLVq0kM6fPLOBuLz8Wjt0WDOamr7rLL1rkoiIiMgQDLoRERFRrrZg/nzcu3sHC+bPR5Q2nZHyK3O5smXKYLzsC+jx48ZJjT5i0EspSta7o2fPnnB2dgYAdO7cCWXLlMmwcc7BwQEeHh4AgOPHjyMhIUFqKBIdOnxYpwHU1B4kov79v5WWF3vayYN7pspovebU0atEFc6FxgEAqpZ1gPvHmkBI8UI2GN6llE7ZyKcpuHZfkzqtfYPCKF7IBgDwpWdRFC2QB9HPX+OfW690lsmMvOGuT5/e0nTx2lAGHpDBdSSWNaU+ypYpg86dO+lMM/b6VjL12JT7YQr59SL2nMqIMgigGUsIqFGjBsqWKYNf1q7B4MGaXg3G1ouhx2TKeduxY6fUK0fcr6NHg6Rl9TF2/2FCfepjaB3ru29Bdj2l92GAoTI6Fvk+NmrYEA21QQFnZ2dMnTpFKqdkyDk29Phh4jnKiCnry4560sfQaziz+55SVj8zsvocDx48CPfu3sHmzZsAAL169dbbc8pQ+u63YgB74oQJWDB/PgDg1MlTePHiBcqKwSttOsk+fXpLQTBxXadOJuO19ti3L3pT9/rKivLnz49+/frpTBPLyOvQwcEBEydNNPpeou98yZlTr/Lz99lnLaTAasOGDdGoYUO919qp06cxzdsbkG07o6AsERERUWYYdCMiIqJcTWy8dCtXHvUbNJS++k+Pi4sL8ubNK/2eN29euLhoBre/dfuWrOQbT6Ki8FzbM23ujz9K44bIt5dewA4AKlQoDwAIDw/HkydPEPE4AtA2CAJAxOMIPHnyBOHh4Wb3IMmfPz+cixVTTjZbZus1t45ERQvYIK+9lfR78UI2cLB988obEZuCeO04b78djpTGc+sw6bLUU+7O40SpfGYSEhKk81GiZAmdYGdG10Zm15Ep9aFcJ0y4vuWy6thMkdn1YgxnZ2ccPRokNZ7DhHox9JgMPW8ODg7o3/9baTmxrKFjQRm7/1lZn/roq2MxSCL2TJIHSeTBFGMZcyzK69a5WLF0AwSGnmN99B2/secoM8auL7vqSWTKNays44zuI5ntv6F/a3LK7RtD3zkW0xi6lSuPatVrpElzmRUcHBywefMmKdAHWV0pj8fBwQElSpYAtO8FCQkJRpUVFcifH8XSCfor11PM2RkFMrlWlMR3mvSYU6+vXr1CeLgmTfSOHTul60K+HrFO5IFosay+sf1EVlbvR/PZ+7KfREREHzI+jYmIiCjXSkhIwKhRo6UGOjGdkpheKKcQv7C//+ABdu7chavXrqFsmTL4pt83KFumDK5eu4adO3fh/oMHGTaWUe7yvlzfb1tOqZcWLVqk2e79Bw9Qv0FD9OrVW6cRXC6n7H9mlCkmxdSSZcuUQY0aNZTFPyhZfY6yen1ZxdRr+EMxzdtbCuSIKQrFNIZkurdVrzWqV8elfy7qrPuFdrxSfcHjvI72OT6gZWVlibyO9srJRERE9Jbl7DcGIiIiomwk/yL6l7VrpNRNGQkPD8erV2/SD8rXUbFCRVnJN+Rfgovjjih/5F+xKzk7O6NO3ToAgBUrV+LFixeoU7cOqlevhjp16+DFixdYsXIlAKBO3TppUnq9D8ytI1H08xS80vZkgzadZEKyWvq9RGEbOGp7wn3TpjjOr/40zc//Omt6Xhgio94CGV0bmV1HWVEfplzfcqYeW04g31+x18RYbVo7c+slI6acNzGd2T3ZuEOnTp/G6XR6d2Tn/hsjozqGoifUli1bsG7deuAt36OU1618PExzZXT8WX2Osnp9SubWk6HXcGb3PWOY8rdmrIzOcYKsJ/DECROwefMmk3tvKinraey4cTpBTLGulOXk+yT2XjSmrCGU65H3OMwK5tarvPekfFw6+Y/y70cMHt+TjaF3XzZ2n8gmjzUKFciHooXz59ifQgXywSaPtc5+ExER0dvHoBsRERGRbLySqKgobNmyRTlbcv/BA8yTNdjMmz8f9x88yDCtozxotmXLFunr6YCAgEzTGYnatmmj87vYkKZsqFSWe1+YU0d57a1Qr4oTAODa/QT8djgS0Abclu18pFO2eCEbVC3rCAA4cCYWkU9TAACHzj5FncEX4DH8H6PHdBPr/NTp0/Dz04xBg0yujcyuI3PqQx9Dr28lU47tXXGQjSMmb/C/c/curl67hh07duoEhWBGvaTH0PMmTxUo3yd5Wj9lajx9snL/lfuoj7F1LO+lK/Zcye57lHIfxes2KioKM2bMVJQ2jnLdmR0/svgcIQvXpzwWY+vJlGs4s/ueMQz9WzOWsl4MOcfiuIUJCQlScNkU4t+GPOATpU3Leur0aQwcOAgJCQlS6lZlffr5bUrzd2ZM2YzI901cT0JCAubOmWtUgNYYptSr/Pz9/XeAdA1cvnIFNWvVhlu58ggICJCCqG7lyusENOXBXGXKUyIiIiJDMehGREREuZa80U4cz8OQsXLk44Ts2LETAPDZZy1Qo3p1ZVGJOHaImHrLrVx5DBio+Qo/s2Uha7yGdqwbsYFSbFADYFDaNnmD0oCBg0xumFTKivWaU0dfehZF0QJ5ANlYbfJx2uR6tywGB1tLRD9/jQ6TLqPO4AuYuu4eAKBuZSfUqmjcmD8tWrSQxteTjy0kXhsLF8zXu++ZXUfm1AeMvL7TO3+mHtu70qdPbzRq2BDQHodbufL44ouOePHiBfLnz49+/foZVS8ZSa/ODDlvzs7O6NmzJ6C4DsR9LVumDDp37qSzPVFW7b+pDKljkXxfYeA9Kit07txJul+K121W1ZEhx5/V5yir1ycyp55MvYYzu+8Zw5C/NVMYco6Vwblq1WsYPf6Ykr77rfx8iGMh1qheHUO+/x5Q1OfcH38EtD3ExLHnjCmbkYYNG0p1Iq7H3OPVx5h6lfdqE+srICBAuq7FVJHy89eoYUM0bNhQpyeuuB15fSvvZURERETGYNCNiIiIcjVfHx+pIQna8UMCA/6WGmxOnTylU75Rw4bY8vvvUqAL2kYrZboipRrVq+PUyRM624KBy0LRuCQft03e8G9I2jZ5Qym045dEPXmiU8YUWbFec+qoeCEb/DG9GqqWfZOGqmiBPJjR3w0OtrqvvLUq5sXBHz/WKQttusmFP5TXmWaoBfPnpxlzJn/+/Ni7d4/eBk1DriNz6kNk6PWd0fkz9tjeJQcHB2zevElquBaVLVMGfx45LDXCG1ovGUmvzgw9b4MHD5JSmck1atgQBw8eyPBvOSv231SG1rFI3ovGkHtUVnB2dsbBgwd06qhsmTL4Ze2aNPVtLEOPP6vPUVavD1lQT8Zew40MuO8Zw9C/NWMZeo4HDx6kU6ZsmTIIDPhb2h+xV6IxFsyfj4mKsfr03W/Tq/tf1q5Jk1bTmLLp0Vcn+fPnxy9r10iB26xiaL3KA2ei27fvwNnZGUePBqU5f127dtFJV9miRQucPXM6zf4rzzMRERGRsSwEQRCUE4mIiIiIKOuNHTcOO3bsRKOGDbF27Rqp8Y8oJ7h85Qome03GL7+sTRMwMVVAQIDU++iXtWtyXKCWsh/ve0RElJ7klLRZKYiI3nfs6UZERERERETYsGEDPqr0UZYF3ORjMZV9S6kliYiIiIiI3iUG3YiIiIiIiHK5gIAARDyOgK+Pj3KW0RISEtCrV2+dsZh69uyZZcE8IiIiIiKinIpBNyIiIiIiolyuRYsWOuMdZaWuXbsYPHYUERERERHR+4xjuhERERERERERvUPRsS+Uk4joPVS0cH7lJMoAx3Qjog8Rg25ERERERERERERE9FYx6EZEHyKmlyQiIiIiIiIiIiIiIiIyE4NuRERERERERERERERERGZi0I2IiIiIiIiIiIiIiIjITGaN6ebnv1c5iYiIiIiIiIiIiIiIiCjXMTvo1qaFp3Iy5UKHA47xWiAiIgmfC0RERJQRvisQERER0YeI6SWJiIiIiIiIiIiIiIiIzMSgGxEREREREREREREREZGZGHQjIiIiIiIiIiIiIiIiMhODbkRERERERERERERERERmYtCNiIiIiIiIiIiIiIiIyEwMuhERERERERERERERERGZiUE3IiIiIiIiIiIiIiIiIjMx6EZERERERERERERERERkJgbdiIiIiIiIiIiIiIiIiMzEoBsRERERERERERERkVZycjL+8N+KKZMnITExUTk7Sz158gSzZ81EU88maNigLiZPnojY2BhlsSyTmJiIKZMn4Q//rUhOTlbOJiIzMehGREREREREREREiHqeit5z76Gt122dn8BLL5VFDRafpMaIlQ/R1us2fPwilLOz3Nvano9fBNp63caIlQ8Rn6RWzn6vrT8Si7Zet9F77j1EPU8F3vLxBl56qbPtty02NgZjxozC/v370f+7gbC3t1cWyTInTgaj19c9kJScjAMHj+CXX9bh7JkzmDNnVrYFxOzt7TF06DAcPHQIY8aMytYAH1FuxKAbERERERERERFRLhd46SX6zQtDbJxKOQvz/Z9g/ZFY5WSiLLf+SCzm+z9RTn5rXr16BW/vaYiJjsKPP85HuXLllEWyzNWrVzDDxwdlyrpizOixcHR0RLHixeGUzwnXrl7D48fhykWyTImSJTFn9lzEREfB23saXr16pSxCRCZi0I2IiIiIiIiIiCgXi09SY8/J58rJOvadfo4rYUnKyTmOo50llg4tjUOzK8C7TwnlbDKRd58SODS7ApYOLQ1Huw+zSVmlUmHliuW4cD4E33zzLYqXyL7r59mzp5g9aybi4l7gq696In+B/ACA8EfhiH0ai5SUZCRlU083UfESJdD1y244d/YM1q5dBUEQlEWIyAQWghl/TX7+e9GmhadyMuVChwOO8VogIiIJnwtERESUEb4rEOUsUc9TMXrVQ8TGqdCgiqNOsCrw0kup51F3z4L4tnVhXAlLwrTfwpGYIuB/HYviz/NxuBmuCRAUdrLCou9Lw7mANaAN6Hn9Go6b4cloUMUR7jXy6vRkEtcpJ98mAHzkYovZ37lIwR759vu3KYw9p54jNk6Fwk5WmPWtCxZtfyJtT34s8uVE47oXQ/Oa+aTfoe1t5X/smc405X76+EXgTGh8mn3TR16/IuX6ROJ6RRmtP7Oy8u12aJAfNx8m4WZ4MuxtLOD7jQuqu9qlqZPungUBAP7HnumcS33HK5/2dYtC+HFrpLQeZd0jk3qVXydy8u0p91V5rUFxvYnkx5uRy//9h+HDhyJv3rxYtfoXuLi4SPNSUpJx4fwFHDywH2fOnYbP9Jm4fj0UGzf+hnnzFqBe/QY668rMH39sw/x5P6Jq1WpYunQ58hcoAABYu3Y11q5ZjSJFimLlTz/Dzc24nnYqlQqnz5zChvXrUbVaVVSv9jGWLl2I2NinaNmqDcaPn4C8efNK5cPDw/H94AFITEzE8pU/o0rlKjrrIyLjpb1bExERERERERERUa70750EnR5tzWvmw6HZFXBodgW9QaIVe6J1AhyxcSp8v+S+3l5xZ0Lj06QO9D/2TGfMOH3pBW+GJ2Pwkvt6x/hadzhWCmZVdLFDkfxvAjBygZdeYtyaRzoBN+hJnakvMATtfpqSYvNKWBK+X3I/TdpO/2PPdMacE8fTkwfRoD32PnPv6dSnMWVF+8+8kM5T6aI2cCtuo7dO/I8903v8GbkZnozpGyN01nMmNF7n+MytV337qrzW9AXcACAxRcC038L11otIEAQcPnIY8fHxKOvqhkKFCknzUlKSMXHCBIwY8T8c+fMwihZ1RlT0E6xf/ysSEhIQ++ypzroy8/RpLHbs2A4AaNykiRRwe/XqFc6eOQMAKFCwAAoVfLMPhnj16hWmTp2M0SNHwNXVFZ6ezbBw4XxMmDgZvXr3weFDB7Bly2adZQoVKoQypcsgLi4OBw/s15lHRKZh0I2IiIiIiIiIiCgXcy5gjRa1nABtgGLcmkdo63Ubbb1uZxoQsbexwPxBpXBodgXMH1QK9jYWSEwRsCM4bYAF2p5lh2ZXwIbxrijsZAUACL6sGU/qSlgS9p3WpLns7llQp1xsnAoHzr7QWRe0vZ02jHfNMJ1k1PNUrDscA2h7Tm2fVg7bp5XDRy62AICAf+IQ9TwVUc9TEfBPHCDbT3m5S7cTEJ+klq05Y/FJaqw9EI3EFEFnPxtUcQQUAc6f90UjNk6lU5/isSemCFh7IFratjFlRfKyS4eWBgAppah838Z1L6aznKGU5wsAboUnGVyvALB0aGmpp524T0uHlkZ8klo6fw2qOOosL7/W7kWm4GF0is525PWS3jUJAC9fvsS1a1cBAEWLFoG9vb00z8bGFvMXLETrVm0AAG5ubtizZw+Sk5NRrlw51PqkllTWEFeuXMH9sDAAwNo1q1Gvbm3Uq1sbzZt54L///gUAVKlcBU75NSknDZGamorly5bg77/+hJtbOQwYOBhBQYEoVLgQPq7xMfI7adZ16tQpxMVpzgUA2Nvbw7m45pxfuXJFZx4RmYZBNyIiIiIiIiIiolzu29aFpWCQnP+xZ2jrdVun15Lc5w0LSGn7qrva4fOGml47YsBF7iMXW9SvrNmGcwFrVHTRLPc0LhXxSWqE3IiXAlTt62uCBPKAoL6gV4taTjrpBfW5EpYoBakGti8KRztLONpZomYFB3zkYovVI8vCuYA1nAtYY9NENxyaXQHNa+ZD4KWX+NL3bpqeU4aSB4H6tyki7ad7jbwo7GSFVSPLorqrHaKep+JWuCb4Jq9P5wLW6N+mCADgYXQK7kWmGFVW7pPyDjrpFeX7Jq/D5jXz6b0OMpLe+RKZW6/y89fVXROUc7SzRMfG6V9rK3ZH4UpYks620wvKAkBsbAyeREYCAKyt8yhnQ6VKRXxCAvLkyQMrCyt81qIFzp67gK3bths19psgCDh2NAgqlQrlypfH4SN/4VzIRZwLuYiZs+bAysoKVlZW8GzaDBYWFsrF03XxwnkcPHgAAPBZy5aws7XFhQvnpeDdg4cPAAAvnj1DSopuvYvHGxMdhZcv3/Q6JSLTMOhGRERERERERERE8O5TAodmV5B6G8mdCY3X2+utbDEbvb8nJKnTBEIKOVnrHZtM9CBKEwSKjVOh37wwqbedmJYw9qUmOCen3L4xvm1dGEuHltbZp8BLL6XtKtNcZpXmNfNh00Q3KdAV9TwVCdrjUh6Pc4E8Uu/BqOevjSorV8Y5/XpSriejsvoUzpfxeYWZ9Xr/iea6UPbCFNcjXmvVXe3wSXmHNGXTCxjLJSUnS8GoMqXLKGcjOjoGt27dgIOjIyysrNClazejgmKiuBcvEHo9FABQrWo1FNSmkFSpVDhx/DhUKhXKurqievXqiiXTJwgCjhw5jOTkZDg6OqJB/YYICwtD+KNHqFOvHpKSkvD40SMAQP6CBWFjo+lhKBKPNzExEXEv2dONyFwZ3w2JiIiIiIiIiIgoV/m2dWEc0o7jJk8XqK+n2YfkSlgSVuyOkn4f172YThpEMs3brFfvPiXSrPtMaLxBqVIzcvXqFcTExECtUqF9u3Y66SeN8fTZUzx/pknrWadePSlwdz8sDGfPnYWVlRW6d+uBQoXSjp+YnsTERISHhwMAXN3KoayrK/777184OuZF5UqVEfH4MW7fuQMAKOfmhnz58inWQERZiUE3IiIiIiIiIiKiXGz9kVip91DgJd30co52liicT9MjS19PM7EXkvJ3BzvLTNM+Kok9rORjjMl/5L3DTKHsARZ46SW6TL8jjasW9fy1zvhrzWtmXXBCXk9XwpLQZfodqa6dC1jDQdtTTFmf4j7Z21jAuUAeo8oaSrkescdhVjG3XsWeePJx6eQ/O6eX10md6WhniaVDS0vzxXSZ4th9+jjlc5ICaWIqRpEgCDh75jRUKhXc3MqhajXDe6EpiT3qihQpisqVKkvTAwL/xrNnT1GzZk20aq0ZO85QSUmJiInRjHnn6loWjo6OuBZ6DW6urihevAQuXDyPZ8+ewtbWFq1bt0nTQ088XhsbW9jZZn0glCi3YdCNiIiIiIiIiIgoF6tbyRH2NpqG+Pn+T6QAXFuv2zpjb1V0sUsT9Np3+rkUtLoSloR9pzW9ePSVzYy4H7FxKhw4+wIAEJ+kxoiVDw1OE6hPdVd7qbfenpPPpcBh8OVXSEwRMO23cOkYoE1veSUsEQBw9nq8wWOPKbkVt0HpopqAkTzgI45dN9//CQIvvYSzbHw7eX1GPU/FusOaYErpojZwK25jVNmMyPdNvp7ASy9xJjReUTprmFqv4vlLTBGwI1iTahQAfPwi0NbrNkasfIj4JLVOCkt58FgM5upLeSrKly8fihR1BgCkpuqm5oyOjsE///wDAGjdpg3y5s2rMx8Ajh09ihbNPdGqZQucOnlSOVtiZ2srBbfEHmePHj3Evr17ULBgIfxv2Ahp/ampqZg/fx4aNqiLQQO/Q1TUm96Ccnnz5kWZMmUBAGXKlEVs7FPcuH4d1Wt8jKSkROzetQsA0K5de9T+tI5i6TfHW6x4cRQurBkX0MdnGurVrY2hQwYjMVFzzojIMAy6ERERERERERER5WLVXe3wecMCysk67G0s0NU97Vhv8rGzxq15JPW00lc2M/IxufyPPdMJ+pm6Tmh7kvVvowkm3AxPxpe+d9HW67YUXPqkvAOqu9rpBOfE4KOx44/JOdpZYmD7olIgURynThyj7iMXW9SvrOmFNeTzolJgSazPfvPCEBunQmEnK0zuVUIaN82YsulxtLNEx8aacy5fjznHmx5j6lXs1SbW14iVD+FoZ4kWtZwAWapI+fnr2LgAHO0sUb+yo5RWUh48FutbPM/6ODk5SeOoRUU+0Qk03Q+7iydPIjVlanwsW0ojMTER/tu24OXLl3j+/BkWLVqAp0/1p7IsWdIFVatVRdzLOIQ/CseLFy8wZ85sqFQqLFiwCNVkvehu3b6FI4cPQqVS4dKlf7B27WqddYlsbGzRuUsXODg44GhgIE6dCsbTp7GoVLkyFi9ejFu3bqJxoyYYNnwkrK11A+GJiYmIjtYEa6tXrw4nJ009E5HpMr77EhERERERERER0Qfv29aFdcZvk2tQxTFNCj/RuO7FpPR90KaGXDWyrN6yhvDuUwLjuhfTmWbuOgGgec18mD+olNSjT9TdsyC8+5QAtMG5iV+V0CnT3bOgtD8Po1NwL9K41IvVXe2wamTZNPXaoIojlg4tLQXHnAtYY9NEN526hDYwt3pkWZ1eg8aUzYi+OmlQxRHdPU0LbqbHmHqVB84gS2n6bevCafZVTDcppqsU00rq23/5eU5Pu/Yd4OTkhAcPH+Dp06fS9OPBx/H69WuULlMWLiVddJYBAHt7e7Ro2QoODg7Ily8f1Go11Gr9Yx/a2tpi0qTJqN+gAb7/fiA6ftEeLiVdsG79RtT4WDeg51rWFY0aNkaePHng6OiYpgeenLu7BzZs3IQKFStiyeJFSEhIwGSvibhz+xamT5+BufPm6+2h9/TpU9wPuwcnJye0a99BOZuITGAhCIKgnGgoP/+9aNPCUzmZcqHDAcd4LRBRuuLj47F+/a9ITEzCuHHjlbPfO1u3bMGdO7cwYOBgFCum+49B0uBzgYjIeB/a81IuJiYavr4++OLzL9CseQtYWaVt0KXche8KRO+3K2FJmPZbuKaHVPdiRo/RRZQTCYKAJUsWYsvvv2Pc+Ano1q2HskimTp86hY0b12P+gsV6g1ymEAQBCxbMR4EC+TFw4GDlbB2JiYkYO3oknAoUwMyZszN95zp86AB8fKaje48eGDlyjM54b34bN+DuvTvw9vbVWYaIMvbe9HQLDj6OenVr6/x81qIpQq+HKovmaImJiRg6ZDD8Nm6QpoVeD8VnLZqiXt3aCA4+rlOe3m/yXNLij5hnOjuIec7XH9HfhT0riIP9ttUzuDLpp8wxnhX56I2x/khstl53mbl37y6+++4b3L8fhr59+ylnv5c6d+mCvHnz4rv+fRFyPkQ5m4i0op6novfcezrPQflA9cbSd//UNy2rKO/fGcnO/RC9jW28S8r6ftvHy+dl9ipSpCi+/34IfvppJWbPmsGxQYiIiCjHsbCwwMCB36Ne/QbYsf0PREYY/g6ampqKM6dPYfXqn3XGZTPXq1evsHHjb4h4/Bg9e/ZSzk4jMjIC98LCULduvUwDbpEREfjtt/X4tE5dDBz4vU7ALSYmGrt27kDz5p/pLENEmcvxQTcxSDVm9EjlLMTFxaFfn17vzYCOMTHR6NWzBxtocwGxkUhffuqb4cnoM/eeyQ2O6Yl6norBS+4bPAgt5Q4+fhFS7vJ3ITIiApMmjkeRIkXh7e37wfQKs7W1xdD/DUfjxu6Y4jUJV69eURYhyvXWH4mVxpWQE8eLyM4PRIiMxefl21G1ajXMmDkLJ06cwJLFC5GamqosQkRERPRO5c2bFz4+vihS1BmTvCYi4vFjZRG9tm3bit27d2Hm7Dk647KZIzExET4+06BSqTBr9hyDAnnXb1xHSkoyqlStqpyl4+7du5gwYRyKFHWGj49vmnWvXLkcnbt0hbu7h850Ispcjg+6zZs3J9MgVcj5EMybN0c5+b1RpXIV/B1wFOdCLvJG9oFY8MeTDINfiSkC5m6NQNTz96+hobqrHXZOL49DsyswfYSJxBzjh2ZXyDSf+PssMTERs+fMwpMnTzBgwMA0L3DvO2tra/To0RMAMHvWTDx79ibfO1FuF3jpZaYBDP9jz7Kkx3ROuafmlP34kOSWOv3Qn5dKVatWw2ctW2Hv3j3Yu2e3cjYRERHRO1e4cBEsXLgY7dq2xcqVyw3q7NGrV2/M/XE+SrmUUs4ymb29PebPX4T+/QfA3t5eOTsNQRBw/ty5dMeeEyUmJmLdr2vRoUMHLFy4GIULF1EWgbe3L/p8gNkXiN6GHD2mW+j1UAwbOgRxcXEAgIWLlugEpYKDj0s94JycnLB85c+oUrkK/DZuwPLlS1HKpRRGjRkLn+nTpHW079BBbx5aH59pOLB/v/T7sGEjdG4s8nX27tMXc+fOBmTri4mJxqAB3+FR+CNpmVIupbDml19RpEhRnX2VW7hoCYoULSodp/IYlXUgLpNemYWLliAw8G/pWOT1kp2Yj/8NeV5zexsL+H7jIg30G/U8FaNXPZS++pfnPVfOg3ag4EXfl5YGwF1/JBb+x56hsJMVOjYqgHWHNb0EKpS0xe3HaYN88vX7+EXgTGi8NK+7Z0F827qwrLSmkVTZO69BFUedhq6M8rYrtwHFPsQnqeH1azhuhiejQRVHuNfIq7M9ffukj3wfRMp9gWJ7IuXxiAwpK99u/zaFsefUc8TGqXTOk7IOx3UvhuDLr3AmNB4fudhi9nealx55PXj3KWFS3WRU3/quJyiOSbmv4v6JgzjDwOsyPX/+eQTe06agcpWqWLp0OZycnADtS2BkRAQCgwLx999/oVKlShg3bgKsrKwQFRWFKZMnITT0GmbNngsPD8PuK6mpqbh65Qq2/+GPiMgIzF+wEAULFsLNmzcwauRwVPqoMmbNmWvQS6ro30uXMHz40DQv159++qmUm12lUmHKFC8E/P1XmudGbsfnQu6lvJ8q71/ye1eDKo7o6l4w3eeK8plTv7JjpvdPfdMMuacq74n67t/3IlPSfQ7M+tYFi7ZrPrrJ6PkhX7/yuZXRfR16nqP6nmdyhm5Xec6g5xkoMqQsn5ca5j4v5Z48eYLly5bg2LGjSE5ORomSJfHD0P/hsxYtM00blB6VSoXTZ05hw/r1qFqtKqpX+xhLly5EbOxTtGzVBuPHTzA6ACh/LsrlyZMH06fPQMtWrQDZM7Z48RJYtnzlB9uzjzLGdwUiIiIi+hDl6J5u58+dSzfgBgDu7h5YuGgJoE01ef7cOZ35j8IfYczokToBqwP79+ukoxTTV8oDbgCwfPlS+PhM05kG7TrFgBsANG/+md6Am1h20IDvEBMTrTPdUH4bN6Bfn146+w8AY0aP1Ltv0M6TH0tcXByGDR3y3o199z4LuRGvN+AGAM4FrDHxqxKwt7HINOAGALFxKoxe9TBNj7jYOJUUcAOASqXfbENJTHWpbGzyP/ZMZ3wUZYOS6ExovEHjqOhr0AKA+f5P9PZkOBMan2Z7/seeZZpuLPDSS4xb80inARHa7ciXvRKWhD5z76XpcXgmNB69597TqVNjyorWHY6VzldFFzs4F7DG+iOxaY5pvv8TvfWSEUPqxtj6VtK3rzfDkzF4yX3peI29LuWSk5Nx8OB+qFQqVKhQQacB8fSpU+jSpSOWLlmEq1cuIygwEPfDwvDq1Sv4+k7HpUv/6KzLEFt+34yBA/vjyJ+HcfXqFYRe09zzYqJj8PTpU1y+ehkPHz5QLpahx5GP0wTcChYspJOb3crKClWraFI2HDp8EC+eP9cpT5Qb3YtMwcPoFCCdAMjYbsXwkYutFNSo7mqHT8o7AACCL7/SKSs+Uws7WaG6q+FBczlD7qn67omZ3b+Vz4Ei+fUHVgx9bpl7X1cydLvGPAONKStS1hOfl7oyel6KIiMiMGL4UJw5cxorVvyMv/4OQoniJTB92lTs2b1LWdwgr169wtSpkzF65Ai4urrC07MZFi6cjwkTJ6NX7z44fOgAtmzZrFwsU/Hx8YiMjFRORocOn6NZ8+bS7y6lXFC4UGHcu3cXJ0+e0ClLRERERET0PsvRQbe79+4AAOrWqYs6deoqZwMA6tSpi7raeWJ5ubp16uLY8ZM4F3IRw4aNALTpKM9rU1Zu/8MfIedD4OTkhA1+m3Eu5KIUyAs+flxvsKp9hw44F3JRSgd56OBBPAp/pLMtcR2Pwh8hNDQU7u4eOHjoiNTFeNiwERmmkwy9HooNG9YDiu2Jx3Bg/34EBx9XLKXpXXfw0BGdsvoCkpR9HkRpGhpLF7WBW3Eb5WwpPaP8K/MDZ18gNk6Fj1xssX1aORyaXQHjumu++I2NU+FKWNpu7A2qOOLQ7Ao4NLsC/texKDaMd0VhJ82Xzt09C0rpH/2PPcPN8GTY21hg/qBSOuv+906CNLac2NAp34fungXTlNPnSlgS/r2ToLMN+f4oG1FF47oXw6HZFTB/UCnY22gGa710OwHxSWplUUDbqLXucAwg28/t08rhIxdbAEDAP3GIep6K+CQ11h6IlhpqN4x31dlObJwKP+/TBMONKSsnL+vdpwSinqci4B9NgFxfHRoro7oxpL6dC1hj00Q3NKjiCMj2ybtPCVwJS8K+05rgkHitiMvHxqlw4OwLAMCVsETExql0tiOvF7GcPjExMbhz+zYAoEzpMjrzGjVujOATp9G5cxcAwLNnT3H0WBD8Nm7AoEGDcS7kIoJPnDa4lxsA9OnbDyt/Xg1HR0eoVCrcuaPZdsNGjTB06DA4F3VGMWfjvqK/dvWqzu+2traYMHFSmtzsrm5uAIDwR48QFhamM48oN4p6/lr6+KRuJc09SE5MGSjvGeVeQxPIvhWeJAUo4pPUuHQ7AZAFa0yV0T3V1Pu38jmgj6HPLUPu68YwdLvGPAONKSunrCdT6zs9GZ1bQ+o1Jz8voe059tPKFbh79y4aNWyM6jVqIH/+/GjcuAlUKhX27d+X5gO9zKSmpmL5siX4+68/4eZWDgMGDkZQUCAKFS6Ej2t8jPxO+QEAp06dMnrdsbExeKIIutWr3wDDho+EtfWbv2FHx7woUULzdxMScg4qlW7AkoiIiIiI6H2Vo4Nu5nJycsL/RoyU0ol92a27FKALDPwbiYmJOHP6FADA3cNDSsEoBvL0BaucnJzQXTuGj6hP3344F3IRK39eDQAYOmSw3lSSxhB7+ZVyKYWhQ4dJ05XHoNS5S1cUKVIUANC2XbsszSNM2efb1oVxaHYFLB1aGgAwYuXDNF9Vy9nbWKCre+aNU/IGy0/KO0i97upXdsRHLrZITBEQckP36++b4clY8Idm2+J+7ZxeXqfHnpIYSBTLrT8Si37zwtJ88S33kYst6lfWNHDJezlkRN6oNbB9UTjaWcLRzhI1KzjgIxdbrB5ZFs4FrHV6WfRvU0RqqK3uaofPGxYAZA27xpSVa1HLSacBWNw3AOjYuICUcqq7Z0GpkdNQmdWNKfUtJ+850r6+pmHNuYA1WtTSfF2vDHwmysYglI/pp+y9Ivc4/BGePtWMcWYla2QTWVtbo0/ffihevDgAYMuWzahQoSI+/vgTZVGDubm6omABzd/Fq1eaBmoLCwtUqlQJHTp8gfwFNOfTEImJiUh9nYo/tu/EuZCL+HHeAgwdOhzNmr35Sl9kZWkFKysrJCYm4nGkYQMsE5Gu6q72UiBD/NBEfn8Wg3KmyOyeaur9W/kc0MfQ55a593UlQ7drzDPQmLJyynoytb71yezcmluvOeF5eT8sDGfPnYWVlRWaeHhIqSSjoqMAAC+ePUNKStoU4xm5eOE8Dh48AAD4rGVL2Nna4sKF86hSuQqc8ufHA23PcFPWHRkRiR5ffYVTp88hMOg4unbthimTp+pNU2mhPZbIyEjEx6ftjUhERERERPQ++rCDbvmcULTIm4Eg7e3t4Vxc09MhKvIJYmNjEBGhSZt3YP9+1KtbG/Xq1oanR2OEaHvCKXvPKdcJWYpK5bLmELdbokQJODq++Ueq8hiUqc/EHhf0fhFTQLb1uo0vfe+mSduk5GBnmWlDH7TrjX2pafw6ExqPtl6302xD7JnX1b2g9IW4WLbL9DsZ9nCTW38kVlq//7FnytlpFHKy1hkLxRzfti6MpUNLS+uT97JwLpBHp2zZYprehwna3g3GlNU3T0m5Hkc7SxRyyvxcyRlSN8bWt5x4zmPjVOg3LyzNemJfano/iMFZZVl52q70JCUn4/Xr1wCA0qU1wWSlEiVKouYntQAAdrZ2qFqtmrKIURwcHOGsHRMmKloTOE5NTcWlfy+hTds2itIZs7e3x4SJk1C2rCuuXr2C4OBj6NylCywsNH8jcgULF4Kjo6bRNyYqbS8PIsqccwFrVHTRfNwh9uoSAx7ywIopDLmnwoT7d3rPAUMon1sw875uKOV2jXkGGlNW3zwl5Xoyq299DDm35tRrTnhenjx5As+ePUWRIkWkntYpKckIfxQOALBzsEcea93zkRFBEHDkyGEkJyfD0dERDeo3RFhYGMIfPUKdevWQlJSEx480KfPzFywIGxvjAqENGzVCv37fAgBWrfoJzZo1Q3FtjzY5e3t7FC2q+TeVKcE9IiIiIiKinCrjf6W+Y+XcygOKdJBK58+HSEEusfzbNm/eHGkfxBSTYnpJyn3KOGsalx5Gp+BepKaxRu5KWBK6TL+jM47Igj+eSEEwMa2RmALybRG/yJZvNzFFwLg1j9Idp0UUeOml1AAlplaSp2+irPW26ttRmwJOuW7/Y8/Q1uu2QWPhZMTKygqftWoFKysrPHnyBP9d/ldZxCgWFhawstR9rJ08cQLVqlZHwYKFdKYbKjIiAr/9tg6DBn4PW1vjGh6JcivnAnlgb2Ohtzc1ZB+a+CjGC5WnmAyLTJF6ates4JBpYOV997bu67nN26rX7HpeyrNyVKxYSQpShYeH47o2Bb7YO81QiYmJCA/XBOxc3cqhrKsr/vvvXzg65kXlSpUR8fgxbt/RfPxXzs0N+fK9SYduKEEQsG3r7yhRvDjq1quvnE1ERERERPRBy9EtGHXq1ZMGEx8zeiT8Nm7QmR8cfFxK4+jk5IQ69erpzI97GYfoGM14FtD+IzMqUtP7wbl4MRQuXEQaS0A+bpr8x9vbV1peH/k6hw0bgZU/r5bSWZpDDCBGREQgPv7NOB7KY8iKbVHWqlvJUWpsnPZbuE5PsajnqZi7NQKJKQLm+z/B+iOxiE9S42mcJqDV3bNgmi/fzeFoZ4nC+TRfjcvHgJP/KMehaV4znzTP0PFI7j/RBBc/crGF30Q3VM8gFWVWSEwREPVc81U4tI1q8l558gZfeTnI9lXsLWhMWUMo1yM/v1nF3PoWA8PycXbkP5smuukcr7N2vJtDsyvojAm05+RznbRack75nKT708OHD5WzAbEX2qV/pGDWkcOHkJycNV+6v3geh7Cwe3jw4D7qN2ignG2QV69eYfmKpfjmm/56v9IXPYt9KqXFctSTPosot3ErboPSRTX3Gf9jz9L09hE/NDkTGo8RKx9K9xGxt1BsnAqr9kfjYXQK7NMZFy47ZOf9W7lu5XPL3Pt6ejLbrjHPQGPKGkK5nqysb5G59fqun5eRkRG4px0rtFatWlKvs/PnQxATEw1bW1u0bt1Gby/s9CQlJSJG++8jV9eycHR0xLXQa3BzdUXx4iVw4eJ5PHv21KR1i4KCAhERGYkeX32d7vKJiYmIjtbsh7G99YiIiIiIiHKyrGnZzyZVKleBu4eH9Pvy5UulFJD16tbWGTdNPiabKC4uDiuWLpFSMG7/w1/qkda8+Wewt7dHg4aNAADBx48jVPvFaOj1UHzWoinq1a2N4ODjsjVm7MzpU0hMTERiYiK2/r5ZOdsoYsDxUfgjrFy5XJquPAbKeeRjiog9xcR0RPJxROTjg4jEsUHik9TYc/K5zjxTOGrHbwGAf+8kSI1sYm878etreXpLeQOocwFrOGgDgGKKpYzIe/cdOPvC4DFTDCWO+QNFA1bw5Vc6QU55g++6wzFSL70rYUnYd1pTrxVd7OBcwNqoshmR75t8Pf7HnmWaLtRUpta3GBiWB1Pl14DY+0RMySVvoJWn/xLTaulTpGhR6aMJVWraRtTU1FRs2rQRDeo3QIsWmnvZhfPncfLkCdy7dxerVv0ElUqF0NBr6NixA5p6NsH27f4QBEG5KomNjQ2ctOO2PXv2FJs3b0LLlpqedCJD1ycIAjZt2ojU16lwdc04ba9KrYJKpYK9vT3Kl3s3Pa6JchJHO0t0bPxmDEWxt4/4cyb0Te83+ZheOs+su4lITBFQuqgN3IrrT0+YVbLz/m3oc0tk6n1dydDtGvMMNKZsRrKzvtNjar2+6+fl9RvXERMTDXt7e2nM0xfPX+DQoUMAgFatWqP2p3UA7YciY8eMQqOG9TB1spc0tqlS3rx5UaZMWQBAmTJlERv7FDeuX0f1Gh8jKSkRu3ftAgC0a9deWndqairmz5+Hhg3qYtDA7xAVpRlPTp9Hjx5i7drVaNCwoc7zVx9BpTkPZcu6Iq8JPeqIiIiIiIhyohwddAOA8eMnoW6dusrJOurWqYvx4ycpJwPa1JSeHo1Rr25tLF++FNCWr6NdZ9t27VDKpRTi4uLQr08v1KtbG/369EJcXJxOufTIA3fittIb183RMa/Us04MIKYX1KtSuYo0HoJ8vDnxGIYNGwF39zcBScpZxnYrJn3dnJ7+bYrAuYBmLBKxkfFmeDK+9L1r0LhuSvJebfJ0Ru3r50dhJyudAOC4NY+QKBsnR95AKu6DPEhob2OBru4FFVt8Q967T9yGseOmGMK5gDX6t9GkVpLvp9iA+0l5B1R3tYOjnSUGti8qNZSJY6vIj3tsN00aTWPKZsS5gDVa1NI0msnXkx31YEx9i1/pi/Xl4xehExgWrxXxmpOfa33Xjry+W9RySrdxtWjRIqhYsRIgG6Py3r27+LxDW9SrWxvNmrqjTJmyqFe/AVq3bgNbW1skJydj4oRxmDRxPDp17AwrKyv4+29FxOPHSEhIwOrVq3Dr1k3Flt6wsrKCnZ3m7+727Vto2LBRmh5qhq4vKCgQmzf5ISgoEEuWLIJKpcLWLVvQ1LMJjh8/plNW7JngUqoUXF1ddeYR5VbNa+ZDd8/0nxvQ9sBuXlO3oV28v4neRmrJ7Lx/G/rcMua+bghDt2vMM9CYshnJzvpWMqZec9LzEgBUKhWOH9M8b/Llywun/E6Ij4/HwkULcOXyf6hWvQYGf/8DrK016/3nn4s4fvwYUlNTceTPw9i7d4+0LjkbG1t07tIFDg4OOBoYiFOngvH0aSwqVa6MxYsX49atm2jcqAmGDR8prfvW7Vs4cvggVCoVLl36B2vXrlauFtAG/ubOnYM7t29j+rSpuH7jOqKiotC3z9cYPvx/OmNRJyYm4Ik2eFe3br1MA3RERERERETvi+xtxcgC9vb2WPnzamzw2yx9BSpycnLCBr/N6aZ0LOVSChv9fkcpl1LStPYdOuiUL1KkKHbu3ov2HTrIlkxbLiN9+vbTWb6USyls37FLChYGBv4NaI/lq697SeUAIOzePZ3f5fr07af3uBcuWoI+ffvpTKOcxVE7toe+cdnEMdvkDY3fti6MBlXepM8q7GSFn4eXkQJ3wZf1f60sp+xZAG1aJTHVkXz90DZ2ylNZNq+ZL81YJNDuy6qRZTNMyVTd1Q7/6+SsM21c92JSg+ut8KQMx4QzRvOa+aS0l3LdPQvqpMqs7moHv4luaYKfyuM2tmxGvm1dOM057+5ZME3dm8uY+hYbAkVP4zRf23v3KZFmX5XnOr1rB9rtfdu6sHKyxMbGFp9/8QXy5MmDsLD7iIuLw+vXr6FWq1GgQEFMm+aDZs2aAwBqf1oHPb7qCSsrK5QrXx4+vrOkYFnbNu1QoEBBODo6wgIWUKn19xRQ6tDhC3h6NlVONmh9V69ewY9z50ipLv+5eBGPH4cj+PhRJCQk6HwsoVKpcPnyf4B23fm1Pe2ISHNP1PdcsdeOraVMbwxFakr7t5haMjvv34Y8t4y5rxvKkO3CyGegMWUzkp31LWdMveak5yUAqQcaAJQo4YJJkyagWVN3nD1zGv36fYuffloFZ+c3x1alShXUqlUbtra2sLOzS9NrTs7d3QMbNm5ChYoVsWTxIiQkJGCy10TcuX0L06fPwNx585FXli7ZtawrGjVsjDx58sDR0RGpqbrpRaHtDbd82RKcO3sG0GYc+efiRdy4cR3Xr19HaOg1PHz4QCr/8MFDREdHwc2tHBo3biJbExERERERpUeevazL9Ds4e10zbIM8cxm9exZCerm1DODnvxdtWngqJ79zfhs3YPnypSjlUgprfvkVRYoUVRahLHY44FiOvBaI6N1JTk7G5MkTcfrUKSxYsBgNG2l6BZvi7p078PHxxpw5P6Kki4tyNqANgE2Z4oWXL19i7tx5Og2GSoas78WLF/DymohL/1zE3B/n458LF7DNfytmzpojBQwfPXqIH4YMRr58Tlix8icULFhIuZpci88FMkV8khpev4bjZngyPnKxxezvXAwO5BC9r/Q9L0POncXIkcOhVqvx47wF8PAw7H6anJyMSRPGo027dmjVqrVyto7ExESMHT0STgUKYObM2Zn2NhMEAQsWzEeBAvkxcOBg5WxAW+bvv/6Cr683atX+FN9/PwRjx4yGm6srFixaAnt7ewiCgNWrf8aG39Zj3LgJ6NL1S+VqKJfguwJ96JKTk7F3zy5s2rwJEY8fo1z58hg/fiJq1/5UWZSIiChTUc9TMXrVQ73p8rt7FszwYz96u9iKQURE2cLW1hZjx4xH6dKlsfn3TemOL5MRlUqFGzduYPbsmej3zbc6AbLk5GRMnz4V7du1xuX//sPVq1fwNDYWUyZPTTfgltH6lPLnz48FCxbhy27d4DVpAvbs3Y2Ro0ZLDZ+pqanw27gByckp8Jo8hQE3oixw9nq8lF75baSWJMoJ9D0vz58/j9evX6NY8eKoUL6CchG9nj6NxdIli+FcvBiaN2+hnJ1GZGQE7oWFGZTe8dWrV9i48TdEPH6Mnj11M3fIWVhYoGWrVli6bAWiop7gu/7foGzZMpgy1VvKIHLt2lXs2rkTX3zREV907KRcBRGRjuDg46hXtzY+a9EUoddDlbNzrKioKHz//SBs27YNCxcsRmDQcRQsUABTp3jh7t27yuJANh1rTEw0unT6QidbR3Zs52163/ffGO/zsYZeD8VnLZpmOLROVklMTMTQIYNRr25t+PhMU842md/GDRg6ZLCUIju7tpOdcso+v426zI51Zgdz9lMcn1rMoibPLFO2WPaOhU7GYUsGERFlm+IlSmDO3HmIiYnGzJm+ePHihbJIhk6fOYUF83/EmLHj0jQgvnwZh/8u/Yvo6Gh899038PWZjomTvNKM4yaX0fr0sbe3x6hRYxF84jQCAo+hW7cesLKyQnx8PBYtXICTJ4Mxc/YcVKtWXbkoERkh8NJLtPW6jfn+TwBt+r729fMrixF9sOTPS2/vqTh95jQA4OPqH6NY8eLK4mnExERj/LixqFq1GsaOHS+Nx5aR6zeuIyUlGVWqVlXO0pGYmAgfn2lQqVSYNXtOuh+2yNWu/Sm2bv0Dp8+E4OdVa1GiZEkIgoCQ8yGYOmUymjRpgpGjxhi0n0RE75tXr17B13c6wu7dxZSp01ChYkXkzZsXxUuUQHR0NC5d+ke5SLYIvR6Kr3p0w6PwR8pZRJQJH59pWL58qXIymYB1mXUeRKUAADo2LgBHO0s4F7BGRRc72NtYwLlAHmVxeocYdCMiomzl5lYOv/76G0qVKoU1a1YrZ2eoSWN3rP1lHapUSdsgWKBAQdRv0BB58uRBy1atsHrNWri5lVMW05HR+oyxb+9evH6dgl/XbZTG7ySirGFvY4GJX5WAcwE2xlPuIj4vbWxscPPGdeTJkwdt27XPtBcatONU//LrenT4/HODAlmCIOD8uXMoXaYsXEqm3+sb2g9Q5s9fhP79Bxg03nV6YmNj4LdxA374YSi8Jk81a11ERDmVIAhYu3YVzp09A/cmHqhR42NAO9ZlWNh9AEB8OhlA3N09cC7kIv4OOIoqlasoZxNROuzt7bHy59U4F3IR3t6+ytm5Guvmw1LGmb3Z3hcfZNCtT99+OBdyETt37+V4bkREOYCjoyP+97/hGDduvHKWyaytrTFh4iScPHUWs2bNReHCRZRFss1XPXti8pRpKFasmHIWEZmgec18ODS7Ag7NroCd08ujuqudsghRruDo6Ig5c37EmbPncfLUWbPGQ82IhYUFpk6bjvXrN8DJyUk5O1sUKVIUy5atwGctWxkUSCSiD4ffxg2oV7c2unT6AjEx0YAivZY85ZiYDrFe3drw27hBZz0J8QnSMsr1ieTrFX+Uqe18fKZJ2131809SOXF7hqwjPffu3sXhQ4dhb2+PLzp1lu5398PCEHZPk1bSMZ0ew+mlEhTrT/6jrBslv40b0K9PL8TFxQEAxowemWa9yMI61Udez4ePHDJo/8U6EH/07XN65OkMxR/5tQUDzr0+hqxXfu4uXLhgdJ36+EwzKh2jcnlDlhEZcjzKfRHrTTxG5TlR7s/QIYOREJ+gUyYzKpUKJ04GY+CA/li8eAH++vNPdGjfGg0b1MW0aVMzHK4ivXR98vuJ+KPvfMiJyxzYvx8AEHI+BJ4ejfWmAVRer/quI2UZZV1nRF7v4o++VLH6fsTzpK9uMjq/4v4prxP5sSmXF8nr28dnWpbXZWb1YazM1qesO0P2UV5GPAfy+05m5165DeUyYgrJPSefIz5JjajnqbgVniRbA+UUH2TQjYiIiIiIiIiI3r069erByckJcS/jEB0TAwAIux+GGzdvAABu3LyBsPthAIDQ0FA8Cn8EJycn1KlXT1pHXFwchnw/ECHnQ6Rpj8IfwXvqFKlBMiYmGr169tApA23ASV/jaMj5EKxb9wsASNszdh1ygiBgx84dePbsKSpW/AiVK1eW5p05exrx8fHIkycPSpcqpbNcRvw2btCblm358qWZ7k9msqNO9Qk5H4JpUybrTFu+fGmahncfn2kYM3qkzrS4uDj069Mr022FXg/FsKFDpCCjKOR8CMaOHpmmoVvfudfH2PWmV6eDBnwnBXr01emB/ft1gqQZ0bc8DDwnxh4PtOsVgybQHuOwoUOkwJu+/Qk5H4Ih3w9Ms530vHr1ClOnTsbokSPg6uoKT89mWLhwPiZMnIxevfvg8KED2LJls3KxDMXERGPQgO/SpFdVng9THdi/P831unz5Up2gjd/GDWnKhJwPQa+ePTLdvo/PNJ16F40ZPdKsQJOS8vyGnA/B1z27p7lOlMeWlQypy6yuD2PXl94+yv/mlOdbvH/p244+yuWh53qpX9kRH7nY4mZ4Mr70vYt+88IQG6dCYoqAkBvxOsvSu8WgGxERERERERERZQvXsq6o9FElxMXF4fy5cwCAmOhoqUE3Li4OMdGaBsWwe/cAAJU+qgTXsq6ytQB169TFseMncS7kIoYNGwEoAnYrVy7Ho/BHKOVSCgcPHdEpt2vnDr2N3MOGjdBJ6WjKOkTR0TE4feokAOC///5F82YeUm+Ftdo0+8WKFUdZ14xT4osSExNx5vQpAED7Dh1wLuQizoVcRPsOHYBM9qdP337Y4LdZ6s28cNESvWkrs6NO9dG3/8HHj0uBm+Dg41LDtHhO5GU3bFifpneVnP+2LYiLi9PZjr7jkVOee31MWa+8TsX9fxT+CKGhmv0/dPCgFAhauGgJzoVcxMFDR1DKxbBgrDnnxJTj0bcd+d+yuceTmpqK5cuW4O+//oSbWzkMGDgYQUGBKFS4ED6u8THyO2nGeT516pTBQTwoAvgb/DbjXMhF6W/iUfgjHDp4ULkIoO2Zv3P3XunciedTX2pGfccbGPg3oA1wbtiwHpBda2K5jLYP7bLBx4/r7Lu+bYgpaZXnEuncQ/URz++x4yeloTPCw8Ph7qFZt/w+It6fDZWVdWlIfRjK1PWJ+yivkzOnTyExMRExMdHYtXMHkM59NTOGXi+OdpaY3KsECjtpelHb21hget8S+MjFVhrvjXIGBt2IiIiIiIiIiChb2Nvbo0FDTbpcsYFS2agZGPi3TpCpQcNGacZ+/OrrXtI0qfecNmAXExONf/+5BADo3KWrNNRI23btpEZLMeghKuVSCm3btZN+N2UdctevX0NExGPkyZMHS5eukBrCd+/eh5IumvEza9WqhaJFjU+Lf2D/fqlHhbe3L85l0ZAqWV2n+pRyKYWhQ4dJvw8dOgylXErpBG7E66Funbr4slv3DMvqI9aJt7cvYrQp7fT1EBQpz316jF0vFHXavUdPnTTO8mu8bp26qKMNchQpUhSjxoyVyqXH3HNiyvHo247I3OMBgIsXzuPgwQMAgM9atoSdrS0uXDiPKpWrwCl/fjx4+AAA8OLZM6SkJCuWzlxcXBwmT5yAmJhoVKlcBX8HHMW5kIvo07efsqhRlMf7Sa2aAICoyCdITEzE+XPnEBcXp3OtFSlSFJ27dAVk90J9xP0UA8J+GzegXdvWUnBTn+Dg49K5LOVSCj4zZqa5h+ojnl/5fdrJyQnde/QEZB9NAMDde3d0ls0qmdWlKfWREVPWJ9/HKpWrwN3DQ2e+GOSF4h7wZbfuUjAzI8ZcL84FrLFpops0NEP9yo5YOrQ0vPuU0FknvVsMuhERERERERERUbZxdXMDAERERCA6OgpRkU8AbQ8oaBtXo6OjEBERoTfdn5OTE4oUTT/AFB0Tg7iXml4wy5cvlXqYyRtSlb00SpQoAUfHN+OrmbIOuZCQc1CpVChWrDjKV6goTb9y9QqeREYiT548+OyzVrCwsNBZLj329vb46ute0u/iPmU2JpWhsqNO9VHWs6NjXpQooWkcvnvvDhITE6Xrwbl4MZ1AgbJsesQAknL/0qPcp/QYu97M6lROeaxFihbVCdDpY+45MfZ4IPvbzYwpxyMIAo4cOYzk5GQ4OjqiQf2GCAsLQ/ijR6hTrx6SkpLw+JFmH/MXLAgbG1vlKtJVp05dKdjxKPwR2rVtjXrpjMNlCuXxKonXq3zb9erWlgJjERERiI9Pf5w6P9lYjpkFRmNiorF44QLp91FjxhockNd3fp3yOaFoEeM/DjBVZnUJI+vDEMauz5B9hJ57gL29PZyLF9Mpo4+51wvlPAy6ERERERERERFRtqlSpYrUE+fggQO4cfMGSrmUQo8eX6OUSyncuHkDBw8cwKPwR2+9wTcrpKQkI/xROACgUuXKKFy4EAAgOTkZBw/uh0qlQsNGjVD7008VS2ZMTB8nT1EmNsoOHTI43Z4yuUliYiK8p06RAkhi6kRD07qlJ7vW+67kxONJTExEeLjm78bVrRzKurriv//+haNjXlSuVBkRjx/j9h1NMKKcmxvy5cunWEP67O3tsfLn1WlSXYrBSn3jduUU8l5rYgpE5XGIlOd12LARcHfX7YX1vjOmPgyR1esj0odBNyIiIiIiIiIiyjbylGHr1v2CuLg4fFKrJipXroxPatVEXFwc1q37BQDwSa2aBvfSEBUtUgRO+TS9auRjgsl/MksnZ846VCo1kpM0AbC6devBykoz3s7NGzfw76VLcHJywrff9IetreE9deT69O0n7cPCRUsAACHnQ3D+fIiyaJYxpz7klD004uNfISIiAgBQzq28Tk8QMZ1cemX1kZdZuGiJ3vGiTJFd6xUpj1U+zmF6zDknOfF4kpISERMTAwBwdS0LR0dHXAu9BjdXVxQvXgIXLp7Hs2dPYWtri9at2xjcS1SuiHZcsXMhF3XGLdv6++ZsDVqL12sp2Zh48p+M0sOKvRXr1qmLffsPpTvmIABs/8MfIdr7gDI964fCmPowRFavT05MzyuS9+TNiDnXC+VMDLoREREREREREVG2at78M53fxUZGZTBFWc4Q8qDerp07pPSLwcHHUa9ubXzWoilCr6c/1hXMXIeVlSVs7TSpx4pqU4ulpqZi67bfkZSUhG++6Y+q1aorlsqYPBWgj880abo8bV9GqQTNZU59yD0Kf4SVK5dLv69cuVzTo1GWRlQ85yHnQ7D9D/8My2ZEHBsuJiYau3buUM42WVatVz5uljxoqkwPmJ6sOifZdTziuTP0ePLmzYsyZcoCAMqUKYvY2Ke4cf06qtf4GElJidi9axcAoF279qj9aR3F0hkT0wfK60Qe4FUGg7OaOEbio/BHOHTwIKANwAwdMjjN33R6bty8gbD7YQCAQwcPpkkHauo4buaSB3/lwUvx7zW7ZFYfxsrK9Ym9uaGoE3lQNCNZcb1QzsKgGxERERERERERZSt5o6Q8iCI2NkLbcFylimm9Drr36Ck1Wopj4owZPRIA4O7hYVBvBlPXYWNjiyZNmsDKygq3bt5EamoqNm/2w9GgIAwdOgw9v+5ldC+dIkWKonOXrgCAA/v3S2P89OvTC3FxcSjlUgpt27VTLiaRN4yPGT3S4ICMnKn1oSTf/wP79wOK5d3dPaTx/eRjlYllvaf7prsteSBK3I6h45VlJLvW27ZdO+nvYMzokdJ6BQiZjoEGM87J2zge8dwZul4bG1t07tIFDg4OOBoYiFOngvH0aSwqVa6MxYsX49atm2jcqAmGDR8Ja2tr5eIZEvcrLi4O/fr0SnNNde7SNcOeQ+LHACHnQ+Dp0djooEeVylXg7qFJ8yjWi6dHY4ScD4GTkxO69+ipXEQi3hPl+65v3DExeAo9Y4HVy8Lx65TkYy2K9SOvWyVz69LQ+jBUVq8Pivu1vE42bFgPFxcXZfE0zLleKGdi0I2IiIiIiIiIiLKVvKFWPm6bPDhkSmpJUZXKVbBv/yEpfZxo2LARBqfSM2cdX3TshP8NG4HNm/3g3qQhTgQHY8XKn9Grdx8p3aSx+vTthw1+m9MEY+rWqYvNW7ZlWFfyRmDoSXtmCHPqQ1S3Tl38vGqtzjHoW97b21dKnSly0o63lNkYVePHT9LZx7p16mL7jl1S0OX8uXM65Q2VHestUqQoNm/ZprPeYcNGYPbceTrl0mPOOXlbx1PKpRQWLlqS5rrVx93dAxs2bkKFihWxZPEiJCQkYLLXRNy5fQvTp8/A3HnzkTdvXuVimSqiTSspBnPlFi5akm4aTpE8mAg96TMNoe+aLuVSClu3/ZFucBTac+w9XfdcLly0RBp/799/Lkm9HN8Fe3t7LFi0ROecOzk5YeGiJTp1JjK3LrO6PrJ6faI+ffvpnG/xXNesVUunXHpMvV4oZ7IQBEFQTjSUn/9etGnhqZxMudDhgGO8FoiISMLnAhEREWWE7wpEHzYfn2k4sH8/6tapiwWLlryVtHfvs9DroRg2dAji4uKwcNGSTAONH5rExESMHT0STgUKYObM2SYHqolyGt4Lcyf2dCMiIiIiIiIiIiLKZj4+06T0f8HBx6Xp58+dk9KGmppi9X0WGRmBe2FhqFu3HgNu9N4JvR6Kz1o0Rb26tTF0yGCpJ19MTDT+/ecSAKBBw0YMuOUiDLoRERERERERERERZbPmzT+T/l8c000+ppQ5KVbfZ9dvXEdKSjKqVK2qnEWU47mWdUWljyoBijHdxPENnWTjmFLuwKAbERERERERERERUTZzd/fQO04fDByX7UMkCALOnzuH0mXKwqWki3I2UY5nb2+PlT+v1juGIMdly504phtlCebjJyIiOT4XiIiIKCN8VyAiIiKiDxF7uhERERERERERERERERGZiUE3IiIiIiIiIiIiIiIiIjMx6EZERERERERERERERERkJgbdiIiIiIiIiIiIiIiIiMzEoBsRERERERERERERERGRmRh0IyIiIiIiIiIiIiIiIjITg25EREREREREREREREREZmLQjYiIiIiIiIiIiIiIiMhMFoIgCMqJhvLz36ucRERERERERERERERERJTrmB10a9PCUzmZcqHDAcfQvVNb5WQiIsql/Hcf4nOBiIiI0sV3BSIiIiL6EDG9JBEREREREREREREREZGZGHQjIiIiIiIiIiIiIiIiMhODbkRERERERERERERERERmYtCNiIiIiIiIiIiIiIiIyEwMuhERERERERERERERERGZiUE3IiIiIiIiIiIiIiIiIjMx6EZERERERERERERERERkJgbdiIiIiIiIiIiIiIiIiMzEoBsRERERERERERERERGRmd550C3w0ku09bqNtl63sf5IrHI2AGD9kVipTOCll8rZZotPUmPEyofpbj87XAlLQpfpd6Tj6j33HoIvx0vTjD1O+foyWzbqeSp6z72XYZ0TERERERERERERERGR4d550K26qz0KO1kBAC7dTkB8klpnfnySGpduJwAAPnKxRf3KjjrzzRX1PBWDl9zHzfBk5axsE5+kxtoD0UhMEaRphfNZw97GQqccERERERERERERERERvR/eedDNuYA1KrrYAQAeRqfgXmSKzvx7kSl4GK2ZVrOCAxzt3vkuZ6kGVRxxaHYFLB1aGnUqOWDn9PI4NLsCmtfMpyxKREREREREREREREREOVSOiGC518gLAEhMERD1/LXOvJAb8UhMEWBvY4G6ld70cvPxi5BSM2aUJlGemlJM4xj1PBXQprbsNy8MsXEqAID/sWdp0jMq00Aq50O2jd5z7+GP45p1tPW6DR+/CJ1y0K6vz9x7Us+6M6Hx0v5nlCLS0OPVR75s77n3EK09fiIiIiIiIiIiIiIiIsoaOSLoJk8xGXz5lTRdnlqydFEbuBW3kcZfOxMaL5WDNmCmDHL5+EXA/9gznWmxcSp8v+Q+roQl6UzXZ/2RWIxb80gnDSQAzPd/kmZb0K573eE3wTAxmGgOY45XSd+ysXEqjF3zSAo0EhERERERERERERERkflyRNBNnmLyVniS1BMtPkmN2Jea/xdTS/ofe4ab4cmwt7HA/EGlcGh2BYzrXgwA8O+dBCmYFnjppRRs6u5ZEIdmV8D8QaVgb2OBxBQBO4KfoXnNfNgw3lUK+InlmtfMhythSdh3+jkgSwF5aHYFdPcsCGh7qCl7oynL6ksRWd3VDn4T3fCRi61O+W9bF1YWBbTBNUOOV5+z1+OlHnXisW2fVk7aNhEREREREREREREREWWNHBF0g6xXWGycClfCEgEAV8ISERunklJLynu+fVLeAdVdNYG6+pUd8ZGLLRJTBITc0ATaxB5zH7nYSoEyt+I2KF3UBt09C8K7TwlkRExrWdjJCkM+LypN7+5ZUApayXvlAYC9jQW6umu2lRWMOV59xP0r7GSF9vXzAwAc7SwxsH1R2NtYKEoTERERERERERERERGRqXJM0E1fiknxv/LUkmLPN3EstLZet/Gl712pR9eDqBRpnUqOdpZYOrR0ur3K5MT1FM5nDUe7N9XkaGeJQk7WAICncamIT1JL8xzsLOFcQDMvK5h7vCLlMTgXsIaD7HciIiIiIiIiIiIiIiIyT46JvChTTF4NS8KtcE3qRDG1JBERERERERERERG9WyqVCr6+PlCr33RIICKiHBR0gyLF5PbgZzqpJaHtZVY4n6YnmXzsNPmPMm1k7Evd3mg+fhEYsfKhzjR9yjjbAHqWj09S42mcpvdZISfdHmRZzZTj1Ud5DFHPU5GQyfETERERERERERERKalUKvzvf0Nx+b//MHToDwy8ERHJZF/EyATyFJNnQjVjlYmpJaENQtWs4AAA+PdOAq6EaXrCXQlLQpfpd9DW6zYCL70EFAG8A2dfANpg063wJNwMT4bXr+EZBt7qVnKEvY0FYuNU+HlftDTd/9gzKbWjuI3sYszx6iOvA/EY4pPUWHsgGokpgqI0ERERERERERERUfpUKhUGDhwAezt7/L5lK54/e4ZOHTtCpVIpixIR5Uo5KugmTzEpUqaWbF8/Pwo7WSExRcC4NY/Q1us2xq15hMQUAR+52KJ+ZU2vuOY186FBFc3/+x97hrZet9FvXhhi4zQPgI6NC8DRzlKnN5lYLvDSS1R3tcPnDQsAivHU/I89AwB09yyI5jXzafcq+xh6vPrUr+yIj1xsAdkxyMeDIzKFIGR9wDY71pndBEHI8v3O6vW9DVm5z1m5LiKityW77l3Z8ZzJbm9rf9/HL6mzsm6ycl1ERERExvrjjz9QIH8BzF+wAHny5MHm37fAzc0N+/fvUxYlIsqVclTQDYreY/LUkiLnAtbYNNFNCqiJGlRxxNKhpXUCdN59SqC7Z0GdcvY2Fpg/qJQUMHO0s0THxprgmuj+kxQAwLetC2P+oFKwt7HQmT+uezF827qwzrTsYszxKjnaWWLp0NI6y9rbWGBc92JSj0IiQ6nVagwY8B2me3srZ5lFrVbDa9IkbNu2TTkrxwoPf4TWrVrh77//Us4y2bGjR/F1z6/eq4bE3bt3oVmzplmyzy9evMDXPb9CbGyschYRUY6kVqsxw9cX3tOmZXkQRBAETJo4EWPHjMmSe2x2y866UFKpVJg6ZQrOnTuX7dvKCoIgYIavb5Y9L69cuYKvenTHs2eaDwGJiIiI3rYePXpg0eLFsLLStC1aWlpi8ZIl6Nixk7IoEVGuZCGY8a9VP/+9aNPCUzmZcqHDAcfQvVNb5WT6gAQGBqBd27bo268fVq9eAwsL3WC0KdRqNXr3+hp//vknXr16hY1+m9C9e3dlsRxFEAR8//1gbPjtN/ht2oxu3bopixgtKCgQ3bt1Q6FChVC7dm1s2vy79PKaUyUmJqJZU0+8fPkS/12+Ytb+Pn4cju8Hf486derg6LGjWLv2F5QvX15ZjN4z/rsP8blAH7TTp06hWbOmWfpchPbZOGzY/3Dq5Enkc3JCtWrVsHLlT7C0TP9Dq3ctu+pCSaVSYejQH2BhYQH/bdtw6PAR1K1bN9u2lxXOnDmDpp4eKFeuHK5cvWbWebxy5Qr69O6FJu7uuHr1Kn755VeUK1dOWYzovcF3BSJ621QqFSwsLMx6HouuXLmCatWq5ej3EDmVSgVLS8ss3V9BEKBWq81qD3jbVCrVW9lflUoFQRBgba3JrkZEuYv5Txki+uCpVCrMmT0HAPA4/LFytknUajVat2qF8MePEfkkCgcOHsSE8eOypMfb1atXlZOyTGBgADb89hsA4NnTp8rZRgsMDEDbNm2wavUaXL0WiipVq6JH925m50JXq9XZ1gNAEASsXLkCly5dwqNHj5SzjXLr1i10+/JLjBg5Al6TJ8PTwxNfdu1i9vETEWUnlUqFn3/+CdA+F7PqfqtWqzFl8mTcunkLfps24w//PxAdFYX+/b81676YFT2s0pNddaGkUqnwXf9vYWtjixUrVuKnn1fhy65dERgYYNY2s7Nu1Go1Vq36GQAQHh5u1n5evnwZfXr3woKFC7FkyVJ4eniia5fOZl0XREREuYlKpYKnpwemTZ2qnGU08UMYXx+fbH2XyCpBQYFwdLDHn38eUc4yiVqtxqGDBzBl8mS0bdMG48aORVBQYI6uC0EQMH/+vCzLPpARlUqFCePHY9SokXxXI8qlGHQjogwJgoCZM2cgf34nQJta0ZxGI1FMdDRKliyBwMAgWFtbo1mz5li6bJnZ6xd7z6WmpipnmU2tVmOylxfq1qsHAHj23PzUTsHHg7F9xw506dIF1tbWmDJlKmp8/LHZaaP+/vsvzPD1VU7OEqGhoVj1s6YRMTk5GdFRUcoiBouNjYXvjBlo3rwFrK2tMXXaNHTq1FlZjIgoR/n999/x6tUrQPtczCqWlpb4+JNPsPn331G9enUUK14c/n9sR7ly5Uz+IlsQBLRu1QqBgQHKWVkiu+pCycLCAuUrVMDSZctgZWWFHj16YM/evUhNTTXri+0Zvr7w9fFRTs4S+/btQ8TjCED7vIyJjlYWMdirV6+wYOFCNG/eAlZWVnxeEhERGUEQBGzcsAHnQ0LwyMw2BzHg9t13A3DixAnM8PXN9iCOOdRqNRYvWgwAePbsuXK20ZKSkjDZywudO3fG3bt30P+777B8+TK0bdNG+kA5J7p79y6WLV2GiMfZ95EYtAG3IUO+h6WlJZ5ERuJ//xvKwBtRLmTav96JKNe4ePEi/vD3x/ffDwG0X2pnBedixbBho59ODvAvvuiIUaNGm9V4Bm1QyNx16LNy5QqkpKTg22++BQA8f/bc7Je1ad7e6NDhc2l/LS0tMW2aN4oUKaIsapSkpGQIMG/f9FGr1Rg0aCAuX7kKGxsbAED4Y9N7PzZo0AAtWnyme/ze3m8l3QMRkSliY2Mxa+YM/PDDUCALejApffXVVyhatKj0u/hcMPe5Zu7y+jx9+jRb60LO0tISU6dO05lWq1YttG7dRmdaTqFWq7FkyWIMGjwYdnZ2AIBHZrxDNWzYkM9LIiIiE927dw/Lly8DAOmDGFOIAbfly5dj6P/+h4OHDuHY8WMYN3assqjBBEHArl27lJOzzOZNm6Qebs/N/Lg3MTERTT09sHjxInw3YAA2bf4dX331ldReNGvWTCQkJCgXM4harc624JRarcbKFSsQHR2VZW1a+qjVanzTry+Sk5MxZ+5cbNm6DZaWlhgw4Ltse0cmopyJQTciSpcgCJg9ayaGDRuOctoxtuLi4vDixQtlUYOpVCqo1WqkpqZK/xVfPsSc1+K8nPRSEh8fj3Fjx2LBwoVwyp8fABATG6MsZhC1Wi39CNoc6PKXS3GeWA+mSEpKUk7KEr4+PqhQoQKsra1RrFgxADA5xaRKpdL5SU1NRWpqKlQqFV6/fp0tvRWJiMwhCAK6dOmMUaNGw007llZcXBzi4uKURc0iPgPEe6Kpz4LsJAgCOnfulG11IQhChscu1o85z8rstHjxIlSuXBmff/45ypYtC/B5SURE9E4IgoARw4ejd58+gHZMcVPbGqpWrYpFixejibsHLCwskCdPHvz119+YYkbKSrVaDe9pU7PlfSYhIQGjRo1Ehw4dADOz9QiCgOXLl+HSpUsoVKgQJkyYIH3807JVS0D7rhNlYiac7du3o3evr5WTs8SePXtw+fJlQFvfERGmfzicEUtLS3w3YADWr/8NVlZWsLKywvLlK/Bd/++y5QM4Isq5GHQjonTt3LkTjx8/xoCBA6UACwA8NrFn019//QlHB3s42Nshr6OD9N/U1FQEBPydZp4p6Z6y40VVrVZjurc32rVrh2bNmiNvXkcAwNPYWKNf1gVtmi8HezudnzatW0tBuDatW+vUQ0DA38rVZMrY/TLEw4cPMXfuHAwd+j9YWFigRMmSAIBwExoR1dox/Rwd7KWfvI4O0k++vI5o26ZNthwHEZGpNm7YgJTkZAwYOBDFixeXpmfVF7MqlQq+Pj7w9PRA+XLlkNfRAaVLuWDkiBG4d++esrhBBEHIlntpdtaFWq3GjBm+cHSwx82bN9PM27ZtGxo3agjnokXQoX17bPjtN52PV4yRHQ0gjx+HY7KXF/r3/w6WlpbIX6AAwOclERHRO/HHH3/g7t07GDLkB8CM9gxogyrNmjXXmWZlZYWCBQvqTDNWdrRjCIKA+fPmocPnn6Prl90AAM+emh50CwsLw08rNeP4tmzZEqVKlZbm3b17V/r/aDPSaWcHlUqFId8Pxv4DB5A3b14AwGMzejtmpmnTZjpp4S0tLdHE3V2nDBF9+Bh0IyK91Go1Zs7wxfARI2FlZQU7OzsU0aa7MnXMljx58sDLazK8vCZL0yZ5eQHaRq8JEyZqpk3ygpfXZJMawkwd8yYjFy5cwPLly+A93QcWFhZSWsWo6GiTXo6bNGmCSZM0xw0Anp5N0bhJY+n3xo0bw9OzKdzdPTDJy8uk1FGm1F1GBEHAd/2/xciRo/Dpp5/CysoKLtqgW2RkpLK4Qe7cuQ0AmDx5Ctau/QUHDhxE5cqVpfnufDElohxErVZj8+bNep+Ljx+bH2h6/fo1evf6GrNnz0IpFxfs278fV6+Fon79+lizZjV6ftXDpF5kFhYWWf5MyO66uHDhApYsXoylS5ehUqVK0nS1Wo0Zvr7o17cP/v33XyQkJODo0SAMGfI9/DZu1FmHobI6WCUIAqZOnSo9Ly0tLWFrYwuY+LwUBCHN83L//gN8XhIRERlArVbDZ7o3Zs2eg9gYTaaa+Ph4o8dQFwQBTyIj8e+//yIwMACBgQEICgqESqXC0aNBiI+PN6ltQJSSkqKcZLbbt2/D338bFi5chCdPNO8gT589NendRxAErFi+HJGRmmBVy5atpLYXQRBwPiREKmtOPWSHPr17YfDg72FlZQVnZ2cgiz4Sg/ZYL1++rPfjL0EQEBsbiwsXLuDevXvMTECUy2R96zQRfRCWLFmMT2rWRI8ePQBto10pFxcAwIsXxjf6QfvFzzRvb0yZOhW9evcGAMyZPRsrVizHpUuX8OOPc7F06TJM8/aWft41tVqNsWPHYMyYsfjkk08AWUDrwf0HRjdkWlhYwHv6dEzz9pbWd+zYUbT8rCUsLS1hYWGBNm3b4tixo5jkNQne3tPRtGkz5Wreuj//PILY2FiMHj1aerl2cSkFACalGxUEAREREfhuwADpetiydQuuX78OAOjRowemTJ1qdP0SEWWXAQO+Q4mSJbL0uShSq9Xo26c3du3ahWrVqsFv02Z8/PHHKF++PIYNHw4AuHTpEg4fPqxc9J3I7rrYt3cvKlWqhO8GDNB5DmzetAlz5sxGy5atpHEyBg4aBAA4f+F8jmjkOXz4EC7984/0vJTvvynPSwCIiIjAiBEjpefl1m1b+bwkIiIywMKFC1C5cmV88cUXcJZl74mIMK6nkyAI6N27N+rXq4t2bduiXdu2eP36NapWqYw2rVvDpWQJDBo0UG/wJTNqtRrJyVkbdEtNTcXSpUswc9ZsFC5cGHHa97NnT58qixokLCwMK1euAAAUKlQILVu1krIpqNVq6b0EgE6WJGOYEgzMzKlTp3Dx4kUMGDAAlpaW0jWQFR+JQduWU7fOpzh75ozOdLVajTWrV8OlZAk0btQQVSpXwheff46dO3fqlCOiDxeDbkSURmxsLJYsXoLhw0dA0I6polKpkC+fEwDgxfPnykWMYmlpiTVr1qJ16zYAgEkTJ8Jr0iT4zpiBgYMGGdRwdPnyZQQFBab5OXo0CABw9GhQmnny+YZavHgR8ljnwXQfH7x+/RoqlQo2eTQ93Z48iTR57DQLCwuMHTde+n3Vqp+h1qaXXL16FdzdPTINtgmCIH1hp/wRX/aV08UfYxom1Wo1On7xBYYPH4HCRYrg9evXUKvVyJcvHwDg+YvnJr8g165VGwCwZvVqbPLzAwBUr14dc3/8MVt6LRIRmSLqyRP8/dffGDFiZLY8Fzdv2oRdu3YBALp17w5ra2tp3ongE9L/35A1aCjdvXs3zb1e/IE2tY5yelBQIAIDA4y6h2d3XQiCgHXr1+HLbt106uFJZCR8fX3QqVMn7Nm7F6NGjUbnzp0xdcpUFClaFDeu30j3/UGtVqc5bnndZDTfmOfl69evMXv2bOl5KY67VqKEJv3m8xfG1414btq01bwz8XlJRERkmKgnTzDvxx/h4zsDlpaWOhlkTAm6TPKahJXa9IoA8E2/fpg3fz48PDyRlJSETX5+JqUDt7S0REpKsnKyWQIC/sbzZ8/QsWNHAJBSgT+Jisrw3UatHV9e6eSJN++j1avXQO9evdCqZUu0atkSbVq3xq1bt6T5Ym8yY6X3HmcqQRCwZs1qTJk6DaVKl4aFhQVKl9J8OPwk8omyuNFev36N2bNmY+zYcWjQsKE0XRAELFu2FCNGaD6cEwUGBuCvv/7UW79E9OGxEIz5V7aCn/9etGnhqZxMudDhgGPo3qmtcjK9hwRBgK+vD+bMnq2cJZk5axbGjh2nnGy0u3fvok/vXrhw4QJq1aqF3zZs1EkjlRFfHx8EBwcrJwMAgoOPw93dQzkZAFC6TGmsW7deOVmv+/fvo9JHFZWTdVz85xKqVq2qnGwQtVqN8uXcpK/sLv37H6ytrVG9WlX8vmUrunTpolxEh0qlQpvWrZWTDbJ6zRqUK1dOOVmvqVOmYP78ecrJkrZt22Hnrl1GvSQLgoCgoEDUrv0pLv/3Hz7/vIMUwNyzdy9attR8OWdKak3KGfx3H+JzgT4I2f1cFAQBTZt6Sl/I/vvff6hUSZM6UK1Wo0f3bti3bx8AYPeePWjTRv/f1ZrVq/HHH38oJwPaRoyMXvn//Osvg+7h2V0X0H4s0rZNGwQGBqFR4zepl1evWgUvr0k4F3Ie5cuXl6ar1Wp88nENfPllN0ydNk1vAOrOnTv4fvBg5WSDLFm6FNWqVVNO1svXxwezZ89STpaY8rwUA4LNmjXHqZMn0aFDez4v6YPBdwUiyi6CIGDihAko6lwUY8aMhYWFBdRqNRzs7QAAG/02oXv37srFMhUYGIB2bTX3rdat22Dnrl34bf16DB36A8qWLYvQ6zf0votkRKVSoWiRwoiJfWr0svqoVCp0aN8eCxYulN5h9u3bi25ffokiRYviwYOHabYjCAJmzpiBOXNm4+OPP8aMmTPRsmUrad7XPb+SPhAT21oEQZDeaYKDjwMA2rVrh+07dqZZvyH8/f2xa+cObNm6TTnLJEeDgrBgwQLs2btXek8aN3Ysli9fhoGDBmH5ck3PPVPt3r0bffv0xukzZ3XeFS9evIh2bdvAzc0NI7Ufie3atQtekybCwcEBl/79j+9tRLkAg26UJRh0+3AEBQVi8KBBuHL1ms6LgCAI6NqlC44cOYzRo8dg9pw5OsuJZYxpSLp37x769O6F8+fPAwDat28P/z+2G/QCkt6tS61Ww9HBHq/iE9Jdj6H7OHLECBQqXCjN+HIqlQqlS7ngxYsXehtAjamHlStXYMzo0QCA4cNHwMrKCqdOn0JgYFC6+y+XXj0cOXIYx44e03ueYEQdPHz4EJ07dcTSpct0vt4CgB9/nAtfHx/Uq18fR48eM+nFOjY2Fp06dUTIuXOAtrF29OgxmOHri8CgQAQFHTVpvfTusSGNPhTmPBdF4r1a3703ISEBLiVLIDExEdWrV8e5kPPSfS8mJgYf16iOp9pUQHfu3pVS+yql9zwQBAGtW7XCJK9JaNasuXI2kM5+6ZMVdZEZsTHr/IWLqF69OqB9tn/eoQOKlyiOX39dp1N+zerVGD58GDb/vgVdu3bVmSeXXv34+mjGa506bZpyFmBE3Vy/fh3Nmnpi+/YdGT4vjx07bvA65WJiYtC5cyed5+XYseMw3dsbQUeD+Lyk9xLfFYgou5wIDsZXPb/Cjh07Ua5cORQsWBBqtRo1P/kYd+/exbJlyzHIhA9y5EE3MXAjCALCwx/h9u3bGWar2b9/X5p3gNevU5GcnIz+336Ddet/05mfJ08e2NnZwtXVDVWqVNFZLiMrVizHhQsXMG7ceFSoUAGWlpYICgrE5x06AAAin0ShQIECOsv4+/tj6ZLFCD5xEqtW/YwLFy7gl19+lYKVrVu1kgJrBw8dQrNmzaV3q//9byjW/forAGDtL7+iT58+OuuWEwQB27Ztw4MH9/HgwQM8uP9A+v+EhAR07twZnbvovs9ZWVkhT5486NChg8HvOmq1Gr2+7onBg79HhYoV4OxcDJaWlpg1cybmzJmNbt26YaPfpjTnw1Di+gFg8+9bpP1Sq9Xo3u1LqFQqrFq1GsW0PQwBoOdXPRAQEICIyCcGtfUQ0fvNsLsVEeUKarUas2fNxnQfX9jY2MDKykr6sba2Rv78mtRR4Y/DdRqv1Go1ggID0a9vH4weNQrXrl1Dg/r18FWP7ul2nVepVBgzehQuXbqEiZMmAQAOHDiAkSNHpLuMnIWFRbo/hszPTEhICDZu3IB27drD2to6TV04OWnr4tGbtBRqtRo///QTWrdqhZkzZgDal8rVq1Zh5kzN70pDhvwgpc9av34dfvllLXp072HwS5jy2MSf5OQUJCYmppluTB0AwKxZM9GixWdo2KiRTh1YWVmhYIGCAIDwR4+Ui0GlUmHRooXo3u1LXLlyBX/88QdatWypU0atVmPChPFSA+JXPXti9OgxsLS0xL2we1IaTyKid8XU56J8+W/69YW9nS3s7Wz1DqB+9epVJCYmAgCaNGmi05gQEBAgBdy+6tkTJUqUlOYpKe/zynu+cppyfmZMrQtBEFCr5ic60/777z98+00/DBnyvZTiUeTmpumFPW7sWBw8eABqtRpnz55FQMDf6NWrF6Bd561btzBs2P8wfPgwfNWzJzp37qyzHiXlMSuPXTldOT8jgiBg5coV6NS5c6bPS+V1olKpMH7cOOl5eebMmTTvDGq1GhMnTkjzvASAsPthfF4SERHJqNVqLF68CDHR0fD0cEfpUi7I6+gAp3x5cffuXQDAs+fPlIsZrWiRooD2HaJUqdIZBtzUajX++ecfBB8Pxp9H/sSePXuwdcsWbNu6Bbt27oBKpcKunTt0fvy3bcXGDRtw7OhR5erSdfPmTSxbuhRbfv8dtWvVhFO+vMjr6CAF3KAdn01OrVZj9epVGDFyFCwtLVG1alVcvHAhzTuLqErlKrCwsJDeWQ8dPAgAKFmyJFq10vSOS49KpcKN69cR9yIOjg6OqFChApo2bYq+ffti8ODvAUA6/kOHDuLo0SCcOnlSegcy1L59+7Br1y60adMaFcqXl+phzhxNtobnz00bZ1ckCAJ27dqFJk3cdd7dz5w+jf3792P4iBE6ATdog4f16tXXmUZEHy4G3YgI0L40zJwxA3Z2dvjqq6+UswEABbSNRo/DH0vT1Go1Jk2ciPv372Oj3yZcuXIFs2bOwPYdO7B7924cP35MKitoB9pVqVQYOvQHHDx4EKtXr8bUqdPg5TUZALB2zRqsWLEcau34Zu+CWq3Gj3PnYOSoUahTp45yNgC8CbqFvwm6+W3ciIv/XIS7uzuOHz8u7f++ffvw0Uf602ZaWlpKDWcvX75E3rx50c2ENBdKycnJSEzSNOKa6vSpU9i3bx9+GDpU7xdl4ktkeHjaxmZHB3v89++/sLa2Rp1Pa6NP717w9fWV5ovXmzguTeEiRfDrr+tgaWmJy5cv49jRo7Cz06T+ICJ6F0x9LorUajW6dO6M8uUrIDEpGTNmzkSP7t3SfFhy6Z9/pP/v8Pnn0v+r1Wrs2rlD+v2XX37Vey9+G8ypi8OHDyE6JkYKYPn7+6Pbl13h6dkUFy9cwIrly3WeIWXKlEGLFp8hKCgQXTp3hnPRIvDW9kIL+DsAP/wwBF/16I5mzZpi7Zo1+OSTT7B8+Yp3VjfQHtOO7dsxYcJEvfshf14qOTrYI+5lHARBQN06n6KppwemTJkqzefzkoiIyDhbt27F9evX8So+AQmJSdJPfEIiWrXSDM8QEx2jXEx6HxEEIc37mrksLS0xdeo0zP3xRyxdtgxr1qyF36bN2LJ1Gzb/vgUA8PuWrdiydVuan++HDFGuTi9BEDBm9GgM/d//EJ+QqHPsL1/FS20Yz55pPugSl1mxYjmSk5PRrVs3abryncXe3h4AUKRoUTgXKyZN379/nzRcxvdDhmQ6npu1tTW8p0/HzFmz8OO8eVi0eDGWLF2GJUuXoWMnzfhz4nGvX/8bfvrpZyxctAgzZs7U+46lj0qlwsoVKxAYGKRTBwmJSZilTZEeExOdpg1D+Tu07+P6rgWxbGxsrM40f39/uLt7wNOzqay05l1x+/btqFatmsEfWBPR+82wOxYRfbDUajUOHTyAH34YgtmzZyEpKQkHDuzXKXP16lX4+fnhn0uahkELCwssXrwI27Ztw/Xr1/HXX3+i3zffQBAExMREo23bdnB2LoYpU6bCw+NNCtqgoEBpoN3f1q+Hh4cnSpQsCSsrK5QpU0YqN37cOLRu1QotP/tM7wtOdgkPf4S1a9agc6dO2L9/PwS1gFMnT+qUCQwMwLx5P+LZM82XcYIgYP26dfjjjz9w5Mhh/PTTzzjy5xG0+KwFLCwsEBkZgRMnguHpoX+MOQAYMXKk9P9du36JIkWK6Mw3VZK254Qx1Go1jhw5DJ/p09GuXVvExsTg+PHjOudB0I7HtuX3zdK0mTNmYOvWrdLviUnJ+G3DRmza/DsAID4hUSfd1tGjQdK4N6VKlcKCBQux4bffMGb0aHzxeQdERESgfPnyBvcyICLKKuY+F0W//vILChTIj8lTpsDCwgJ16tTB2XPndP5BLwiCzscp48eNg5+fH7Zu3Yqve36F3bt3Y9CgwXgU/ljqFf02mVsXgiCgc6dOuH//AaA93r59euPqtVB88+232LtvH06cOKFzr7eyssKy5culnmuvXr2S6mjhwgVY9+uv2LNnD/JYW2PSJC/s3LUL+fLlk5Z/W9TasdYmjB+Pfn374OnTpzh+XJN2SSQIAgIDA3SelzN8fdM8L1etWo1t/n9AEATEJ+g+u4OCAvm8JCIiMpBKpcLPP/+ESZO8YG1tDUtLS+nHyspK6pkfGRmh807WoH49tG3TBjNnzMAPPwyBg70d5mQwTivSCdK8S6dPnUJ0dBSGDPkBVlZWOsduaWmp930pMTERy5YuRSvtGLGCIODs2bP49FPdj4/F8eArV6osvXMIgoA9e/YAAKpXr44ffhj6zt9HBEHAr7/8glq1aqFBw4Zp6kBM0x4ZGalz/tRqNWbPnoXAwABp2tGjQfD09ED5cm6Y4eurU97CwgK9evfG7NmzsGnTJkRHRyM1NRU7duyAu7s7LLRpOcPDH8HXxwd9+/SGu7sHpkx982EVEX3YGHQjyuUuXLiAjRs3okSJEhg4aBAEQcDWLVt0giw7d+zAuXNn0bJlS3h5TUbhwoVw6OAh3Lx5Q5N64J9LsLCwwO3bt3Ht2jXU+Phj2NjYYMrUqTpfIwmCAHd3d7i7u8PLazIqVa4kvbjcf3AfXl6T4eU1GZMmecHd3R0upVykZd+Gdb+uw+OIx/i0zqfo1bs3Tpw4gYCANy9dgiBgzuw5SElJwTfffouRI0fh4sWL+P333yEIAn7fshVhYWE4HxKCFi0+AwCcOnUaJUuWRNEMvvgqXLgw+vbtCwDo3qNHlr2opqSkKCdlysLCAgsXLISFpQVGjhyFdu3awW/jRoSGhkpljh4Nwk8rV6JGjY/h5TUZ/b75BidOnMC+vXuk68bCwgIqlQoO9nZISExK8zWXo2NeuLt7wN3dA25u5bDu11+xZcsW/Pfff6hQoSLc3T1QqFChLKsLIiJDGfpcPHo0CC0/0zwXS5QoLj0Xof2H++bfN6NuvXrSczD4eDAcHRx07mtqtRqnTp0CAHTp0gXNmjXHxg0bsH/fXnxSsyZ279mDxUuWZNnHGMbKirqA9utuAPjhhyEoV66cFEDcsGEDOnz+eZpGq/Lly2Pz71sQfOIkvCZresJ7eHiix1dfYcyYsVizZi2CT5zANG/vdMe4y26CIGDRwkVwzOuIESNGolWr1tjk56dTN0ePBmHz5s2o8fHH8Jo8WXq3MOZ5mTdvPj4viYiIDKBWqzFzxgwUL1YMvXr3Vs4GADjlzw8AiIx8Ik3bv38f3Nzc0LhxY8ycOQM9evTAsGHDERR0NE1gRvnOok6nJ9Tbplar4e3tjW+/7Q8bm7Rppy0sLKSebvJjuHfvHh49eoSFCxegdOlSqFK5EpYuXYpPP/1UerewtLSEh6fmY+o7d25L61i7Zg02b9qEfPnyYZLXZOTNm1daryliYt70GjOFIAi4cuUKZs6ciVmzZ+vtGdesmSYFqNg7TxQZGYHbt29L4x+HhoZi8aLF+KbfN5j74zwcPnxIp96srKykXpMDvuuP0qVc0L5dO0RHRyEwKBDVq1VFyRLFUb5cOcyePQuffPIJ1qxdqzfwSUQfJgtB+cQwgp//XrRp8aYXS26jUqng461Jd+Pt45vmH8m5yeGAYxwE+z0m3gYEQdD7YgJFGQsLC52yV69eRZUqVbBy5QqMGzsWCYlJsLS0xIgRw7F06bI06xHXAe3Ln3ye+F998w2hVqvhYG+H+IREk/4m5funb9vyW6a+/dy5cyfGjxuLm7duw9LSEl6TJuFxxGOsW7deqq87d+5g166dqFixIjp27ARBEPB5hw5wdHTA1m3+erdrLH9/f+zauQNbtr7pdWEoQ86Dsoxy/uvXr5Evr6N0LRw8eAB169SVgo/yehTJtydS/k7vD//dh/hcoPeW/B5nynPx6dOnKFmiOE6dPoPatWtDrVbj8w4dYGdniz+275DKnTp5Es2ba/7xP3vOHIwePUYnGJMV90BBENCqZUt4TfaSGhKMYU5dqFQqODrYIz4hEZaWlrC3s5Wez+Lz+uq1UJQvX165SkDWeDZ79iz07dcPK1f+BGtr6yypF5HP9OmwsLDANG9v5axMKY8bep5byjLK+crn5aFDB1Hn0zp8XlKuwHcFIsoKKpUKXpMm4e7dO9i3bx+qVKmCpk2bYfSYMShdujSg7Tn+55E/cevWTezfvx9ly5bF11/3QunSpXH79m04ODjg7r27UKtUWP/bBmz47Td4eHpKPbzUajVatWwJCwsLBAdrera7u2uy2UycNFH66NYU4vuS+C5gjJMnTmDrtq04ERyM0NBQtGrVGr379EF37ZAVgjZNdeSTSNy6eQvHjx+Tsgm0atUaRYoWQb++fREVHQNLS0tERkagnJsbfv11nU7gMiYmBl983gEXL16Eh4cnChcuhF27dqFixYpYufInuHt4mP0uYmobhlqtxgxfXzx4+ACbN20CAHz//fcYPmKkzvmbOWMG7j+4L5URhziZMnUqhg79ARUrVpTexUeNHIlRo0fD1dUVAFCwQH7ExD7VaWNSq9U4dOggxo8bhzt37kjT5RwcHDBy5CiMHDVKCnoSUe5g3N2cdNwPC8PZc2dx9txZ3FcMREr0PhEbgTJ6wZOXkZc9f/48Pq1dC8uWLcXpU6dQu3ZtWGhTS0VHRaVpLJKvQ/lSptyGcr4hLCwsMGXKVJOWhWL/9BH3K739vHb1KgoW1Ixro1arcf78edSvV1+qL7WYtiAgELt374ZarcbqVavw999/oXefPulu11hdu3ZFp85dlJMNktHxpVdG7tatW8iX1xHdu3fHjh074OfnhxHDh6OwrKeGvB6V65L/EBG9C/L7UnqU9y55WTHNoPiP61MnTyIg4G/4/7Fdp9zZc2el///ss5aA9mtiffdWc/T/7rs0Y0sYypy6sLKygre3N7p26SKl3rx79y7WrlkDB3s7bNjoJzWG6BMR8Rjr168DALiUdEGePHmytF4AoEvXrujStatyskGUx61v35Rl5PQ9L4cPG8bnJRERkRFCQ0Ph6OiI6tVrwMtrMjp37oLChQujVKk3veFPBJ+Avb29lK2lV6/esLSyxKNHjzB7zhxM8vLChfPnUbdePVhYWOCbb79N847i4eGBJk2aYNIkL3hNnowmTZqgSZMmGb4jZbeAwADEREejcuXK6NO3LypVqoQb169L88X2mGLOxdC4cWN4TZ6MKlWqomrVanB1c8X169fx0UcfSe8Xe/fsRYUKFdCypea9VFSkSBEcOHgII0eOgpNTPuRzcsK69b8h6OgxeHh6vvN3EQtLC5QpUwaTvDTnplDhwlLADNprBADKlC6jybCkzaRgaaU5d+vXrcOIEZphP54/f47CRd4sr1ar4eDomOY8W1paon37Djjy55+YPGUKChUqBGiDsQMHDcKSJUvx198BmDJ1KgNuRLkQe7qZYe3a1Vi7ZjUAYOCgwRg4cLCySK7Bnm65l1qtRvPmzZAQH48ZM2di4YKF0tgrT6KikV+bviG3iI6KQvce3dGiRQv8/PPPiI2JwdlzIfjkk08AbX2tWb0aixcvwtJly3DlyhVMmTwZ8+bPx7Bhw9/5y6q5BEHAl1274Mtu3fHkSSSWLlmCihU/woCBA6Wv7Sh34NfrlJv5+vjgypXLsLS0xO7du1Gvfn0EBR3V+TpW0PZACw4+jrJly+LqtdB3Mm7b2zBzxgzs3LkD165dg4uLC+rVq4dvvv0WLVu2StOAIee3cSMGDhwAAFi58id8N0Dz/x8CPi+J+K5ARDnH1atX8WntWgg5fwE1atRQzs5W5vR0M5evjw9OnDiBP//6C2q1Gl98/jm++OILDBw0KN22CTErQ1bvq6k93bJC8+bN0LlzZwwbNhyHDx+Cra2tlCFi0sSJeP7iOX7+eZVyMcn6deswZMj3AICXr+KzPDMDEb1/GHQz0dOnsfjhh+9xV9uFuFz58vjpp1UoVKiwsmiuwKBb7qZSqaQXLnlarKx+CcvpBEHArJkzpa+m1v36K7Zv345Dhw/rvHCpVCqsWLEcE8aPR4cOHdChw+fo26/fB1NfyrRXarX6gzk2Mhwb0ii3EgQBHh7uGPDdAPTu00e6/yn/4a1WqzFq1EisXrUK3/bvjxUrVpqUFvl9IAgCBg8ehNKlSsNr8mSD3xHW/forfvhhCADgXlgYSpQoqSzyXuPzknI7visQUU7x808/Ye3aNTh/4eJbfxYLgoCjQUFo1tz4NODm2uTnhw0bNuCvv//GihXLsX37dgQGBr31OoD2PejatWuoXr26cla2O3P6NJo29cSUKVPx77+XsPn3Ldi9ezc2btiA+vXrY/KUKenWiUqlQof27REUFIgqVargwsV/0i1LRLkH7wImOn/+PEqVKoWCBTXdh++HheH8+fPKYkS5gpWVlZTeyMrKClZWVrnyJePo0SDMnDkDd+7cwZ9/HsE072lYsHBhmoZWKysrDBs2HPEJidjm/wf6ffPNB1VfyuP9kI6NiCgz169fR8i5c2jQsIHO81HJ0tISEyZMwLHjwVi58qcPNuAGbWPS+ZAQ1KxV06h3hC+7dcOhw4dx//6DDy7gBj4viYiIcgRBEBATG4N+33yT5tn8NlhYWLyTgBsAfN2rF0Kvh8LO1gZjx4zBwoWL3tn7iKWl5TsJuAFAg4YNsWGjH/z8NmLfvn1wc3PF33//hZ5ff40pU6dmWCd3795FUFAgAKBR48bK2USUS6V/16B0JScn48SJExg48HvUr1cf0H7ZcPDgfiQnJyuLE1Eu4enZFE5OTqhRvRo6dewIXx/fdF8aLS0tpQDlu3ixJyKi7BEZGQEAqFjxI+WsNEqWdEH9+m/G/fxQXbt2DdeuXUOdOnWUszLk5OSEZs2ao1jx4spZRERERFnCwsICU6dOw4gRI3Pdv80tLS3x8OEjxCckIiExCZ9++qmySK7Ro0cPlClTFh4ennjw4CFWr16DXr16ZXpNJCUlSf//2WctP/j3eiIyDO8EJrh54wZsbW1QoUIFtG3XHnny5AEA/HvpEm7euKEsTkS5hKWlJSKfRCE+IRGJSckYMHCgsggREX3gmjVr/k5SE+Vk1atXx+HDRz7I3mpERERE7zMxY1Fuf3cVR1+qU6eOUR9HV69eHceOB+PK1Wvo2LGjcjYR5VK5+45qAkEQEBDwF5o3awErKyvU+PhjVKlSFQAQHx+Pw0cOSzdqIsp9xB5shr6gERHRhye9Xs65WdNmzZSTiIiIiIhyBEEQEBx8HE3cmyhnZcjCwgL169dHhQoVcn3gkoje4N3ASBGPHyMqOho1Pv4YAJA3b160btNGmn/yZDAiHj+WLUFEREREREREREREOZGlpSUOHT6Mdu3aK2cRERmNQTcjnTx1An//9SeaN/NAvbq1Ua9ubcyf96M0/3F4OE6eOqGzDBERERERERERERHlTM2aNVdOIiIyCYNuRnj16hX++ecf7N69D+dCLko/p8+EoE3rtlK5o4GBSExM1FmWiIiIiIiIiIiIiIiIPlwMuhnhzyOHUahQIZQoqTsIvJWVFdq2a488efIAAP67/B9CQs7plCEiIiIiIiIiIiIiIqIPF4NuBlCpVDh18iRWr16FfPnyQaVSKYugarVqqFylCgAgOTkZy5Yuwe1bt5TFiIiIiIiIiIiIiIiI6APEoJsBft+8CSNHDsOzZ0/x6y9r0ab1Zwi9HirN99u4AS0/a4bL//0nTXvw4D6+/roHgoOPS9OIiIiIiIiIiIiIiIjow2QhCIKgnGgoP/+9aNPCUzmZcqHDAcfQvdObce2IiCh38999iM8FIiIiShffFYiIiIjoQ8SebkRERERERERERERERERmYtCNiIiIiIiIiIiIiIiIyEwMuhERERERERERERERERGZiUE3IiIiIiIiIiIiIiIiIjMx6EZERERERERERERERERkJgbdiIiIiIiIiIiIiIiIiMzEoBsRERERERERERERERGRmRh0IyIiIiIiIiIiIiIiIjITg25EREREREREREREREREZmLQjYiIiIiIiIiIiIiIiMhMDLoRERERERERERERERERmYlBNyIiIiIiIiIiIiIiIiIzWQiCICgnGsrPf69yEhEREREREREREREREVGuY3bQrU0LT+VkyoUOBxxD905tlZOJiCiX8t99iM8FIiIiShffFYiIiIjoQ8T0kkRERERERERERERERERmYtCNiIiIiIiIiIiIiIiIyEwMuhERERERERERERERERGZiUE3IiIiIiIiIiIiIiIiIjMx6EaUywmCAJVKhdevXyM1NRVqtVpZJFNqtdqk5d4HYv2kpqaaVD+CIECtVkMQBOWsD4JYPyqVyqTrwJRliIhMIb9fifcsY/B+ZTw+I4zD+iIiopwmq96fPtR/D2cFtsdQetRqNVJTU03624N2ef7tEb0bDLoR5WJqtRqnTp7E1z2/Qr68jqhWtQp+W78eqampyqJ6qVQqnAgORquWLbFkyWKTXgJystTUVOzbtxddOndCXkcHk+on+PhxtGrZEosWLfzg6iclJQWrfv4ZjRs1hKODPb7u+RWOHztm0HEKgoDU1FRs2rQJX/Xojq1btyqLEBFlmdTUVOzevQtdOneCo4M92rRujaCgQKhUKmVRvVJTU7F+3TpUr1YVO3fuVM4mPVJTU3WeEc2aNcWuXbsMekZAu/zmzZtzzTPi9evXZj9TPT094OnpgS1btiiLEBERGS01NRV79uw26/3pt/XrUaF8OcydM5uN/wpqtRrnzp3DDz8Mkdpj1q9bZ1R7w19//QkHezuMGjkSz58/Vxah99ijhw8wY4YvKlYoD0cHe8zw9UVKSoqymF5qtRq3bt1C2zZt0KN7NwQFBSqLEFE2Y9CNKJdSq9XY8NtvaNGiOSZMnISXr+IxzXs69u7di7yODpm+6KnVagwfPgzz5s1Dy1YtsWjRIkQ9eaIs9t5Sq9WYPWsW/DZuxDTv6XgVn2BS/axcuQItW7XE4sWLP6j6UalU6PV1T1y/fh0bNvrhXlgY6tWvj2HD/oeFCxdk2kioUqng4d4EDx8+gKWlJfbu2Z3pMkREplCr1Zgwfjz8Nm7EnLk/4lV8Avp98w2WL1uOTh07ZtpwpFKp0NTTA1/36oVPPvkEw4cPy3SZ91VWNYapVCr07vU1EhITpGdEp06d4DPdG99+0y/T+31qaio83Jvg/v2wXPGMUKlU+LrnVwgNDcWGjX64e++e0c9UTw93tGnTBi4lS2Lf3j2ZLkNERJQRtVqNGb6+WDB/Pryn+5j8/tSrd2907NgJK3/6CRERj5XFci21Wo1t27bBw70JevfqjYjIJ1ixciXOnD3zf/buOi6K9A/g+GcX7O7AbrA7MRAQu7s9u/N3gi2K3nlnd3fXWZigoJ6FBXZ3t5g7M78/lp1jhwUpFfB532tfJ/M8s8s+u8z3mSfD3d4wcMAAzp8/j9uwYcybN5djx/7VZhNiqfPnz1O7dm1y5czF4SNHOHb8BJ8/fyZ5sqRcuXJFm92MoiisWrkSlxrO1KpVi23btnH8+PFoq+cLghA+otNNEH5R9+/fx919LJ27dKFYsWLEixeP1q1bs3jJEooUKULv3r3CbLC5cuUKq1etonKVyowaOZLnz57x5u1bbbZYKyAggAULFlCoUGFKlCiBtbU1rVu3ZtHixWr5hFVpMZVPw0aNGTVyJAAJEyXSZou1jKOsvuLo5Ej+/PnJlCkzAwcOYvqMGYwYPpw9uz21p6gURWHdunWcPn2aMmXKsHXrVi5fvqzNJgiCEC127NjBKb9TFCtWHDs7O6ytrWnTpg1/TprEvn17WbhgQajXc0VROHToIKdOneLIkcNs2bKF58+ehZo/tpJlmTdv3uDuPpb9+/dpkyPMw2M8t2/fxtbWVo0RAwYMZNr06axbt45Vq1ZpT1EpisLatWs5ffo05cuXZ+vWrSiKEufKPDhTTHVydiJ//vxkzmzDwIGDmDZ9erhj6qNHjyhfzlheIqYKgiAIUbVjxw4OHjqIs3MN9X44vPUnQK0/Hfb1Zc6c2Tx/9oz06TNos8U6sixz9OhRmjRu9M2Ox7Dcv3+fCR7j6d69BxUrVSJVqlQ4OTkzd+48SpUuTZ8+vcNsj3n//j07d+4AwGP8eADix4+vySVYIkkS06ZNZczo0dqkGEGSJEaNHEnRYsVwdnbGxiYLxYoVY9z48XTv3p0O7duF+d2TZZmdO3dQunRpdu7cCcCzp8+02QRB+M5Ep5sg/KL27N7Nw4cP+fz5s9nx1KlTU6BAAZYuWRLqzCxFUVi9ahUfP36kZImSTJs2Hc/du8mbN682a6x1/Ngxnj17yv0H981uJoKXz7t378zOMVEUhTWrV/Px40caNGjA9Okz2Lx5C8mTJ9dmjZUUReHo0aPs2bOb58+em6VVrlwFgEl/hT4yX5Ik1qxeTaVK9lStWg03t2Gc8juNXi9CkiAI0UtRFLZt+4fjx45x995ds7S8efOSNWtWVq9ZHer1SlEUdu3cBUDx4iUYN348jx4/wcrKSps1Vho7ZgyDBw2idauWlCldCo/x46N8LVYUBV8fX86ePcv9e/fN0qpUqUrWrFlZsmRxqGUuSRJr16yhUiV7SpQoybjx45kzd16cKXOtsGJqlSpVIZwxNVeu3NhXrixiqiAIghAtwqo/ZcmSJcz6kyzL/9WfShjrTw8fPY61sVxRFMaMHk3Pnj2oXasWDtWqsmOHscMrsvbu2cPVq1fx9NxlVo5WVlbkypmTJYsXh9kes337du7fv0/x4sWZNm06Pr6HqVq1mjarEOTgQW/cXF3p0KE9lSpW4Pf//S/MTuOf6eLFi3h67mL9unW8DwxUj+v1evLnL8CZM2fYtm2b2TnB3bhxg507d2Jra0eHjh1ZtHgJf06ahE6n02YVBOE7EndjgvCLqu7oiJvbMBwdnUI0zOTNmw+Ai5cumh03URSFPXt2A2BfuTLdunenWjWHEM8Tm5nKx8nJ2ex96XQ6tXyehFEJ3rVrJ9mzZ8fa2pqu3bpRpkyZOFM+Op2O3n164zFhAu07dAiRBvD40aNQb8Ju3brF/v37yJ4jO1ZWVowcNSrOlI0gCDGLTqejXr16uI8bh5vbMG0yOXLk5OyZM3z69EmbBGqjxjbs7SuTMmVKBg8eQqpUqeLMTauiKCRLlowyZcvSunUbbXKkmGLEmLFjyZffGC+Dy5EjJ48fPQp12aTgMSJFihQMHjyElClTarPFGTqdjkl//cXUqdNETBUEQRBijLDqTzlz5vpm/engQW+yZ/8vlqdOnTpW158URSFjhowhYnVkOVSvjpvbMCZPmYK1tbVZ2rfaYwCOHj0CQPbsOejWvXucam/4HmRZJkGCBOTKmYux7u7a5BjFzs4OjwkTWLxkKbly5TJLs7WzBeDixQuh1g2P/fsvX79+JXv27LRq1YrWrVvH2g5vQYjNxBVZEH5RuXLlYviIEWTPnp1x49wZM3o0BoMBWZa5csW4LNH58+e1pyHLMrIsc/78eeztK0NQBTSuMZVPhvTpQy2fZ0+fmp2jKAqyLHP9+nUCAgLIli27ejyuqVevPu3bd2Dbtm0MGTyYpUuWYDAYePz4EQAPHjwIcVNlKp9jx44BkD0Ol48gCDFHvXr1GThwELdv3cLdfax6PVcUhUuXL/H582cuXbpkdo7penXwoDd37tyhUqVKKHFwicNRo0czavRoBgwYGK3vrV69+nTu3IXXr98wZPBglixerMbQi5cu8uDBgxA3/79yjChatChNmzVj27Zt/G/IEJYuWYIkSSKmCoIgCD9NvXr1GTRoMHdu3zarP0mSxPPnz8KsP924cUO9H44L9SedTseo0aMZOWoUzZo10yZHiqm9IXNmG6ZNm8pvv3Xixo0bSJLExYsXIIz2GEmSOHfuHADZsmWL9eX7Izg4VFc/Q20dNKaxsrJiwICBlC9fnhXLl9O58294eR1AlmUuBBi/G6f9/CzWDSVJ4syZMwBkzZYVWZbF90MQfhLR6SYIvyiDwYDr0KE0a9qUF89f8O7dO5ImScz69evVyl38eOZrgnt5HSB1qpSUKF4MgiqfNV1ccHZy4uBBb7O8sd2FCxeoV7cuAwb0J2OGjBbLJ5lmuUj3sWOp4exMr549Afj06SN58+QmUcIEbNiwwSxvbKaYZn5UqsjWLZspUrQo69evJ2mSxDx+bJz9py0bRVFo1bIFzk5OLF+2DABfX1+cnZxo1bKFqAgKgvBdKIrC/fv3cHJyZNmypeTInoP379+TxSYzB729ef7MuL9BwoQJzc4bN86dzJky4jp0KACHDx9W411oo0oFI0sxYsOGDeTOlYsbN67z4vnzcMWI7du3kTVrFkqWKM7Fi6GP9I7tFEXh0MGDVK1Sma1bNlO4SBHWr19PksSJREwVBEEQfgpT/cnRsTpLly5R60/JkyXl9OnTvHz5CizUn7T3w0CcqT9pOziiSpIkevbsQZ/evYgfLz4VylegoJ0tf/01Sd2bVdses3PnDpo2aUxNFxdOnTwJQK2aNXF2csLL64BZXiH2kiSJ6dOnUaF8OZ4+e0rFChXp2qUL9evVU2c/avfve/78ObVq1sSlRg0uXDB2zE2cMJEazs6Mi+Ez+wQhrtIpUbgrW7F+Gy7Vjfv3CL+23QcO0axBTe1hIYYyGAwUyJ+PnDlzsXPXLjVgS5JE+XJl1U6ldes3UL9+ffW8gwe9kWWZ+/fu07VrF0aPGUOZMmUAqFbNIdoroj/LP//8Q9cunSlSpCieu3eryz0YDAYqlC+nls/DR49JnTq1ep6pfHwO+TBx4gRGjxlDvXr10el0FChQIE6Uj6IouLuPxWP8eLZs3UqNGi7qMhZHjxzhxMkTDP39d4oVK8bRf4+ZLXFx4MB+CKr8Xb9+jQULF6LX69Hr9WL9+Tho/VZPEReEn+7okSM4OFSjW7fu/D15sno9v3rlCn379lUHjDx6/IRUqVKp53l7eQGwYeMGFi9axI6dO9Hr9eh0OqpWrRYnrudaY0aPZsIED3Z5euLgUF2bHC5hxYjjx4/z91+T2LZtG8WKFePI0X/NRhrv378PnU7HxAkT8fX1YfuOHdjYZEGv11OgQIFgrxJ3KIqC+9ixeHiELK9vxdQdO7aj1+uZMnmKiKlCrCXqCoIQM4VVfxo7dgz//PMPX79+DVF/2rlzB4qi4HfKjwkTPOJk/UmWZRInMnY2Bn74GKlZU6b2mCxZs7J37z6z9pgK5cups9i07TEBAQHcvn2LBAkSULdOHUaPGUPp0qUBsLa2VveCFcLm5XWAWjVrMnSoK6PHjNEm/1SyLNO0SWO8vb3Zu28/pUqVUtP69+tLQMAFDh/2pVev3vw9ebKapigKO3fuIF68eNSvV4969erRrXt3dDqdqBsKwk8iZroJwi9GlmXq1K7N69evmb9ggdkIGSsrK8qULav+XKpUSfXfAFWrVsPBoTqnT/sBkCtXbhwcquPgUD1OVKAJqujOmT0bvV7P/AULzNZXt7a2VsvHzs6OFClSBDvTWD7Vqjnw+vVrCCofOzs7bG1t40z5XL58mTmzZ+Pk5Iyzcw2zBsBy5csz9PffAShdpkyI91y9uiPVqjlw48Z1cuTMqX53RAVQEITvwWAw0LhxI1KnTk3/AQPMrud58+XjyZPHANja2oa4nldzcKBK1aqcOH4ca2trChcqjIND9Tg1wCQ0URiPp8YIR0enEHvGli5dWt30vbSFfUccHZ2oVs2BV69eYm1tTZHCRbCzs4uzHW4EDdbx8BiPk5OzWYcbQNly5cKMqXXq1KVGDRcRUwVBEIRoJUlSmPWnCxcu8PXrV4v1p9q161C7dh1u3ryBtbU1hQoWitP1p8jUmUztMffv36d//wEh2mNKBXWiYaE9plChQtSpU5fbt25DUHtD9eqOVK/uKDrcIkFbF/3ZFEVh+LBh7Ny5k379+pt1uAGUKl2Gy0FbnZQtV84sTafTUadOXXLmNO4Blz17DlE3FISfLGZdYQRB+O4WL1rEwYPeFCxUiGzZsmmT+fLlCwD29pXJlCmzNhlZlrl58xYA5TSBPi4wlU/lypXJnt24P4qJoihq+dSuXcdiJU2SJG7evAlxsHxkWWbWrJm8evUK5xrOIUb1mTobAZydnS3eWJ07d46HDx+SN29ei+mCIAjRQVEU+vfvx6tXr3ByciJnzpxm6bIsh+t6fuPGDXLkyEG69Om1yXFWZK/NwWNE1WpViRcvnln6mzdv1H+HFiNM+8D8CmUuyzIjRowAwLmGc4jv4P3799V/h1Ze58+fFzFVEARBiDaKotCvX99Q60/a+2FLsUeSJPbt2/dLxHJL7/9bTO0NuXLlom7dutpkvn79Ct9oj9m3by/EwfaGHy1xksSR6jj9Xvz8/Jg5cwYE1f1CUBR1afyqVSyvOrd7tycE7Rccme+nIAjRJ2QLgyAIcZaiKBz99ygApUqWCtFpoigKFwICALC3tw/RAGTKExDgT/bs2cmSJYs2OVaTZZljx48BUL9BwxDvX5ZltXwqVKxgsRKj0+nibPkoioLXAeNa8TVquGiTefDgAQA2NjZUrFhJmwyA36lTABQrWsxi+QmCIESH4NcrR6eQN63Pnj7lxo0bAFSyt3y9unXrFh8/fqRw4cLiehUOwcu8ZcuW2mQ1RqRPnyHUGHHz5k0+fvxI2XLlQsTguObp0yfqfiyWYuqxY8b6iIipgiAIwo/yrfrT0ydPzOpPlmLPzZs3efnyJYULF47zsTyigrfHODvXiFR7DMCpU6dImy4dNjY22qRwkySJli2aI0mSNumXkS5tOu2hn8rv1Em+fPlCqdKlQ8xkAzhz5gwAtWvXttihrSjKf3XD4sW1yYIg/GCWr+CCIMRJsixzNihQl9RMVQd4/PgRly9fJm/evPTs1UubDEENlQ8fPqSSvb3FSnZsJssyZ06fBqBgwYLaZLV87O0r4+xcQ5sMcbx87t+/x82bN7G1tSVPnjzaZPUGrEfPnmZr+wd37rxxffoCtnF3uTBBEH6+e/eM1ytCGQV88pSxs6Np06ahXs/Pnj0LQIECcWeJ4O/JFCNSp0ljcWT2rVvGz6Nly5ahxghTY4J9JXttUpzz+PETCFre1FJMvXzpEoiYKgiCIPxAov70fQVvjylWrJg2WW1vyJcv3zfbY2yjUL6SJNGmdSsA2rRu9ct2vN25e0d76KeRZRn/oA7XQoUKhehwlSSJixcvAtC9Rw+Ln72iKJw/fx6C6peCIPxcotNNEH4hsiyrgbp48ZCVvHXr1hEYGEjPnr1ImzatNhmAs+eMlehKFS2PbIvNFEVRyydjhgzaZDZs2EBgYCAtWrQIMSrNJC6Xz7Vr1wAs7q8jSRKzZs6kWLFi9OzZy+J7l2VZrQTa2dppkwVBEKLN9evG61XmzJnJlcu4t4GJLMtsWL8egF69eoe4qTU5F9RoZGsnrlfhYYoRmTJm1CaZlXnLVq1CjxHnjJ1IlUNZMicuef7cuDxQgQIFQpTHhw8f2LBhvYipgiAIwg8V3vpTz569RP0pEoK3x1gaBG1qj+nRoydp0qTRJgNw5qyx066Abcj6Q3hIkkSpkiWwtbVjxcpV2Nra/dIdbzHJlctXAChcqLA2iaNHjuDt7UX7Dh2oXt1RmwzAp0+fuHTpEra2ke+QFQQh+liOkoIgxElWVlZ0794DgPjxE5ilXbhwgWVLl9K4cWO6de9ulhacqYGnUOGQFYHYLnj5vA8MNEsLCAhQy6djp05macGZyqeSfdwbpV+hQkUSJUpE4iRJtElMmTIZX18f+vUfQKJEibTJqvPnzmFjY2NxOQRBEIToUrVqNQoVKkTixIm1SWzcuJH169fTq1dvi0u3EDQIw9/fH4Div9jyLG/fvtMeChdTmX/+/FmbpJb5qNGjKVq0qDZZ5e/vj42NTYg9VeOi4DFV2zAye/Ysrl+/LmKqIAiC8EOFt/5Urnx5bTL84vWn8Aje3qAtY1N7jL19Zbp26xaibmBiam8oWaJkqHnCsnHjRho1aozbsGFYW1szbPhwcubMxZo1a7RZhR9Ir9fTrn17sPDdkGWZ2bNnkTx5csaOGRtqh7dp8FqJkpH7bgiCEL0s/6UKghAn6fV6HJ2Mo2K2bt1CYGAgsiyzZ89u2rRuRZ48eVi+YmWoQVxRFDWQZ41j+5VhoXxkWVbLp22b1t8sH9Mo/bTp0oUYGRgXJEiQgDp16rBq5UpOnjypls/iRYsYPmwYrm5uNG/ePNQK3tWrV/n48SNlypQJtQwFQRCig16vp379Bly/fh0fn0Pq9WrRwoW0a9uGhg0bMumvv0K9XimKwrlz58iePTu5c+fWJsdpV68aR9lGlJWVFfXq1ef69escOnTQLEa0a9sGV1c3fv996DfLvGzZsqHmiUuCx9Tjx4+LmCoIgiD8dMHrT8FjeWTqT3HxfjiqtO0N2vYYgN179oS6qk7w9pjI7tnVvHlzRowcibW1NQTV38Z7eNC6dWttVuEHc3Z2xs7ODi+vA9y7dw9FUbh06RKtW7Vky5YtbNq0mQwWVpQwORf03ShdqnSof6OCIPw44g7tF+F19h013a5T0+06XmfNRzA/fW2gy+S7BNz+BEDgJ5l+s+5R0+06/WbdI/CTbJZfiN1q1arN8hUrWbZ0KXnz5sHJyZEhgwfzW+fOrF23PtQKHqaNWf38yJQpE6lDWe4gPGRZjrHLF9SsWUstnwL58+Hk5Mj/hgwJd/mcPn2a0qVKoSiKNjncLly4EKXzvxcrKysWL1nKoEGDadigPmVKl6JQQTuWLlvKzl27GDlyVJgNf1euGBtyS5WOXCVQURQCgtY5FwRBCItOp8PVzQ23YcPo0L4DdrYFKGhny9JlS9mwcSOrVq8J83p1//59njx5bHE/k8gICAhAlmNefergQW+8vA5w4MB+tTw+f/6sHovI76zT6XAbNoxhw4bToX0HypYpTUE7W5YsXcLOXbsYMXJkmGX+4MEDnjx5bHG5paiQZRlvby/t4Z/OUkwtUrgQ27dv4+QpPxFTBUEQhB8ueP2pY4eOUao/ReZ+VlEUNmzYEKlzvydFUfD29sLb24v9+/epx5ctXYqX1wG8vA6Eu84UWntMm7ZtOeV3+pvtDX5+fuTOnRu7KC7fqSgKkiShKAo6nS5SdYnYRJZl9bM6cvgIBH3fvb29OHBgPwcPemtP+eEyZMjA8hUruX3nDoUK2uHs7ERNFxdSpkrF+8AP2FeurD3FjN9pPwCKFCmiTYoSSZIwGAzaw4IgfINOiUI0W7F+Gy7V4/6eC3GB19l3LN79nMnds5I+pXFEC0EdbgPn3uPDJ5mxHWwolCOhmrZkzwvOXv+Ax282JEkYesUKYPeBQzRrUFN7WIjBJEni5s2bKIpCzpw5sba2DrWiJcsyiqLw7NlTcmTPTq9evfnr779DzR8WWZZp3aolACtXrQ6zUvkzSZLEjRs3AMiVK5c6EswStXyePiVHjuwMHDgIjwkTtNnC5cKFC7Rp3YoGDRoyctSoSJXx96YoCrIsc+jQQUqUKEny5MlDvfky5dXpdMydM4eBAwewYeNG6tatp80aJkVROHL4MH369Gb+goWULl1am0WIYdZv9RRxQfjpTNeg06dPkzVLFtJnyBDq9Ypg1/NNmzbRrm0bFi1aTOs2bbTZIiQgIIC2bVrToEHDb3Y8/WgHDuxn4oSJ2sOqsEZbh8ZU5n5+fmTPlo106dOH+p6Dx4iNGzfSrm2bSMWI0MiyTO/evVixfDlb//kn1D0wfqbgMbVcufIkTJgwXOUlYqoQF4i6giDETKb60I+sPymKwpzZsxk4cADTp8+gS9euMeZeWFEUxo4Zw+HDh7VJqj1794ZZRloRaY8xDVg2tcd0796DKVOnhpo/LHLQzLqTJ05y9uwZ3r8PZKjrUKpWrRah3z+2kSQJlxo1tIdVvw/9HUdHJ+3hn0KWZZ4+ecKDhw8pXrx4mJ2ipr89vV5P8WJFSZosGYcO+US4/h4ag8FAu7ZtUBQlRrffCUJMFHevqILq8+fPHD1ymBcvXtCmdUtOHD8GwJgVj2j/522ypI1PogTiwvmrsbKyIm/evOTLl4948eKFGsSfPnlC4UIFqeniwpEjRwFo3qJFqPnDIssylSsb9zorUMA2Rm/Ya2VlRb58+ciXL1+YHW6m8nFwqMaJkycAaNiokTZbuAQEBNCmdSs6d+7C4cOHGTtmDHI4R8z9SDqdDisrKxwcqpMyZcpQK+eyLLNyxQqSJE7EunXrCLgQQPHixalVq7Y2a5gURWHPnt00atSQIf/7HftKFTl58qQ2myAIQgim61Xp0qXJmClTqNcrgM2bN5MtW1Zchw7lxPHjpE6dGucwbs7Dw9Th9ttvnTl8+DDuY8fGqOt69eqO7N23T33s2bvX7N+RubE2lXmZMmXIkDFjqGUuyzJr1qwhaxYb1q1bx4njxyMVI0IjyzJ1atfm2tVrTJgwkd86/cbZs2e12X664DE1ceLEYZaXiKmCIAjCj6DX68Ndf/L398e2QH7cXF3V+pOTs7M2W5gURcF97FgGDhzAkqXLGD1mNPPnzUOJ/ByBaKXT6Rg5apRZnUn7CKuMLAlve4wkSdR0cTFrj3Gu4Rxq/rBIksTEiRNo2KABAQH+9O7TB4BaNWvGqPL+HqysrELUc4N/fjGlw42gv7+MmTJRsmRJ9Hp9qJ+1LMv8b8gQ7GwLcOFCAJcvX8bJ0SnC38XQGAwGarq4kC9ffhRFidHtd4IQE0XPX6LwXXz8+JFePbpRpnSJbz7KlyvN0SPGKdLBvX//nqH/G8KVK1dIlSoV1R0d2bJ1C5IkYZc9IRtH5qKNY+SXCRTivrlz53Ljxg0+ff7EqZMn6dipE6UisfSTLMvUcHamcOHCrFi5ihEjR1KufHlq1awZ5QZIOWit+Z/BVD4PHzxg3dq1dOzUiZIlS2qzfZOpYXbylCn06NmTnbt2sXXrFtzHjo1y5dfb2+unlc/y5csBSJUqJdu2baNjx04RbsTdtGkTDerX5/6Dh7Rs2ZLVa9bSskVzVq9erc0qCIIQaQH+/jx/9ozHjx/h7+9PmzZtSZs2rTZbuAUEBFCqZAnGurvTq3dvdnl6csjnEEMGD9ZmjZDoXirRNHpWp9OpN/amf39vSxYv5uXLl9SvX5+LFy/SoUPHaHvdGs7OJEgQH8/du+nVuzfz5s+jXNky7Ny5Q5s1QqK7/CPCFFNTp04lYqogCIIQI2zZvJk7d+7w6NFDtf6ULl06bbYwuY8di4fHeN6+e0/Lli3ZsWMnc+bM5u+//9JmDTdFUbh586b2cKQFry9ZenwvPj6H8PE5xMuXLzh18iQODtWpUcNFm+2bJEmiZ88ejB0zhubNm7Nm7TocHKrTuHFjAP74YyJv3rzRnhYu0V3W34u2nvsjPr/vSZZlZs6cwZ07d9i7dy/p02egfoMG0fJ+JEkiaZLE5MmbhxEjR7Jy1WpSp0lDqZIluHjxoja7IAgWRM9dbQQE31ss+EO7z9j3FnD7E41G3zB7bdPv1mj0DXV/s+/l6WsDbSbeCvN9J0qUiEKFw7cWb6ZMmcmTN5/ZMUVRWLlyOVevXaFOnbrodHqePHpEpgwZsbKyomnlVN9cNlIQhg0fTsmSJalSuQpTpkxmzJixkWoQ0+v1jBw5khkzZmJtbY1er6dPn75UrFgxypUCd/exeHru0h7+IUyz2gwGAxcvXmTsWPdIlY+dnR09evSkWjUH9Ho98ePHZ+Wq1eQvUCBK5SPLMjVdXKLccRcZer2edu3aAdCgfn3q1q1L5y5dtNm+qVGjRhw5+i/x48dHp9PRqFEjJk+ZQosWLbRZBUEQIq1Bw4YA7N+/n9SpUzFh4sQoXX/t7OwI/PCRunXrodPpiBcvHvv3H2DEyJHarOFmGu38swZSRKfgMSJ1qpSkSJE8WpeSmjJ1Khs3bVaXa6pRwwUvL+8IzwwLTpZlXIcO/SmjfIOXV/169URMFQRBEGIE0/1wVOpPw0eM4H3gB+LHjw9AiRIl8Dt9hoEDB2mzhtvBg95069r1p9wHR6cqVapSuXIVHj58yMGD3syaPTvCA24UReHAgf0sW7oUgJ69eqvPkSVrFgAePXrE5cuXzc4Lr7hS1rGNqU0NYNKffzJj5kyKFi2qzRYpVlZWrFi5ijlz5mJlZYW1tTUzZsxkxcpVUd5PUBB+FRFvGY6kwE8y/WbdY9L6J9okACatf0K/WfcI/BT7GxG+JeD2J7pPvcOLt9++Ya9QoSKJEiWiY8ffOHHydIjH8RN+NG3WgvIVKpIunflo7MtXLrNxw3qqVqtOunTp0elgqNtw+vYfYJZPEMJiZWWFj+9hqjlUI/DDR9KnT6/NEm72lSubLdWo1+tj7L5l4VW4cGGev3jJjp278Dt9JsKj+kz0ej1du3UzO1awYMFY3wjWpm1brl2/wf0HD5k1a3akOiT1en2I2YP16tWP1HMJgiCEpkiRIjx/8RLvg4dYtXpNhBs0tPRBSzNpj6VMmdLs2K+sbbt2XLt+g3v3H7Bq9Zpova4XKlQoRPlXiIaBPu/ehT5g7nsTMVUQBEGIaQoXLsyLl6+iVH/S6/UhtnSwsrISsSmobDx372blqlUcPnKUnDlzarN8kyRJzJ41G4DGjRub7eVq2seeoFUfhNhDr9fzx59/cvzESe4/eEi9esaBftGladOmZj/r9XoKFSpkdkwQhND9sAj214YnXH3wWXvYzNUHn1l/6JX28A/jUCwZnh552Dw6N4VyJNQm/xQ5cuTAJksWTpw8wdu3b7XJPHr4ED+/k7jUcDG7uD558oTpUyeTIEECGjduAtF33RV+QVZBe41EtAJtGlHl7e2Fl9cBs/8rihLimJfXgVg5Oipp0qQULFgwwjcFBw96hyifAwf2c/Cgd4h0U1psKx+dTkfWrFlJmzZthMsHUMsl+MPL64DZQxAEIbokTZqU/PnzR+p6ZYnBYOD+/XscOXwYb28vLl26hMFg0Gb7pWXNmpV06dJFucy9vb149PCh9jAAL168YOvWrcyfNw+DwRClmYIvXrzQHvphREwVBEEQYqIkSZJEqv6kbRPYv38fBoOBGzdusH//Pl69ehWlmB1XRLY9hqAyXr1qFbt3ewLQvEULs8/J79Qp9d/R2WEj/Bh6vZ6iRYtiZWUVpc9PlmW8vb0sruZgWj506ZIlbN++TdzLCEI4RSwiRpLX2XccuxQIQKL4OiZ1zYKnRx71Uc42iZr37PUP6my3MSseUdPtOv1m3WPWtmfqUpRL9hhvdoMvEWl6WJotZ5plZ54n5IUktOUltedbWg4z+LnHLwea5W8z8RZPXxsvSkv2vGDI/Pt8/GJsOJ+0/kmI1wsuRcqUlCxZips3rnPLwhrJR44eJmPGjOTLnx+ADx8+0L1bF+rWqYmfnx/Pnj2jY4e23L1zR3uqIHx3sixTu1Ytarq4UKtmTfX/Pod8UBSFCR4TzNImeEyIVKfSp4+W/35iOkvlU7tWLbWiI0mSml7TxYWJEyZGuHxkWY5S5etnkmVZ/Y4Ef9SqWVN9TPCYIG7EBEGIcWRZZt26deTNk5vChQrRr19farq4ULxYUTq0bxfpvRDE9c6yO3du878hQ1iwYIFZGZka86pUtqdF82b07duHvHlyM3bMmAjHU4LK//Xr19rDsYKIqYIgCEJMI8uyWTtBndq1mTJlMgXtbKlTuza2BfLjOnRopGJTZOJ8XCTLMgsWLlB/dnGpiSzLyLKMwWAwW1LSrmBB9d8RIco69ps1ayY1XVw4fuyY2XFZllm/fj12tgXo3r0bTZs0obJ9JbUTVxCE0P2QTjdf//cQ1OE2toNNiFlko9pmopxtEvLZJMDjN5sQ+4xdffCZHceMG3omiq+jdP4kBNz+xMilD9TOq+B53RY9UDvenr420G3qHbNZdlcffGb08kchzrXE0vkEdZaZOv+C+/hFYfTyR2b5X7yVGDj3ntrxFlGV7StjMBg4evSI2fH379+zb+9eatWqQ4IECQBInDgxc+ctYN36jaRNm46OHX/jkM8RsmXPbnauIPwIer2eXZ6e7Ny1i8yZM0PQHjeV7CuhKAqdfvsNgMGDh7DL0xNXN9dIdRB9+PCBhAljxuzUiNDr9ezctYtmzZqpx0xrZhM0om3OnLkA7Ni5M1LlE9HRhjGJoiicPXuGnDlzsnrNWvwDLnDIx1dd6x+gfYcOsfo9CoIQ98iyzDh3d9q3a0uqVKnw8T3MiZOnCPzwERsbGzZu3Ei/vn0j1YAkrnchybLMkMGDefv2LV26djErI18fH2rVrMn169fVY48ePWL+/Hl8+PBBPRZesbn8RUwVBEEQYhpTe8Hw4SPUY1OnTuX1G+MqT69fv2br1i2R6tSJ6H1zXHX9+nVOnjih/ly7Vi1qODtTw9mZmi4uXLt2DYDUqVNToECBYGeGnyjr2O3xo0dMmzqVwYOHUK58efW4oihMmvQn7du1Nct/+vRpZs+aHal7GUH4lXz3u6rATzIv3xo7m4rmThyiw81kVNtMTOuVNUSHm0mzKqnMln7c5PuKj18UytkmUWfMNauSCoB7z75w6/EXAHYef6PunTakWQY8PfKw7H85SJM8fNOy52x/xou3EmmSW7HsfznMXufAmbcWO9Ly2SRg48hcZrP4XryVCLj9kY410jCpaxYSxTcGpSHNMnxzOct8+fKTPUeOEEtM3rp5k7fv3lKoYMg1dW/fvs2rVy8pWrSYNkkQfhidToeDQ3WqV3dk1uzZxIsXj4sXLzJ40CA2bNhAxw7t6dylC2Pd3XFwqI6DQ/VIVdgCPwRGqvHsZ6tatRrVqzvyv9+Hqsfmz59H5cpVAKhcuQqLFi2kcePGVK/uGOnyic3evXuHo5MTjRo1IleuXLi6DuXLF+P13dXVjdatW2tPEQRB+Kn+PXoUD4/xAAz53+8ULlwYvV6PXq/HJotxs3pfXx9uWljBQIi4p0+esG3bNnr26kWmTMYBPgTNFv/rr79IliwZf/89mVu3brPL05OqVavx8uVL7t27Z/Y8vwIRUwVBEISYxNReELzxvk+fPiRIkIB27dsDUMPFRQwIiYID+/er/3ZzG4a9vT2VKlUy/t++ktqO4uzsTIoUKYKdKfwKFEVh165dPH36lJatWpn9rW3YsIFRI0fSqFEjNm3ezLv3gSxbvgIbGxuuXLkcqc5wQfiV6JQo/JWsWL8Nl+rGxuHQBH6ScVv0gKsPPlPONgmj2mZS05bseRFiD7fgs+HGrHjEsUuBpEluxeTuWUmf0nxjVZOnrw0MnHtP7VwzPUfOjPHV19bOovM6+45J659AUMeXQ7Fk6jHT+elTWqvP26xKKjrWSBPi9bTnBn8+gpbANM3IMx23dOxb/v57Etv+2cr06bMoWqwYiqLw11+TIGiWkLYh/u+/J3HQ24u58xZiY2OD19l3LN79PMxy1Fqy5wVnr3+wOPtQa/eBQzRrUFN7WIghFi1cyL/H/tUe/m4WLlykPQTAgvnz6dOnt/pz8xYtWLJkabgq0bIsM3rUKD58+MDHTx/58OEDnz+FXFZSp9ORKHFiEiVKROJExv+PHDUqzNf49+hRFi22/DtHtwQJEjAraBNjE0VRqF2rlrqXyoaNG6lbtx579+6hXt26HDx4yGzEkSXe3l7s37efjx8/8uHjBz5+/MjXL19QFIWtW7fSoEEDdDod1tbWJAxWNqbyCcvwYcN4/OSx9vB30bhxY2rWrAVBeyElTZKYJUuX0bx5c1yHDmXatKkA1K1bl3XrN4T5uQo/1/qtniIuCD/c0iVLOHzksPbwd1GgQAEGDx5idkySJNq2ac3mzZvJkSMHFy5eUmcvy7JM3jy5efDgAQD/HjtO8eLFzc43cXcfa34jG/RPRVGYMMEDV1e3EHU/gAK2tmazpy3p3Nk4yzyiBg8eEmIEdGSfKyry5s3L78EGq6xbtw4316FcvnKVePHiQVA5LVywgBkzpjN79mwq2VdW8/v7+1O6VEkOHzlKqVKl1OPBrVu3jivBllsysVj+wT8GhW/G1MGDBvH6zY9ZorJJkya4uBivwyKmCjGRqCsIQsywfNkyfHx9tIe/iyw2WRg9ZozZsTGjRzNhggcAy1espFmzZiiKgiRJ6HS6MPcyGzt2jFpPCk6WZY4cOYK9vb02CQD7yvZUq+agPWwmsvUcbXvI9evXmThxgtmx78n0+oqi0LdvHxbMnw/Azl27cHCojqIo6HQ6BvTvz9y5cwBYsHARrVu3DrMuEBPLOjbRfi++fv1Kjx7dzY79CG5uw8iVKxcEfXZVq1bBJnNmVq1eo37+sixjX6kiWbNmZdXqNWZ/gy1bNOfAgQM8evwkzL9NQfjVhX41/Q5evjWE2G8tPNIksw7R6fP0tYE2E29R0+067f+8rXa4hSZ1cvPnSJ8ynjrbLDRPXxv4EPT7rj/0St2jLfjr3XliHB1qkii+jvQpjTf80Um7xOSjhw/x8zuJSw2XEI0ub9++JSAgABubLKRKZZyVJwjv3737YY/QdO7SheEj/ls6In78+CG+v6GRZRkrayuSJU9G+vTpyZEjB/kLFCB/gQIUsLXVZocIri2ufQ/f62GJTqdj0OBB6s9LFi/GYDCwYP58XFxqUqZsWbP8lhgMBuIniE+KlCnIlCkTuXLlUsunYsVK2uyAEuPLx9ramveBH2jatCmrVq5UGwdz5szJeI8JHDp0UO2oFARBMNFeV77Xw5KAgAA2b94MQNas2cxinCRJaodbypQpKVy4sJoWggKKrPz3UP57EBTf1Ifpv2DpYfny+XOI9xKehyWKooTI970fwcmyzMGD3pQpUwZr6/8GlcmyzOo1q2nTtq1ZhxvA+XPnSJAgAXZ2dmbHg5MkybyMwyp/5b/PKby07+l7PYITMVUQBEEIizaGfK+HJcHrS2nTGge7mwaMhtWoL8uysc6kjctBnUpYitmamB4W7e8enodpf3Ytbb7v+TBRFIWHQXVPADtbO3Q6HXq9HlmW2bt3DwBZsmTByckpzA63qJR1eJYh1L6HuPiwRJvnRzyCk2WZE8ePU6mSvdnnv3fvHvz8/OjWvbvZ36CiKFhZWVGmzLfbqAThV/fdZ7oB6ow17Z5u4Z3ppp2lFnz2HKDOoDM9n6WZbtpZdpZmm2lnugEW940LzjQDTnuu6T1aeh1Lx77l5csX9OzZnUSJEjNt2gz27PHkyJHD/PHHX+p+biZXr16hV68euLjUZNAg4wjs0GbiWRK8fLVlHxox000Ij9evX9O8WTMOHTqoHnNzG8aIkSPD3flmyZgxo7G1tfvm6P6YTJZlypQuRUBAAAAHD/lQtUplFi9ZSqtWrbTZw02WZZydnNizd2+YNywx2fHjx2nUqCEvnj8HYPWatTRq1IixY8bg6+vLnr17w7xBEH4OMXpd+BXNmT2bAQP6Q9CI4bZt/9sDYemSJXTv3g2A2rVrs37DxghflyVJIkniRHz4+Elc94LNLLx8+TKn/E6rZbJhwwa6d+vKk6fPzDrj3rx5Q506tdHr9Xh5eUe4/GVZJnGihAR++Bjhc2MKEVOFmETUFQRBQDPTzXP37m/OigoPb28vPMZ7sHffvii1NcRmsizTskVz/vnnH9KmS8ft23fUetGuXTtp1LAhAJP++ovevftEupxEWcdeBoOBDOnT0a9ff3W1BkVR6NWrJ9euXjP7TBVFYcOGDbRr24Z+/frzx59/ap5NEITgfsgdVWP7VCSKrzN2Ms2/j9dZY896xxpp1P3YhjTLoD0tVIGfZF68M+6lNqRZBrPOtNBoZ9k9ff01zM40gPQprUkc1Nlk2lNO+zAtOfm9pUqVmpIlS3PzxnXOnz/Lnt27qeFSM0SHG8CNmzd4/+4dhQsXUY85FEum/s5hdbgBJEmoZ1qvrHh65Alznz1BiAhZlhkyZDCHDh1k3fr12AeNPPfwGM/qVSu12X85er2eAQP/m+22YsVyChcuHKs7EqPD27dvcXUdqjYOurq60bBhQyRJwt//vDa7IAjCT6MoCv/+e1T9uWLFimZp//yzVf3ZbdjwWNtpE5NYWVnh4FCdixcv4j52LNu3b+Py5cusWrmSEiVKotPpkGUZSZJYtWoV7du148aNG0ycMPGXLH8RUwVBEISYLgrzAgQNnU5HtmzZAbAtYGvWebJlyxYAHByq06NHT9FZ9ovS6XTY2tri4TGeuXPmcPTIEW7cuMG2bduwt7dXZyrev3+PsWPG0K5tG+ztK5utYCUIgmU/pDelUI6EFM2dWP150von6lKNpodpFlbihPpw7zkG4Ov/HoKWgjxw5q1ZWpKEeorlMb7u1Qef1Vl1T18bWLzbeLMZlvQprclrY5yxduDMW56+Nnb0eZ19R0236zQafYOA2yH3lPoedDodlSpWwmAwsHDBAt6/f0fRwkW12VAUhVMnTpA2bVoKFiykTRaEH87U2DVlymRWLF/O1WvXqFevPn9Pnqwu7TRgwABOnjyJwWD4pSvZLVu2JH164wCERQsX0qp1a7MR+r8aSZJwdR3K0SPGZXXLlC3LsOHDkWWZjRs3sn37dlKlSqk9TRAE4acwdrr9t39q1qxZ1ePz583D09MTgAkTJ1KiRAk1nxA17Tt0IF++fEyY4EHTJk0oVrQIu3d7oqBQsUJ5cuXMSZLEifitU0f8/PyYN2/eN/dJjYtETBUEQRBiIlmWQ7QBWDomRJxOp6NyFeNgZ19fH65fvwbA6tWrWbF8OXZ2dkz8449fus3hV2dlZUWbNsaVOfr374eDQzWaNW3C82fP8PL2onChgmTOlJE8uXMzYYIHxYsXZ/6CBSRLFvZkDkEQflCnG8DgphnIZxNyVlZw+WwSMK9/9m92ugXvDDt2KTDEPmvB1S6bgjTJjSNZTfuyhZbXEtMsvRdvJdr/edusg7Bo7sTqMpIREXwG3aT1T8LdeZe/QH6yZsvGxYsXKFmqDJkyZ9Zm4d27d9y8dYvixUqQMWNGbbIg/FCSJOHs5IRLjRoMc3MDYM5s40a9z58/I23adBA08rp2rZrUdHHB29vL7DnC48kT499kbKfX6+nXvx8ANjY2tGndRpvll7Jq1SoWLVwIQOPGjbHJnJl2bdtQoXw52rczVgxz584jRuUJghAjnDx5knv37gFgZ2dHhfLl+N+QIXTu/Bv9+vUlTdq0bN+xg379+ovrVjSytrbmlN9pGgYtkWRy2NeXs2fP8vjxIwB69uzFAS8v6tSp+0uWv4ipgiAIQkxjai84EjQgBGCCxwRqODtjMBgHvQtRU6tWbVq3MbYrdOzQgbp16vBbp47Y2dmxbPkKChUSg/V/dd26d2fSX3+RJUsWAC5evAjAsX//5caNG7x+/ZrixYszffoMfA8fIWfOnJpnEATBkh/W6WZasnBS1ywkim9+M5covo5JXbNEaClDbSdePpsEzOmbjTTJrfj4ReHklUAI6uCa1z+7Wd40ya0Y0ixDiN/DkkI5ErJiaM4QHYbNqqQK17KWlqRPaU314snVnz9+UXj6+qtZHktMS0wmSZIElxouFm+KHzx8wKOHD6lZq/YvuWyOEHGKomAwGJAkCYPBEO2VW3t7e+zt7XFzG4ab2zASJUoEQaOuKlasiJvbMFxd3ejduw8VK1W0+L3+llcvX2oPRSvTbD3TIzpH3Wk3Fe7Tpy8AzZu3IF369GZpMdX3Kp88uXPh6uqGq6sb+fLlp0ABWwoUsKVWrdq4uhmPJ0qUKFLfGUEQfj2yLGMwGPj69asa96KT36lT6r8XL1lK3br1uHLlClZWVvz19994eu7G0THsTerjku8VG7R0Oh3x48dn1eo17N9/gDJljRu729tXplu37ixespQrV68x6a+/yJcvX4yPGd+r3ERMFQRBECLLVIcK/ogulStXNmsvsLe3p5J9pV8qHsmyrNZPw1u+iqKoS/+FxcrKioULF7Fp82YKFylCpsyZWLJ0Gfv2H6Bw4cK/TL30R5JlWX1ElvZvLirP9S06nY4+ffpy4uQpVq5arR6vVMkeV1c3dnl6cvjIUTp36SJmRQpCBOiUKNzJrVi/DZfqVbSHhZ9o8+ZN7Nq5g6nTZpA0aVJt8nez+8AhsQl2LPT161d69OjOyhUryJ8/P2/fvqVjx0781vk3bGyMo1xig5YtmtOwUePvsv/Z+vXrWbpkCWfOnEZvZUW2rFnp2LETnX77LcoVDkVR6Nz5N2RJYsHCRVhbWzNunDvj3N05cfIURYr8ty9jZMmyTIb06Xj85Ol36Yg/e/Yso0aO5MSJ42bl81vnzt/l9YTYY/1WTxEXhBhDlmVmzJjOjOnTSZEiBYmTJKFK5So0adqUokWLRrlhR1EUmjVtwvbt2wG4cPESuXPnVjtMovr8JpIkkSRxIj58/BSjG0mMe6yNYffu3eTMmZMECRL8kNhw7tw5ypYpDcAuT0+qVXOItrIn6HuUOFFCAj98/C7v43vWOQQhJhJ1BUGI+QwGA26urkyfPo1K9vYkiJ8ARydHWrRoQaZMIVdfiim8vb3wGO/B3n37orUuEN205avX6alcpTINGjQMdRZaQEAAK5Yvx++0H7YFbJkydWq46gmmjrrorkPGlrK+efMmT58+pVChQt+lvVRRFDZs2MD8efNAZ2xvmzVrdqifY2hkWWbmzBlMnzaN5MmTc/HiRVxcXOj022/Uq1dfmz1aLV60iJ49e1Cpkj279+wJ1/dKEATLovdKK/xwM2dOZ9SI4UiSxOfPnzl27Cjt2nf4LgFEiFsMBgNt2xj3DHv46DGnz5xl+fIVnDx5klatWkX7DIDvafiIkTRp0kR7OMqePn1K3z69adKkCQ8ePuLOnbsMGjyE0aNH4ebqGuUyunjxIqtWriRe/Ph4eIzHYDCwedMmGjRoQOHChbXZI0Wv17Nhw8Zor1gTtJxts6ZNcHRy/C7lIwiCEF0WzJ/PnNmzWbFyFSdP+bFly1YyZ85MubJlCAgIiPLoUUVRuHTpEgCFChUiR44cENTZFp2ND1ZWVnju3v1drunR5f379/To0Z18+fJz9959Tpw8hceECezdu+e7x4b169ap/7YtYButZU9QTN3l6fldyv971zkEQRAEIaJkWaZ//35cv36NCxcvsWfPXib99Rfv3r6jSePG4ZqR9bNUqVKV+QsWRHtdIDppy3fv3n1Mmz4dRVEoVbIEDx8+0J5CQEAAbdu05vmL5+zdu4906dPRu3evcNVldTrdd6nDxJaybt++HVWrVGbz5s3a5ChTFIX169fTrm0bmjdvzv79B0iVMhVTpkwO12cT3Px585g6ZQorVq7ilN9p7j94iLNzDZo1bfpdfncTg8HAhg0b4Dt+VwThVyL+gmKxjx8/cvnyZXLkysn7d++ZPm0qRYsUxd7euFGqIIRl//59XL58GZvMNqROnRorKyvsK1dm1OjRHD92jIULFkS4cvCzFCxYMNorBJIkMXfuHAoVLkzOXDnR6/VYW1vTpEkTRo8ew/Tp0zh//rz2tAjJnDkz2bNnx8bGhrRp0pIrZ07y58/PqtVrorXCWrVatWh9PoLKZ8qUyWTPkYNChQqFKJ9p06ZGuXwEQRCiw6tXr1iwYD6jx4ylTJky6PV60qZNS4+ePenYqRNurq5RXsLv+fPn3L9/H4CixYpF+zU3uGrVHLSHYgxFUZg8+W/KlilLp99+I1myZFhbW1OtmgPOzjW+a2yQZZmNG40NBXZ2dqTPkEGbJVo4OFSP9s/XVOcoXKTId6tzCIIgCEJE7d27h1cvXzJgwEBy586NlZUVdnZ2DBs+HFmWGT1qVIxtM9Dr9TF+76l9+/aala9er8fW1pZhw4ZTvHhx3N3dzcr3y5cvdP6tE/ny5WPBgoXo9XqyZc3G0iVL8PPzM3vuHyk2lHVw0d12BHD58mUGDhxAz5696NK1KwBZs2Vl1cqVEbrPePPmDWPHjsHJ2dnsvqV7jx507NSJSX/+8d0GYl2+fBlvby8A8uXP913KSRB+JeIvKBZLlCgRjRs3YdnSJbRr35pixYrTqnXbaG8IEOIeRVGY/PdkLl++TPbs2c3SSpYsSY4cOVi9ZnWEKgdxjU6nw2P8eA77+oZYarNKVeOyumvXrIlSGaVMmZLBg4dw8+ZNTpw8gZubG8tXrPwuS1ZFN1P5+Pr4fLfyEQRBiA6nT/sREBDA9m3/mB3X6XQUL1acffv2smfPbrO0iEqbNi12dnaUKFGCpk2b/rI3qYqi4DF+PNOnT+PGjetmaT8iNqRLlw6AVq1bx4pYaiJiqiAIghATnTxxkk2bNvHvsX/Njuv1egrY2vLXX5N49+6dWZoQfieOnwizfJcsXszbt28haHDR3LlzOHv2LL169VbrmunSG+s+N27cMHsOwZxer2fp0mV4eR+kfv3oXaJRkiSmTZuKXqend58+6vG0adICcOfOnWC5w+bnd4qXL19y8sQJs+N6vZ7ixYpz5syZKN+3hMbUwZspUyaaNm2qTRYEIYJ+zRaBOKRaNQcOHjrMP//swMnZWXS4CeGi0+no0LEjc+bMpXWbNhDUUGaSNl06jh87plbwfkV6vZ5p06azy9OTvHnzQrAyMjWInT59Okoj+3Q6HV26dmXp0mUsWrSYbt27Ey9ePG22GCl4+eTJkwe+Q/kIgiBEh9Kly+A+bhyzZs/BysrKLN5lyWq8Xj15/CTYGRGn1+s5fOQoPr6HcXGJvfsTKYrCy5cvWbt2LXfv3o1wJ48pNhzy8aVq1WoQLDaY9n3x8/P7LiN09Xo9y1es5MzZcwwcOEibHKP9iDqHIAiCIERUJftKuLq6MWjQYNC0GWTMkBGAx48fq8fiMlmWOezri7+/P7IsoygKd+7cYcOGDTx//lybPVzsK9tbLF9FUdTyffLEWEd99eoVCxcsoGWrVlSyt1ef4+bNmwDcvRv+jp1fVe7cualQoQLJkiXTJkXJnj27WbpkCY0bNyJXrlzqcVP77O3bt4LlDlupUqUZN348GzdtDvO+JaJ19PAoUqQIh3x8uXb9hlqPFwQh8kSnmyD8olq1akW79u3Zv38fbq6ujB0zBn9/fyRJIsDfH4Bz586q+WVZRpIkDAaD2lhmMBgwGAxxthGoa7duFCpUmFWrVtGpU0fmzpnDk8ePuXbtGgC+vj5qRUpbNsGZKuWh0el0WFlZxbpO867dulG4cBHWr19Pz549mDljBo8fPTIrn+AsfYdMxwVBEL6X5MmTM2jQYG7evMm0aVPp0KE9mzZtwmAwcOXKFQB1aUgtRVGQZTnEdcsSfdCSgLHV27dv6dWrJ3nz5OafrVvIlzcPU6dO+eb71urarRu5c+fmn3/+4X9DhjB+nDsXLlzg4sWLABw+7GsW70KLAbIs8/Xr1wjVM3LlyoWtrW2snGkYkToHIqYKgiAIP0C1ag4MHzECXx8fxo1zZ9DAgRw6eBBZltW9bB89eghBbQOSJKlxSJIkNY7HBYMHDcLRsTo1a7rQufNvLFq4kPz58rJwwQKcnRzxD2pDiYiqVauZle/gQYM4dPAgX79+NStfRVGYN28uV69epU6dumo9R1EUblw3znDLls18BaPYzM/PD0/PXbx8+RKCvktHjxzmxIkTodZzZFnG39+fhQsWMHPGDB49fMjatWsJCAiAoOfw9vZSHyZ3797F29sLL68DeHt7IcsyR48cZvduT+7fv/fNerAsy0yfNh0AJ2dn9bgkSZw6dQqAYsWKq8e/JXny5AwcOIjXr18zbdpU2rdvx8aNG/n69avZfYupTmi6V7FEkiT1EV5ly5aN1fczghCTxL47UkEQokxRFB49ekjTJo0Z+vvvJEyUkLdv31K6VEl27/bk06dPEGx0tSRJdOnSGTvbAuTOlYv27dpy7tw50qRORdIkialYofxPXUP8e5BlGZ9Dh3Cs7sCa1aspWrQoXl4HcHSszvlz5wCwsbEB4N+jR8maxYakSRLTsEEDs0qPLMt4jB9Pm9at1GNxgal8qjtUY9HChRQqWIijR4/g7OyEf9C+MzY2NmaVwW3btuHoWJ1sWbMwftw4ZFnm8+fPJE6UMNSKoiAIQlR9/PiR/v36Uad2LSRJorpDdaZM/puOHdqr+2RlypRJexpv375l4IABFClciIwZ0uPgUI2DB7212eKE69ev07hRI6ysrHj67Dlr1q5j4h9/4DF+PM+fPdNmD5Usy+zbt5cK5cvh73+eIkWK8OTJU0qWKM7FCxdAExvevHlDDWfnEANTfA4dolq1qmTKmIFq1aoyTrOnSVwTkTqHKb+IqYIgCML3pCgKAQEB1K9Xj+EjhpMpYybSpUtLx44dmDTpT/z9Tfd8Wbhy5QrFixUla9Ys/G/IEAICArCvVJFkSZNgWyA/2zRLfMc2PocOMXv2LN69D8S2gC2rV61i3bp1vHsfiE0WGy5evMizZ0+1p4XJUvmmSZuGjh07MHny32r5Zs5sw9u3b1m4YAGpU6embt26Zs9hmulWpEgR9XhsduXKFSpWKM+UyVMoX64sq1atIkniRPTv35+2bVrTuFHDEPUcWZYZN86dob//TpKkSXn3/h2ly5SmQ/t2PHv2FFmWSZI4ETVdXKjp4oLPIePgYFmWyZc3DzVdXKhVsya7PXfTqmULHBwcWL5sGXly58alRo0wO6127NjBwYPeZM2alerVHdWOZ0mS2Lt3DwULFiR58uTa00Jl6b5l6pTJtG/XNsR9i6IozJgxnQH9+5s9h6IorFu3jnJly5AkcSIa1K+Pp+cuszyCIHx/otNNEH4xiqLw79Gj5MyRg2LFiuN3+gwjR47i78mTuXHzJiOGD1fz2tjYIEkSpUqWoGDBgly6fIUDXl5s3LiRtm1a8/vQobi6uXHmzBl8fA6ZvU5sJssy7mPHUqOGM1OnTWPnrl3069efDRs34TFhAge8DgBgkyULkiRRrVpV5sydx7LlK9i7dw/Xr/+3j82xf/9l3Dh38uXLH+wVYjdt+ezbv5+evXqxZu06xnt4sP/AfggqH5Pbt2/Tt08f4lnHI3Xq1Hh4jKdokcKkSJ4MH9/DsXJWgiAIMd/du3dxrO6Ar68Pd+7eY+DAQbRr3x4f38PkyZuXC0GjX22y/NehQbBOKGtra47+e4xnz19Qq1Yt+vfrx9evX83yxnaSJOE69HcuXb7E77//ru6FVqRIEd69e8e+/ftDdIpZYooN9erWZehQV0aOHEWbtm2ZMXMmGzZu5MjRIxAsNsiyTLu2bRk2bJjZDK5/jx7F2dmJN69f069ffxImSIiHx3gOHTqo5olLtDE1rDqHqZzu3LkjYqogCILwXW3bto3qDtUoUKAABw8e4rfOnXF1G8a16zfYv28/Dx48ANP+T00aM2z4CFasWMHMmTNwrO7AzFmzGTrUlRcvXjBzxsxw1SViqgMHDtC7dx+srKzw9fUhZcqU/DlpEnq9nqtXrgTt61tSe1qYgpevt/dBfuvcGTcL5WtjY4P/+fM8fPiQ3HnyMHHCBMaOHcOY0aMZO3YMe/fuIU3atOTLl0/7ErHS/HnzmDlzFn369uHOnTv81qkjy1esxNVtGHfu3OH9+0DtKdy/fw+P8eMZMXIkLVu2xNXVDS+v/wbK6fV6Aj98ZMfOnWbnmY4vXLQYgDVr1uDiUpOPnz6zes1aJkyciK+vD/v27TU7LzjTHsY5c+aibp06uNSoQQ1nZ2rXqgVAiZIlw72ikaX7lvYdOuB7+Aj58ucPcd/y4MF9Jv89Gfdx49TnkGWZ5cuW0b5dW1KmTEX37j24efMGc2bPCdFZKQjC9yXuyAThFyNJEo0bN8LBoTqubm5mDTOZMmUmceLEANjbVyZBggSsX7+eAgUKMHDgIPR6Pa9fvwagcOHCDB3qypHDxka09OkzqM8T2x086M2ECR64uQ0LsZZ1hQoVWb9uHQDVHaozwcODmjVrUq9ePf4NalAMDPyvImhqZLS1s1OPxXbBy6dKlapmadryMX2/Vq5cwZ+TJrF33z78Ay7w+s1bcuTIyfIVKyldurTZcwiCIEQHWZaZNXMmfn5+jBs/3mzPTL1eDwrqiNGKFSupaZIkMfT3/wEwYeJEkidPjk6no3Tp0ly+fJnTp0+reeOCf48eZfv27XTp3IUsWbJqk1m+bJn2kEWm2ODk5Ez7Dh3M0ipUqMiqlSshWGyYOXMGOp2OylWqqPkkSWLGjOksXLSY02fOMmLkSPbs3Uvx4sVjdWNdWCJS5zA12oiYKgiCIHxPBoOBObNnY2VlxaBBg8yWm9PpdGo8srevzJfPn7l69SpNmjTh7Fnj9hTDR4ygRIkSHD16lA8fPtC2XbtYHcet41nToWNHtd7YokVLihQpgpWVFYsWL8HTczcpU6bUnhYqSZKYM3s2er2eQYMGhaijBi/fBAkSqEskOjk6oaCgKAozZ85g4oQJAJQoXiJODLiRZZlZs2bSoWNHzpw+A8DEP/6gWbNmvApaatLe3j5EJ5Zp0PPePXv4+vWrcQZbvnw0aNBAzWNlZWWxjKysrLCxMe47XLBgQdq2a6c+f7FixQA4cfyExe+vLMvqTMOWLVvSr38/OnTsSP0G9alYsSJAuJc9D+u+RafTUbJkSbP7FkVRmDZ1Gq6urmYz6Y4eOcKAAf3x8T3M3n37mDptGn379sPf/7zF9yAIwvfz7b98QRDiDEVR6N+/H69evaJo0aJmgdyU/ujRIwCcazhjZWXF9evXGDZ8hJrn3r17AFSoWBG9Xs/uPXvY5elJq1ZxY/lESZIYOXIkAIWLFAlRQTKVD0C1atVAB61at0GWZfbt20e+fPkoXLgwBFWc9u4xjoqqXPm/zY5jM235mGZEmIQonyAjRoykRYsWEFQuLi41qFipIo0aNQpRaRYEQYgOfn5+zJkzm1y5clGjhos2mecvjJve169fn6RJk6rHfX182LFjBy1atLC4p8FuT884c9MqyzIbN24EoHGTJmZpB/YbZ1hVqvRfh2RogscGJ2enb8YGRVE4eeIEtWrVMouzs2fP4t2797Ru3Vo9rtfrKVu2nMUOwdhOG1O/WecIElpMbdy4sYipgiAIQpQoisKSxYs5eNAbJycnMmqW4NbpdLwIqkM513DmwcOHuLkNQ6/X4+vjC6AOzFy7bh27PD3N4npsNGLESAoVKqRuo1C6TBm1rpM/f34yZMyoOSN0iqKweNEiDh70pnLlyhbPDV6+Op2O02eMA74cHR0ZNWo0o0aN5umz57i6uUFQx05ciP+m9iW9Xq8ur1m/vrHjrGOnTgR++Miw4cNDvNeCdgUB8PAYT4H8+WjTuhUzZkxn5arVVKvmYJbXElO9PlfuXBH+nl6+dBmAUqVLU6dOXVq3bk2vXr05FLQSVMGCBUP8vpaY7ltsbGws3rfcvXMXgt23yLLMrl07+a1zZzWPLMvGztiJf1CmTBn1dbt07UrSpEnD9XsIghB9InY1EQQhVpNlmX17jZ1ARYNG7QR38+ZNHj40boRsGm1tqmASbGlKgs0K0Ov1OAQbfR3b+fv7c+rkSQDKlSurTVbTihcvTiV7e0aOHEXTpk3Zs2c3N27coF69+moj7fv37/H19aF27dpxZibgt8rHL2izYFP5aH358oVs2bLSv/8Afv99qMUGbUEQhKhSFIXTfn58+fIFJyfjIBJt+tMnTwBwCDYrV5Ikxo8fD0C58uXNztm/z7h0bslS4V8mJqZTFIV9+/Zia2uLra2telyWZQ4ELRVcqHDhb77f4LHBUkOBNjZIksTly5epXLmymsdgMDBk8GD+97//mb2eLMt4eR0gV65c6rG44lsxVVvn0NLGVO33XBAEQRAiSlEUdbUWRydjp482/dkzY6dQ1arVKFy4MCNHjUJRFLy8DmBra0vBgsZOkNSpU5vVs2IzWZY5GRSXnZyctMnhFrx86zdoGKJsgpdv5cpV0Ol0nDxxAoA8efOq+SRJYvWqVQA0bdYsxOcUW5naoQICAihSpAjZsmWDoM5eKysri3WdDBkzsnfvPsqULcuDBw/YvHkzQwYPJmmSxEjB9mP71qC59OnSfzNPcIqicOnyJezs7LALtrLR+fPn+ffoUUqWLImj47e/K8HvW2q4uIR4j4qi4B/gD0Ed2nq9niePH1OihPkMx+vXrxMvfnw6d+kS7Gxjh154fg9BEKJX7I98giCE240bN7hz5w6EMnLd18e4oWzHTp0oVaqUNhlZljl9+jRFihSJMxv1ap0JWjbM1taWjBnNR/UpisLJU8aKdseOndQKjqIorFu7FoCaNWuq+S9cuABA+QoV1GOx3bfK58RJ4w1B8PIxkSSJ5MmSsm/ffurVq6feGESkYisIghAewa9HpUqVCtEQ8fHjR+7cuUPx4sVD3JhevXrVYieUV9DeWra2cWe54P3793Hjxg1KlCxpds328jrA2bNnadmqFfXr1zc7xxJTbChUqFCIPUWCfxYdOnRUX8ff35/4CRKo+fz8/KhQsSIVNfWTxYsWYWdnFyKmxAXfiqmW6hwmBoNBxFRBEAQh2smyHGygrXGJvOD+PXqUZ8+e0rFTJ0qW/G8fs0OHDvLlyxdKlykTImbFFb6+PtjZ2ZEmTRptUrgFL19LbSrnz5/n2bOn1Kjhoi4ZfffuXVKnTm32ulu2bOHOnTshPoe44NnTp9y6dYsKFYyrK32LLMsYJAPe3ge5eu0606ZNp3jx4gAsmD9fzae9HzAJ7XhwodWv9Do9adKkNXsOb28vABo0DNmpaknwunKhgoVC/D6yLON//jxp06WjUaNGEHS/8uHDB7Pn37RpI1WDOuVMFEVh9apVODo5hut3EQQh+oi/OEH4hZgqCjlz5iRzZuO61SayLLN+/XoAOnX6TQ30GzduZP68eUiSxLNnzzh37iz29pXVdFmWSZggvtkIotjs69evELQ8gLayc/v2bTZu2EDx4sXNpvErisLDh49InSaN2cwIPz/jyP7ChQvHmQpOZMqHoNH4SRIn4n3gB7PG02VLlzJunLtZXkEQhOjw/t07CGXgw7RpUzl79qxZJxBBnVBPnjwOsen5zp07OHv2LLVq1SJHjhzq8djO3984ajZx4sRmcX3G9BkULFiQ8ePHhxhta4nBYICgWfRhxQZTB6der8fJyZlt2/5BDtrU/eTJE1SpXMXs8zh16hSurkNp1LhJnImjwUUlpiZNkjhETF29ejX9+vU1yysIgiAIEaEoCu/evSNXrlzqLCMT0/J1WBgQcuaMcQ+uypX/26s1Lrl48SKXLl2iuGZ2UWS8C6qjattkFEVhQ1CbTMNgHTYFChQgV+7c6s+KorBm9SoSJEjAb791jvLvE9N4enpCUB1eWz+y5NChgyxftgwrKyuyZctGt+7dOfrvMXLlysWmTZtC7TDT0gXbr1DL0nFFUShUqBCKoqjpkiSxbu1aSpUqxcCBgyyeZ4npvsUmSxZtElu2bMHPz4+GDRv+txypDnbu3MmJoFmQkiSxZ88eypYrp54nyzKrVq3i6dMn1KxZSz0uCMKPEbeuzIIghClPnjw4O9fg48dP2iRmzZrJwYPeTJ06TZ3lJkkSw9xc6du3D2fOnGH//n28e/eOFClSqJWHPn1607RpU82zxV4NGjYkUaJEPHv6zOy4LMtMnGjcqPivv/4O0Qip0+lImSKF+rPBYODAfuPSXOXLh2zwja1CKx9FUUItn69fv1K/Xj2GurqyY8cObty4wZPHj5k9axaDBg1kwICBwZ5JEAQh6nQ6HfZBSxfeu2fcA8Hk8uXLTJ0yhTp16tC5Sxezm+FLly4BEPj+vVkn1F9//QXAnDlzQ1z/YytZljn2778AHDl8mPnz5rF69Wrq1a3L3bt3WLpsOZkz22hPs6h+gwYkSpSIF89fmB03xYY3b97gNmyYWnZ6vZ7GjRsz9PffGefuzp07tzl08CAVK1VElmXOnz+Pm6sr1R2qMWPmLJpo9puLK0KLqWHVOcKKqb179eTvvycHeyZBEARBiBgrKyscHR25efNmiM6cdevWsWXLFlxd3dRZWATFrbNnzpA6dWpq1Khhdk5cYVoVqGjRouHuSLFEr9fj6OgIwPnz58zSDh70ZubMGXTu0oV27durx+vWq8frV6/UzqPt27exa9cuxnt4xLlZboqi4Om5C4DymqXeQ6MoCr6+vupgJoJmy719947WrVujKIr6MDEN+lIUxeIA8uB5Hz1+ZLHjTq/Xky9fPu7cuQ1B5yxauJAzZ85w8JBPuO8Zgt+3nDt71izt2bNnTJ0ymfIVKjBu3Hj1u1e5chV69epNZftKrFu3jpMnT3L1yhXy5s3Lq1ev2L59G40bNWTfvr0sWbosxN+yIAjfn9Xo0aNHaw+G1/kLV8iTK+6M9hUi7/qtOxQs8N/60kLMpNPpsLa2ZsWK5aRMlZJUqVLx+fMnZsyYwZ9//MHAgYMYOGiQWUBeu2YNXbt2JWXKlAwaOJCsWbOSOEli6tati/vYsWzetImduzxJEGyJqNgsYcKEfP36FU9PT9KlS0emTJm4fPkyk/78k6NHjvDnpL9wdg65tn3ixIlZtGgh+fMXwMrKiv79+rJ9+3aKFi1Kz569QuSPrUIrnz//+MNi+ciyTPfu3ShYsCA5c+Skd6+eTJ0yhalTp+B3+jTTZ8yM8o2LEDNduHxdxAXhp9HpdCRJkpTz589z9MhRsmXLStas2fD03MXoUaPIli0bs2bPJkWKlOo5kiQxb95cbt28yadPn8iWLRvx4sVn9KhRPHz4kD1795Ete3az14nNZFnGdehQcufOzaLFS1i/bi2+Pr5UqFABt2HDKFy4sPaUUIUWGyb9+Sc7d+6gb99+dOnS1exaX6RoURRFwcNjPDNnzODq1avcv/+AoUN/Z/r0aTx//pxJf/1NkyZNwt1oEdskSJAAw1eDxXKLTEydMXMWhQqFXJZIEGIqUVcQhJhHp9Oht7LC29ubD4GBpE2XjjRp0jB3zhyGDB5Em7Zt+ePPP83aDCRJYszo0ZQtW5Y2bdrGyTiUIEECUqRIwf9+/z1KHRjByzdt2rSkCyrfpUuWMGjgQOrVr8+sWbPV19DpdCROnIRFixZSokQJ/AP86dmzJxMmTKR79x5R+l1iIlmW6du3D7ly5WLQ4MHhen+3bt1i7pw57Nu3D1ky7r23YeMGXjx/Tp++fUmbNi3OTk4cPXKUO3fu8PLlCzZu3EiLli2p6eLC8mXLePfuHb6+vvgcMi4h2r5dOw77Hubu3TucPXMGHx8fbGwym+0xrNPpyJgpE5s3beLVy1f4+Bzi5MkTnDzlR7x48cx+x7AEv2958+Y1GTJmIFu27PgcOsSoUSOxto7HrFmzzWZG6nQ6HB0duXjhAhMnTGDp0iWULFWKBfPnMXjwILZs3kzBggVZsnQZ8ePHN3s9QRB+DJ1iqbs+nFas34ZL9bg5dVyImN0HDtGswX97WQkxl8FgYMuWLaxbu4bDhw+TM2dOKlSoSIeOHS021Gzb9g/H/j3GvXt3qVuvPra2tixetIg5c2bToWNHXF3dyB6HGiEJumlwdx/LYd/DHD7sS5UqValYsSK9+/QhderU2uwQVDlcuXIlhw4d5N7de7Rp25auXTrTtWs3pk2fHqJcY7OIlM/u3Z74nTqF27Dh6HQ6jhz2ZeHChWTObEOfPn1Ilz59nG1M/dWt3+op4oLwUymKwps3bxg9ahT79u3l8+fPlC1blmrVHOjYqVOIa48kSeTJnYuMGTMye85cRgwfTkBAAB06dGDI//5HkiRJzPLHdvfv3yNP7tx06dqV6dNnoNPp1FHA4Wng0AotNnT6rRM2NllCjYMnT55k8OBBHD92jEqV7KnmUI1qVatRtly5EJ9RXBRauYmYKvwKRF1BEGImWZbx8/Nj5ozp7Nu3j2zZslGxYiWat2hBqVKlQtQTFEWhhrMzAwcNpEYNl1BjvmCkLd9MmTJRqnRpGjRoQI0aLhbLd/PmzcybO5eXL1/QtWs3OnfpEiJfXOE+diytWrcmd+7c2iSLvLwOkDp1Guzs7NiwYQNeXgeoUL4C9erVI1369MiyzMGD3hBsmUhZlqlSpSqHDh1Er9ebzWQrWbIUp06dDHFcp9NRrZqD+rPJ7du3mTVzJvnz56dDx45YWVlF6m/g9evXuI8di4/PIfz9/alQsSLNmjajS9euodbvJEliwfz57Nq1i48fP5IjZw6qVq1GtapVyZAxY6jnCYLw/YlONyFaiE632EeWZSRJQqfTfbNSIMuyWYXONBVfF8aa17GdoijIsmz2HkN7r+vWrePevbt069adpEmTIkkSo0eN4q+/JrFlyxZq1qqtPSXWC14+ROK7oARb91yIm0RDmhBTyLJsdsMc2s3nyZMnsa9UkebNm7N02XL1OhXZTqiYbuPGjbRp3YqFixbTpk0bbXKkmGKDqd6g1+u/ea1XFIVMGTNQqFBhdu/Zo573K4lIncMSEVOF2ErUFQQhZjPFdILiUmh1KEQsipSIlC/BljwU5Ry22PxdDO99S3CSJJEkcSJcXd0YPmJEuOrfgiB8f7/WHa0gCCq9Xk+8ePGwtrb+ZkDWNn6FtyEtNjNVek3vM7T3eufOHdq3a8vwYcM4deokOp2Oq1ev8tdfk2jXvj1OznFzTfvg5ROZ70JE8wuCIESWXq/HyspKfYRm186dANSqXQedTqde27QxMC5QFIV9+/YC4OzsrE2ONFNsiBcv3jcH9Ji8ePGC169fkyt3LjWu/GrCW+cITUTzC4IgCEJ46PV6rK2tsba2DrMOhYhFkRKR8iUSA11/VbG5jMJ73xLchg0bAHBycgp3/VsQhO/v17urFQRBiEZZsmQBoFGjRlSqZI+3txclihejUaNGzJkzF2tra+0pgiAIQgyjKAqXL1+CCGzaHpspisK7t28pUaIEadKk0Sb/UOfPnwPAzs5ONBIIgiAIgiAIQjgpisLaNWtImTIlpcuU0SYLgvATiU43QRCEKNDr9QwbNpz7Dx5QulRJxowZw7Rp01m+YmW4RyYJgiAIP5csy2zZsoXKlauYbVIeV+n1elasXMXWrf/89Fh12PcwBHW6CYIgCIIgCIIQPrIsc/fuHSpWrCgGrwlCDCP2dBOihdjTTfjVGQwGFEX5ZZfGEgQtsU+LENtcunSJTJkykTJlSm2S8B0ZDAZ8fX0sbkwvCELcJuoKgiAIghA1/v7+xIsXjwIFCmiTBEH4iUTLsCAIQjSwtrYmXrx4osNNEAQhlrK1tRUdbj+BtbW16HATBEEQBEEQhEgoXLiw6HAThBhItA4LgiAIgiAIgiAIgiAIgiAIgiAIQhSJTjdBEARBEARBEARBEARBEARBEARBiCLR6SYIgiAIgiAIgiAIgiAIgiAIgiAIUSQ63QRBEARBEARBEARBEARBEARBEAQhinSKoijag+G1Yv027SFBEARBEARBEARBEARBEARBEARB+OVEudPNpXoV7WHhF7T7wCGaNaipPSwIgiD8otZv9RRxQRAEQRCEUIm6giAIgiAIghAXieUlBUEQBEEQBEEQBEEQBEEQBEEQBCGKRKebIAiCIAiCIAiCIAiCIAiCIAiCIESR6HQTBEEQBEEQBEEQBEEQBEEQBEEQhCgSnW6CIAiCIAiCIAiCIAiCIAiCIAiCEEWi000QBEEQBEEQBEEQBEEQopGiKHh7e+Ht7aVN+iZZlpEkCUmStEk/1IED+5FlWXtYEARBEIQwiE43QRAEQRAEQRAEQRAEQYhGd+7coU/v3hQsWEibFKZx49zJYpOZ/Pny0qJ5M5YvW4aiKNps350kScyZPZu1a9f+lNcXBEEQhNhKdLoJgiAIgiAIQhBFUdi1a6f2cIyiKAoHD3qLkeeCIAiCEEM9e/aMTp068uekSaRPn16bHCpZljlz+jR3793n2vUb1KpVm65du7B82TJt1u/OysqKNWvXMXvWTDZu3Cg63gRBEAQhnESnmyAIQii+fv3Kvn178fI6wIED+/n69as2S7jIssyBA/v58uWLNkkQBEGIRrIsc/36dcaMHs2YMaNZsngxBoNBmy1UBoOB8ePHcerUqe/asHT58mVatmgepSWjunfrxh8TJ/zSHW+SJDF/3jzc3ccyduwYjh8/HqkyNRgMUf48BEEQhLhDkiROnDiB+9ixjB0zhuvXr0coRnz58oWuXbpQtEhRXFxqapPDdOXKFXbu3MmypUvR6XS079CBDBky4uPrE6m6iSzLjHN3x8vrgDYpXOLFi8fAQYNp26Y1p06d0iYLgiAIgmCB6HQTBEGwwM/Pj9SpUuLm6oqvjy8DBwygsn0l5s+bF6GbHUVR6NWrJ7Vr1eL1q1faZEEQBCGayLLMHxMn0KRxI+LFj0fuXLmZN28ujo7VuXDhwjev3bIsM2GCB36nTjFs2HB0Op02S7SQZRk316Fcvnw50q+h0+lYuWo106dPZ8H8+drkX8L9+/coX64sJ06ewNbWDlmS6fxbJ5o0bsTr16+12UOlKArjx41jy5YtPH/2TJssCIIg/GIMBgN9+vRm/LhxfPjwAV9fXwoVtOPvv/8K90Ce6dOncerUKXr36YNeH7FmtwIFCtC4cWOqVqsGgF6vJ3/+/Oj1+kjVG8a5uzNunDsvXrzUJoVbvXr1KFuuHIsXL/pmfUoQBCG2kySJ48ePqwMvXr58GaGBFyaSJImBfb+wiEV/QRCEX8DTJ09o2KABf/45ieMnTjJq9GhOnzlLn7796Nu3T4SWHdvtuYslixcD8PrNG22yIAiCEE327t3D9OnTOX7iJG5uw2jTti3/HjtO+XLlKVmi+Dcbynbs2M74cePo2KkTVlZW2uRos3btWnbt2sWjR4+i1HBVqlQpxowZS79+fblw4YI2OU6TZZn+/frRsGFD5s9fQJMmTRg9Zgynz5zlypUruLm5hnsG4OXLl5k7dw4A9x880CYLgiAIvxBZlmnbpjWZM2dmy9atTJg4kX379+N7+AjTpk1j0MCB32w8lSSJzZs2UbtObXLmzKlN/iadTseq1WvInTs3APv378PH5xBVKlfRZv2mK1cuM3feXAAePox8jLO2tqZhw4YsWbxYzHYTBCFOMw28mODhQWBgID6+PuTNk5vRo0Z9834yOEVRGOfuLgb2/cJEp5sg/IK+fv3K7t2erFu3jmvXrkV62URJkmjVskWUGg1jIk9PT54+fcKVK1fUkYlWVla0aNECF5ea/PHHH+EKtrIsM2HiRPXniIy8jy2+fv2Kp+cu1q1bx+XLlyP9XZJlGfexY+Pcd0kQhB/nxPETvHr1ij//+EM9ptPpGDd+PKlSpaJPn96hdsRIksSSxYtxcnKmTp262uRoI0kSs2bNhKCY8P79e22WCOncpQsFCxZk44YNv9T189mzZ/j4+DBmzBiz9x0vXjzad+jA4kWLwtUoKMsyM2fOoHDhIgA8evRQmyXOMBgM+Pv7s27dOnXJ7Mh8Z2RZplXLFqH+LQmCIMRmr1+/5sCBA6xYvtzsGlm6dGn69OnDvHlz8fPzMztH68CB/Zw+fZoK5StEeJablizLTJs6jWHDhtOqdWttcpgURWHixInky5cPgAf3I9/pBlCpkj2AmO0mCEKcJcsybVq3InPmzGzesoWJf/zB/v0H2LnLk8VLFjN+3Lhw14HFwD4hajUAQRBiFUVROHnyJCmSJ6NVy5Zs3bKZsmVK0/m3Tmzfvi1ClWdTMLp06VKEzosNTB1qCRMmNDuu1+vJmi0rJ44f59mzp2Zploxzd8fa2lq90Xn9Om4tL3ny5EmSJ0tK61at2LplM+XKlqFpkyYsWbw4Qt8JWZZp3aol48eP48WLF9pkQRB+AS9fvsTL60CErh1ad+/dJXv27JQpW0abRI4cOTjt5xfqTdLZs2fx9PTEydkpyg1koVEUhS5dOrN//397qjx8GLVOHr1eT/kKFfjnn63hGgwSE8iyHOXP+v3796RKlYrWbdqEWGrL1tYWgFu3bn3zNaZOnULhQoXVfFFtkIypDAYDle0rUbpUSRYtXEiH9h2oXasWixct+uaMjeAURaF1q5Zs3ryZN2L2viAIcdDLly9JkiQJ9pUrh4gvOXPmAuDOnTuhxhdFUVi8aBEAdepGbRCPLMuMG+dOiRIlGD5iRIjf51t27drJbk9PChYsCEEDS0L7vcOjZMmS5MmTB68DUYvhws8jSRLe3l54e3lx6tSpSA+YFYS4ysfnEFu3bg0x8KJcuXL07duXyZP//ubAC4Ku37NmzSR/gQIQxwf2CaH7Pq0KERRw+xONRt+gptt1i48xKx5pTzE7x+vsO22yIAgWPHhwHyfH6syYMZMXL1+xZu06nr94SfXqjvTo0YOnT7/dkWSye7cnW7ZsifLyWDFRx06deB/4gfEeHsiyjCRJakOtVVBj7NOnYU8PP3fuHB4e4xk6dCiFChUC4M2bt9pssdbDhw9wqFaVmTNn8fzFS9asXceLl69o1rw5PXp0j9gSnEHfJeLobEBBEEJSFIXAwED8/f2ZN3cuNV1q4Ovjq80WIfPnL+DCxUtUr+6IwWAwu3a/fPmSu3fvak9R7di+HYD27Ttok8IUkfi3adMm7t65i5WVFRkyZISguBxVTk7OXLx4katXr2qTYgxJkrh16xbbtv1Dly6dqVWzZqgdoOGRO3duLl2+woIFC/n8+TPnz59XO49MsfZbN7fv3r3jzz/+oJpDNdKkSQ3R0AkaE8myTNWqVShcpAgfPn5i77593L13D/dx4+jVqye7d3uG+3vs6blLjdevxD61giD8ZKYOhOiUJ08ert+4ybx5xv1Sv379qsYra2trAJ6Fcc/86dMntm7dSqVK9iRPnlybHG5K0LJksiQzavRoAJydnMJ9vZZlGY/x45k48Q9y5TJ2Fj58FLJdLSJ0Oh3Vqzty584dLl26pE3+5Zw+fTpKdZkf7ebNm9R0cWH48OEcOnSIShUrMGPGdNHxJvwUsixz8+ZN7eGfLkuWrGTKlMniwAtbW1s+f/4crt975YoVvHr5Ms4P7BPCFiM63b7l2KVA2ky8xdPXsWMEryDEVIsXLebTp08EBASoAUSv19OmbVu+fvnCuHHu4RopL0kSf/31FwR1kgQGBmqzxHpr16yhVcsWZMyQniSJE9GnT28MBgMXLlwE4N3b0DvQFEXBdehQfuvcGUdHJz5//gzAyxfPtVljrYULFvL161f8/f2jtASnJEkMc3NTfxaNeILwa/DyOkCa1KkoXaokrq5DOXfunDZLhCmKwrp160iaJDFJkyQmSeJEdGjfDkmSuHPnTqgNI5Ik4e9/nurVHUmWLJk2OQRZltm925P/DRnC4EGD8AtjBp2JHDQ7vG+/flhbW5MhQ3oAHj2MWgMYQN2gkfTXrl0Ld2Pcj6QoCi41amBbID8TPDy4d/eeNkuEKYrChQsXaN2qJXny5GbQwIE4OTmyfv16Ll00xumwykKWZXr26E6PHj3Jly8/2bJlB+BhFGcBxEQ+Poc4dfIkFy9eVN+bTqejTJky1KjhEu54LcuyWvcjqCNbEAThR5Mkiffv37Njx3a6dOmMx3jjIMnooigK79+/p03rVmTLlpVaNWuSIX06NmzYwIULAQC8efsm1Fjx5MkTADJlymhxf1hJkujVqyctWzTn1atXyLLM/v37WLhgAQsXLFDfy+zZs1AUhUGDB3Pz5k0O+/ri6+sT6utqzZkzm2TJktO2XTty5DDuK/fg/v1wnx+afPmNK7icPHFCmxTnKYqCJEn8e/Qov//vf9Sq6cLBg97abDGSwWCgU6eOODo54ut7mNFjxvDh4yfevnlLvrx5+PLli/YUQYh2kiTx9OlTli5ZQoP69enWtWuUr0nRLU+ePNy4ects4IVpYN/bt8YJP98a2BcYGEjXrl3o0aMnKVOkhDg6sE/4tljR6Qbw4q3E+FWPCPxkrIQUypGQzaNz4+mRB4di324gEQQB7t2/R+rUqSlSxLh3iYlOpyNLliwc2L//m0FPURQmTPCgTOn/lu96EIfWJ5ZlmeHDhtG5829UrFSJh48e8z7wA0WLFKVnzx74+58HIGu2bNpTVSuWLycgIIApU6ZCsIa/53Fo6UQbGxsAihYtanY8+BKcT58abzrDMs7dXZ3xQRxcglMQBMuqVXPgfeAH3gd+IHnyFNrkCJMkicmT/+a3Th1ZtnwFgR8+8uHjJ5xruPD7//4HQJYsWUKMWCToun/48GGyZsv6zaUlHz9+RONGjVi9ahVZs2VFp9NRp3YtPD13abOa6devL02bNqVWrVrodDqyZs0KwP1omOmm0+nIli0b165d/WYM/1l279nD+8AP+PgejvLvKMsy/v7+VK1iHIF6585d9u7bx8KFi5g9exbnzxvjdObMNhY/b4B9+/YSEBBAjx490Ol0ZMqcCYCHD+Jep1vu3LkByJ8/v9n3W6fTkS17Nk4cPx6uGQsL5s/HJnNm8ubNC8DLl3GnTiMIQuwgyzI1nJ2xyZyJQQMHsnrVKm2WKFEUhRs3bmBfqSIAt2/fYc/evRw5+i8e48dx/NhxALJnzxFqfeFRUMNqpkyZLcag8ePGce/uPZ48fYqTY3W8Dhxg2dKlfPz0kV27drJ161a8vb0YNHAgEyZ4kC5tGgoVtMPJyRE3t2Ghvm5w7969Y9nSpQwYOAC9Xk+qVMZG30ePHkW5gzJTpswQtFfRr2bsmDHY2RagceNGHP33aKxaoWX1qlUcP3aMggULqt8hvV5P/wEDeP36NRMnTFA7FgThe5AkiRrOzmTLmoVp06ayd+8ebZYYQVEUjv37L926dSVXzpwkS5qEokUKs3zZMi5euABBsSg0iqLQt28fWrdpQ8VKlciTJw/E0YF9wrd9O2L/YEOaZcDTI4/6WPa/HKRJbhwhdO/ZF249No7A0C4vqf05uCV7XlDT7Tr9Zt1TO+0Axqx4ZLaM5ZI95jePpvPaTLzFBp9XFpe7DP4c/Wbd4/bjL7SZeMvi833r9bTvIXj+RqNvEHD7k1l+gv2OpkdoMwK/9drCr2HevPncvXefdu3bIwctm2i68CdMmJCbN2/y+HHYo+7PnTvHhvXrGevuTtp06SBoqcG4QFEURo4YweTJf7Nz1y769jXOSLC2tqZL1668eP5crVybOp20ZFnm99//x/jx44kfPz56vZ4MGY2dSg8fxp1Aa1qCs227dup3SZZlFEXBSm+8Zj97FvbMvrNnzzJhggfbtm8ndWrj0l6vXsWemxdBECJPr9er19fUqVNpkyNEkiSaNmnMiOHDOX3mLM2bN8fKygq9Xk+rVq3YscO4dGSBAgUsNoC9fv2a169fkyVLFm2SmSePH1Ovbl3ev3/PkqXL6NOnL39OmkTatGnZtWtXqI0Vr169YtPGjQwcNFhdmipzUAx5+SJ6Zgtlz56DCxcuhPo7/Ew6nQ4rKyusra0tjvqPCCVohluZ0qXo0qUrK1etxtraGp1OR65cuWjWtBn+/v4A2NnZaU+HoDjtOnQo/fr1J32GDADY2Bg/+7jYkZQ1azYCP3xk7tx5KIqCwWBQGwsSJ0oM8M1Ot9evX7No0UJ69+mrzph4+VIMkhEE4cfS6XS4DXPj1u07+AcYG0wkx2MAAGk9SURBVD+j08OHDyhU0I5atWqr8UWv15MvXz5atGzJyZPG2V2FCxfWnqp6ErT0ZIaMxvgS3Pv375k2bSpLly0jf/78BAQEsGfPHpYsXcaVK1fYtWsXjx4+RKfTsXvPnhCPdu3ba58yBEVRmPz331SqZI+zcw0IKjeAz58/8/79e80ZEZM5s7HT7dXrV3Hmvja8qlStwsZNm7lz9x5Ojk7a5Bjt7t27KIrC0yfmS6OmSJGCHDlysG3bP7/c5yn8WHq93nj9vnWbScFWTohJFEVhyeLF1KpVk6RJknL9xg0+fPzEqtVrcHcfqw7sM903WOJz6BCrVq7Ew2MCOp2OzDbGa2ZcHNgnfFuM63TTSp/SmqEtMpEovo6PXxROXrG8jF3OjPHJmi4+AL7+/1UkAj/JnL3+AYBieRKTJKGewE8y/Wbd49gl8+daf+iVxf3jXryVWLz7v5tw+8JJLT7H1Qef6TH9Li/emjd4WMpLGK8HMGn9E7P8H78ojFz6wKzjbcyKR6w/ZH7D++KtRPepd9R8kXltIW5bv349LVs0V5dN7Ne3L1+/fuX5c2MHyd07oe95I8sybq6utGvfHmtra7IENRo+fBA3pkqfP3+eOXNmU6xYMapUqapNplix4gA0atQo1FGGo0eNwtbOjtZt2qjHMgbN5AqrbGOjtWvW0LpVSwtLcBpvgr+1BOcwNze6dO2KtbU16YI6cF/GodmAgiCET6qgTvfImjp1Crt27eK3zp3Jnz+/Npk0adIAULOmcZaZlmk/02xZQ5/BLMsyGzdu5Pz58/Tp20ftPNLpdGTMmIlFCxdaHPGsKAp1ateiV+/eFC1aVO3sSJsmLQCv37yO8g2YacZSQLDlfuOqDx8+0L5dWwDatW8f4v3aZMnCkyePsbOzC7XTbe6cOdjYZFEHjSiKou7pFheXOFYUhRPHj9OjR3dy5cxJ0iSJsa9UkdOnT/M8aNnrmzdvaE9TKYrCwoULKFGyJKVLl1b/xl6J5SUFQfjBdDodDg7VSZ06dZQHcWhJkkTbtv/FF+3zlylThrdv34YZXwCeBA1gNc0IC+7YsX+pUaMGKVOm5NzZsyRLloz//f47VlZWpE+XnsqVq1C5ShWqVq1m8ZEjRw7tU4Zw+vRppk2byvARI1AURX2YWKqrRIRNUAPyrxgDqlatRuHChdUBVLGJq5sb12/coE3btsiyrNZ/ABInTkxAQEC4VqkRhMgyXb8zZc4c4voaU2zatImePXswbPhwJk+Zog68KFq0KG3atA3XwL6JEyeyeMlSMgQN7DPFgrg4sE/4tlhxZx68Q+3uU8trDSdJqKdYHuNozWsPPqmzvY5fDuTqg88kiq+jdP4kENThZDo2qWsWPD3yMKSZ8Q/i3I0PFmeUlbNNos6+cyiWTH1egGZVUuHpkYeNI3ORzyaB9tRIvV6a5FYs+18OPD3y0KyKcQR48E5Hr7Pv1I400+tP6ppF7Zzc5GtsNIjMawtxkyRJ/PXXJDp17EAle3t12cTixYszdeoUtaEprGUT16xZw6VLF+nXrz8EG+l2/37U92f52WRZZs3q1QQGBuLgUD1EZVpRFP79918AqlSpGqKhD+D+/fv8+ecfpEqZkrZtWtOtW1cGDxqkpt+5czvKjasxgRzKEpzFixWnX7++6hKc2bIb98ixZMXy5fj7+/P335Mh2PJXL0RlRBB+OalTRX6m29evX1m3di0AdWrXDnET9/HjR3UgQCV7e4udbk+ePAYgS9bQRy0qisLWrVtxdHSidu066nFJktTznz17FuwMo0uXLpEkSVK8vbyp4exMDWdnnJ2cOHz4MACvo6mTJ1vWbAQEBMTImW7RafPmzVy8eJEKFStSoEABbbK6x0y1ag4W47QkSQwcOIDr169RongxypYpjX2liowfPx6AN29C36cnNlIUhaVLllCzpguJEyXm6rVrxlnqbdvRqWMHdaBL1izG5U4tuX79OhMnTKBz5y7o9XqSJ08OwMtXL8NcXkcQBCE2+eeffzh65Eio8cXXxxeC4ouluoTJo0fGOkFGCzPdHByqs2r1GhRFISAggBIlSpI6dWp0Oh3DR4xgl6dnmLPovkVRFKZM/pv+/Qcwc8YM3MeOxX3sWA77Hg62qkjU6h2mbQHE6iSxi16v58WLl/zxx0TsK1UkZ44cjBg+HIPBoA6+vnnjpvY0QfhlSJLE7NmzAKhdu06I+4gvX758c2Dfjh07uHjxIs2bN1c7tk37eEf12ivETiHvRmOx0vmTkCi+jhdvJQJuf4Rgs96ypotPzozxzWa+Fc2dmEI5EgJQtkAS8tkksDibLlF8HY3tzRuETM+bJrkVtcsa9yJJklBPl9rpSBT/v0pYZF4PoHrx5KRPaWz0r102hbrEponp9fPZJFA75Uydk82qpGJU20yRfm0h7pFlmfbt2jJyxIgQyya279CBtWvW8DZoVlJoyyZKksQEj/G4u49Tl3IyLZsYFyrdppsfgFq1ammTkSSJgIAAUqVKhUvNmtpkFEXhjz8m0q1bd7JkyUq6dOlIljQZ8ePHVxvw7t6N/TPdZFkOdQnO3zp35trVa1FagvPtm7dxqsFTEIRvSx00E42ga2lEvH79mvPnz5MgQQIcnZy1yZz28+Pr16+0bNWK7KEMBChoVxCA+/dC319tz57d+Pr6ULp0abOOvZMnTnD16lXSpkunDh4wkWWZhg3q07ZtW9yGueHq5qo+KlepDMDr19HTyXP/wX3Sp88QotMxJotoh40sy1y6eBEAJyenEDfDBoOBy5eNyyQ2bNjQYqPozJkz+K1zZ2bOmsWUqVP5488/GevujqurK8TBG+JNmzbRo0d33IYNY8rUqcSPHx9ra2u69+hBg4YN8fT0BMAmS+jxetTIEfTt249SpUpBsL/Rh0FLoAmCIMR2sizjH7RsmKX4IsuyOqiwdp3aIdKDyxY0gPXx45CzhvR6PTqdjosXL/LlyxezOoU+aNntqNi0aRNeXl7qddp0jVYUhcBAY7tPVPfPNs2GMjUkCzGfLMvs37+PWrVqcu/ePebMnccBLy8eP3nM5Ml/q3WfsAbMCkJct3Xr1jAHXjx8ZFzdK7SBfbIsM/T3/xEY+J4K5cvRulVLWrVswcQJEyEODuwTwifkNyUWK5QjIUVzG2e7+fq/5+lrA9ceGGdyBV9a8sU74yy4Y5cC1T3Omoy9qc5c086mS5xQr3aAaaVJZk2ShP8VY/qU1iQO9nNkXg8gewbjzL6ISJJQz7ReWelYw9h4FdnXFuKelStWsHHjRkqVLk21ag5maTqdjjRBy1w1bNjQYgBRFIVJk/4kT5686rKJOp1OXTbxzdvYH0AUReHECePm2JZm+23fvp2nT5/QokVL9WYqOD8/P3Z7ejJ5yhSmTZ/O1GnT+evvv/GYMIGaQZ14nz59MisnRVF48OA+np67zBofTdPWYyJ/f3/mzJlNqdKlLS7BadKoUaNQG+PCWoLz9ZvY34ErCELEpE5lHH2t0+lCvW6EJiDAeL3MnDlziPilBM1OA2jevHmIdJNUqVOTJUsW7t0LfWDE3j3Gzb6daxj3RzHZv38/AOXLlQvR4TVk8GCKFClC6zZtcHCobvZImTIlAI+CbuAsuX79Ok0aN6J8ubJhzmBTFIX79+6TPr1xmd7YIrTPIzQ6nY6TJ08CkNXC/nvXrl1j//791K1blwoVK2qTefz4EXNmz2bUqNFUr+5o9nnkz//fzfWDB+b71L5794758+apP8uyzK5dOxnn7s6xf/+NsfWf4CN269WrF6K8Tfuvpk2XjsqVq5ilmWzYsIEHDx8yMNisfdPf6N07xv1hBEEQfiZJNu4rHRU6nU6dgZ7Fwl49165dZd++fdjbV6Zq1WraZDOmWfNhxfejR44A4FDd/L48KmRZZvbsWYwaNZpRo0czctQo9TFi5EiSBc1SNs3EM9mzZzcrli9HlmVWrlxJ/Xr1wqxzmM43zXgTYjZTO07dOnWYPHkK8+bNp0iRIuTJk4f58xewbu3abw6+FoTvKSbUJWVZJiCoDc7SwAuDwcDzZ8YZoaEN7HMdOpTUadIwc9ZsBg4aTIOGjWjYqDH/+/1/EAcH9gnhE7G73Z/k1uMv3Htm7BzKlj7szij7wkkhaInJQ+ff8eKtZLa0pCD8aiRJYtHiRQA4OzmHCCCyLHPmzGkIY7mMhw8fMHrUKDLbZKZv3z4MHjQIN1dX9bneRHFt+JhAp9Op+4plzWq+zJIkSezYsZ00adPSrn37EGUkSRIrV6zAY8LEEI2uAFlCGUF+9uxZOnboyJTJU1i9ahUEfR7dunbh4EFvbfafTpIkdQlOJ0enEKMxTZ2IRGIJTlPet2IEkCD8chIlSqQ9FG729pVJnTo1NjZZQlyb/f392bBhAx06dsTZ2byzLDgrKysKFSrMvfuWZ7rJsszRo0cBKFjQOCuOoNi4ePEiMmfOzOo1a82ueV++fGHWrJkMGjTY4rUwXTrjCPEnT55YvObt2bObZk2b0LNXLxwcqlMgf74wGxXv3btLtmzZLD5XXFKvfj0AMmsahhRFYeOGDSiKQt++/UKUuSzLzJk9h169e5M+fcjR+TY2NqQNqgPcv/ffktmKopAubRrevH0DQc8zoH9/BvTvz63btxg4cECYn8vPZFoqzdm5hlmnoolpyWwXF5cQ5QXw/PlzJv35B9WqVePvv/9i7NgxjBkzGoL+zO7cua09RRAE4Yf7+OGDxWtYRP0XX8z3YlMUhXVr1/Hp0ye6dO36zdfKls04W+ixpnPLRJZl9uzZDUC5cuW1yZE2deoUsmXLRpeuXbVJACRLamwnC94ZuHzZMtatW8f06dNwqVGDd2/f4ujkyIQJHsHONGc6P0PGDCHqXULMs2HDBkaNHEnu3Llp3LixNpnUqY0D9kPrSBCE7y0mfO+CD7ywNLDv+vXr+Pr6hDqwb8+e3UybNpVNmzbTokULmjdvTvPmzWnWrJl6z4eFwRiyLKurbZl+Ng3sO37sWJy/r/sVhF1jiAECP8ks2PmMj1+MX7ZvzQArlCMRaZJb8eKtxJ5T70CztGKShHrSJDM2FAffpy34Y1TbTGbPGZYX7wwEfvrvZvvpawMfgv0c3a+npX39MSse0W/WPQI/yd/9tYXY4cuXL5w9cwaAatVCjsw7euQI79+/J0eOHOrNRnCyLDP578m4urqRPl160qROQ7JkyUiQIIHa0PQmDiwJqNfrqVzFONLb1AFG0Psf5+7O6lWrWLFiBcWLF1fTFEXhwoULtG7Vkrlz51C/fv0Q5SBJEvfv/zdq/t+jR5Ek44jMmi412L1nD3fu3Ob9e+OSscePHeP06dPky5cv2LPEDEqwJTgdHEKOzJQkiQcPHkRqCU7TiMrXr40Nm4IgCOGh1+tp2rQZhw/7cvq0cQAJwOnTp2nfri358+dn1qzZ32wks7W15d7dexY7UF69esX58+fJnz8/G9avh6DYsGDBAlKmTMnlK1eJFy+eejwgIIB2bduQPXt2UqZKFSIuGAwGdS+3d+/eYTAY+Pr1q5r+4MF92rdrx/IVK3FwqI77uHHcu3ePW7duBXuW/yiKwv379ymlWfoyrtHpdGrn6YagDjaCynPsmDGMHz+OLVu3UsneXj1HlmVOnjxJ61Yt+eOPiZQoXiLEZ/z161cOHvQmV65cAHz4+IFnz54hyzKPHz8CYPDgIQBMnDgBX18fLl2+wqJFi0mVKjX79+8ze76YQJZldanNylUqh2jQMBgMajxvHMrM9KlTppAhQ0Z06EABRTaWt+n/d++KmW6CIPx8Hz8atxWJiuDxZePGjeq1TZIkVixfzsyZM1i2fAVNmzbVnBlSlqAGW1P80FIUhV27dlGsWDESJjS2UUWWLMs8fPiAdevW4ebqiotLzRDXc1mWuXnzJilSGLdEef/uPZIkoSgKK1euZMCAgaRMmYq8+fLSvUcP/vnnHwjj0m7qTDStUiLEXLIsM2vWTAiavaMdMEuwFSNCWzJPEH4VprbQTJlDDrxYv24dSigD+xRFYeqUqYz38LA4sC9zpv/a3IPPNFYUBdehQ9UYJssynTp2oEuXLty6fYsBA/qHuGcRYp8Yd1WdtP6JugyidinEfDYJKFsg7Blr6VNak9fGWHl58Nw4O840+42gTrBieYxLUJ678YGA28blJwNuf6LR6BvUdLuO11ljZ11YTM/54q3EzuPGRmJtByHR+Hpall7ftJzm1QefcVtkbOT/Hq8txC4XLlzg8+fPJE2aNJRRGcYls3r07GlxmYh//vmHQ4cOMmLkSEaPGcPoMWMYNdq4bEXyFMZlKizdVMiyjH2liixftgxZlrl16xZLFi/WZosxdDodQ4b8j6pVq+HpuYvFixbh7j6WypXt2b59G+fO+5stzakoCnXr1KFkieLq8mXJkyXF29tLzSPLMkkSJ6JK5f8aAB0dq5MkcSLOnDnDw0eP2bp1K3fu3KFW7doA6tIlmTKZB/uY4sSJ4yRNmpTyFSpok9i2bRufP3+mefMWoS7BuWvnzjCX4Hzy5LHFRjw5qPPzwoULxn+Pc9dmEQThF6TX6/l78mQaNWoUdKPSmW7dulKhfDnatG3L7j17vtkRpdfryZMnD2fPndUmAXAu6Hjv3n2YNm0qTRo3Ilu2rPifP8+Jk6eIH984ICwwMJAK5ctRqmQJ9dperGgRs5nLBw96kzRJYvr376ceS5E8GcmSJlFvrBYvXkylSpXUTbpNoyLfvbNcZzt06CCfPn2iQAHbEI1tcU2+fPlYtnwFSxYvpknjRriPHUu5smU44HWAy1euhpix7+hYnWFubjx//oJMmTJRvboD48ePU9NlWSZZ0iRMnDCRBPETUKhQIZo2aULWLDYcOnSQVatWMWTI/9DpdMiyzNgxY9j6zzb1hvvAgf04OjqpzxeT+J06BUCJEiW0SWzbto2nT5/QslUrariEHCRjWkp6rLu7WucbNXo0o0aNVgfVfPr0iefPnmlPRZIkEa8FQfhhoqPTjaD4snTZcpYsXkzjRg0ZOGAApUqWYMWKFfzzzzaaNWsWrhibKFEiihQpwuPHTzAYjFt9BHc+aO+40FYFiYg5s2eTK2dO2rdrC0CH9u0YOGCAmi7LMi41alCooB1nzxrrMhMmeJAkcSLGubuzd98+MqRPj6+vD61atkKn07F//wGGjxihPofW48dBy0tmzKBNEmKYz58/q4OvnZxD7nt89uxZXr9+Herga0H4VYQ18MJ97Fg8PMZbHNh39+5d/vzzD7y9vShXtlyIdixJkjh2/Jj685s3rzEYDMhBA/vevH1D6dKlAfD03MXatWu5d+8+ixYtJmXKVBw4YNzGQIi9ohblf6BE8XV0qZ3ObP+00ATvZEuT3IpCOcyXLapdNgVpklvx8YvCkPn3qel2nSHz7/PxixKujj2AsgWSkM8mAQDrD71SOwifBy1nGVx0vJ6WQ7FklLM1nmd6/fZ/3ubFW+NskfoVU5Ikof67vLYQu+TOnRuA4sVLhKjYf/36le3bt1GmbFl69+4T4kbi+fPnTJzgwVBXtxDnEmwfngcPHpgFGFmWKVWyBBkyZODho4e0bdMaN9eh3H9wn2ZNmwR7hpglV65cbNq8mQYNG/Hq9SuSJElCv3798fE9TP78+c3KR6fTsfWffwj88JG3797z7n0g794H4uBQXc2j1+t5H/iBwA8fCfzwkfeBH9RHyZIlAbgQEICDQ3WyZMmCLMucO3cWe3v7EJ9FTKDT6ciSJYvF75IkSWzf9g9p0qalQ8eOIX7/8C7Bed/C8m6SJJE4UUJ27dpJq5YtSJwoYZRHhgqCEHdYW1uzfMVK5syZi62tLdWrO3L12nUGDhxk8XqjpdPpKFS4MC+eP+f4cePensH5+vgCUK58eXx8D9O9Rw+OHv2X9Rs2qjPcAJIkScLRf4/x4eMns+t98AEbVatW433gBz58/GQWGwI/fESv16MoCj6HfLC1tVOvsxs2bAALSx+b7Ni+g7x581JDs99cXKTT6WjWrBlXr12neYuWJE2WlKlTp3Hw4CFy5MgRIvbs338Az9278dy9m+s3bhL44SPDh//XmKjX6wn88JHde/awZ+9ejp84yYuXr3gf+IGqVavx8cNHEiQw1vdNnaKmQSWmAUfa14wpTEtwavdflWWZHTu2kyBBAnr16h0iniuKwtSpU+jYsZPZ7H6TrEH7FQEhlmSVJIkkiROp8bpKZXvq1hUNeYIgfD8fPxoHFkeVTqejefPmanzJmi0r06fPYPeePZSvUCHc13qdTkfFipXw9fXh06eQv1vx4sXZ5emJx4QJ2qQI696jh1rXMNUn/p48WU3X6/V47t7Nu/eBBH74yLv3gWp+U8eaj6+xjlOwUCH1vNAoisKePbtJkSJFjB1wIvzHNPiaUJYy3bs37MHXgvArCT6wr3GjhowZPZqyZUqz/8D+EAP7FEWhSeNG5Mubh1EjRwIYB/aNMx/YlyRxIpoFmyFdp3ZtkiZJrA7sS5zIOElGlmWWLV2K7+Ejar38+PFj2Nn9t62BEDuFbEWPgcrZJmHz6NzqEpHfErxDLK9NQtKnNJ9GnT6lNSuH5lQ7rUzK2SZhWq+s4erYS5JQz7ReWc2eo5xtEqb0yEJizfnR8XqWjGqbiWZVUpkdSxRfx6SuWXAolgy+42sLsUeKFCno2rUbvr4++Pn5qcdlWaZd2zZcuXKFefPmmzVMKorCuXPn6NunNylSpKRBgwZqmonBYMAmqKPk7du3GAwGdTSfLMuULFWKjZs2Y/hq4MyZM6xYuYrx48ZRpEhRzTPFLEmSJKFp06YMHDiIgQMH0bRpUxInNgZDLWtra6ysrIgfPz7x4sUza3zV5rGyssLa2lp9EHRT5uvri52dsXFVlmV27txJkaIxs4z0ej0ODtXx9fXBx+eQelwOmoW2du1aVvy/vfsOi+LoAzj+vUONQuKrRhMVu1jAXlATmqiAvWts2Cv2ntgFAXtiFwv2AvaKja5GURAVsWNviS0qgsLtvn/AXbgFLBGVMp/n4YmZ2d2729vbmZ3flHXrqFq1qi5PTjIFZ2RkJK1atUqxB5B2Cs4XL15w/NgxvZ6hW7du5Uz4WY4d/5OTIacYOnQYI0eOSnIEQRAyIkmSdIEMLY1Go5v26GNky5YNC0tLRowYSfv27SlWrNgHN5ABmJub07tPH/7887jee5IkiQsXIsiTJw8lSpQgT548NGhgR7FixZIFK0i8T6rV6mT3+6SyZcuGWq3WKxu0ZbAsy5w5E0bNxF6PkiThtXkz48aNJ1++hI4uSUmSRHBwEO3atU+1rEoPZFnWfbda2v9XXgPvo1KpKFasGO3bt2f48BFYWlml+F2Q+H0kPccGBgbJrgttunZb7fenUqno4ujI3LlzWL9+PW6urvTo2RNJknBxdqZE8eK6YGl6o1arsbKyBkjWALB2zRo2btiAq5ubrgOQNu/q1atMnTKFDevX4+rmluxcaTQa7t//d3aD58+fER8fr/u9KsvrKlWrUrly5SRHEARBSFuxsWkz0o0k5csvv/zC8OEjsLK2/qDOO0mp1Wrds9CBAwlrtynVq1f/o4+bkqTPl9p/K8skAwMDsmfPrvuvdnvt/T309Gns7Ox100++y61btwgNDaV37z7JXkdIf4oXT1hfsHLlyuTNq99uqNFo2OLtnWrna0HIapJ27OvQsRO5/5eb33//A3//gGQd+1QqFVu3bedV9Gtdp4bo1zF6o4TViR37lJ3wX76Kpm5dW9Rqte7ZTpZlZFnWjXq7d+8e0dHRFEoyNaWQMankj23VSGKd924a1k9YA0lI8NfzeEYsvcOTFxra2+Slh0PCwqSZ3QHfQNq3TD49jZA+PH/+nKZNm/Dq5Utq1a6NkaERBw8eoHz58sxfsIAiRf7tPS9JEoa5kge4Dxw8SN26CWvC+fv70ahhQ+UmAES/juHWrVuUKlUKKXFKizJly7Bw4SJRmUuBs/NUIs6fZ/qMmWzcsIFp01y4/+Bhio2r6YFGo6FL504EBgZiZ2eHSZkyHDxwgNjYWDZu2qy3Fl10dDT169nqpjPR2u/joxsRmNr1BnD8zxO6abEkScJ12jRcXacRE/tGXEsZgPdOH1EuCKnSjohJzZ69e7GzSz4Vzud08uRJbKytCA07Q4UKCT0Lo6OjKVG8GHXr1sXLe8tnb2Q6dvQo9evXo379BtSpUwdX12msWLGSTp07p/jayzw8cHd3I/joUb2yPL2ZOmUK7u5uymQArKysOXjoUIqfLz3w9vamq2MXAPLly8fTp08BeBX9OsWganqhDQ66u7thZ2dPrdq1OBVyivPnz7Fk6VIcHBrq9dht07oV+/fv1zvG/PkL6Nuvn+54NWtUJzIyUm8bUijXR44YwZIli3kdE5tuv1chfRB1BeFjSZKkC/QbGeYie/bsPHv+DyqVCrVanS6eEe7evYOVpSWtW7fRG3mW3siyjL2dHa1bt2aAk5MyOxnPlStxchpAUPBRatWqpczO9GRZRpIkVCoV01xccHNzZe++fdSta4tKpUqTQGpakiSJHt27sX//fk6GnNKtXStJEqNGjmTx4kWEnQnXTWeeViRJYujQISxYkLCenJAyFxdnxo0bn+6um89Je/8OCPCnSePGWFlZcyBxuZv0cv/+UqKiomjbpjVz5s7F0tKKo8HB1LW1Zf26dfTp05sJEya+c6pfIWMQQbf/aNXBJ3gHPgPQC675hb9klvcjcuVQ4dzd+INH52V0IuiW/l24cIEzYWHcuXOb//0vD0WKFqVp06YpNoZoe6JLib3PVSqVXsOStse6SqXSG42grWzevXtXN12iaflyTJ8xk1atWum2E/4lJQ4lv3jxIrn/l5sjR47g7x+QrisccXFxbN26lZs3ovj2u+8oXNiYRo0apTjKQnktAclGBMbHx+s1/GlprzlZllm8eBGnT59m5UrPFK9ZIf0RDWnCu8iyTFxcnO5BU5Ik3W9bkiTdiKMvSZZlfh07lmPHjhIYFIyBgQF+fr40btSIcePGM2nyZOUuaW727FkcDT7KosWLWOW5ihYtW1KhQoUUz8Xp06dp1rQJw0eMYMyYscrsdEU7ejmlsk2W5RRHoKUnUmIHkf0+Prp1eNLz+9WSJIk9e/YQFXUdgMKFjbG3t0/W450kZbG2fqet0yX9nElHKpKkzE5aXnfu1JHt27eLgJvwQURdQfgYkiThYG9P3rx5uHbtml4ngLx582JjY8NmL2+9fb4GKbHTg4/PfvwDAsmVK/VORl+b58qV9OjZ871lmkajocMv7Xn1Kpp9+/dnyfv74cOHcHFx4U1sLGfPntXLq1q1KseO/5nuAihRUVH06tWTcuXKYfGzBYWNC7N40SKePnvGmjVrKVq06Hu/+4+h0Who6OBA5cqVmTV79kddJy7Ozvj5+3HkiO8XO4+yLKfp51eSZZno6GjWrF5N9uzZ6dipE999lzAr2cIFC5g2zYV79x98sc/7NWnv3/nzf8+OHTv08oyNjTE3N08X9+8vaZWnJwMG9Kdt27bcvHmT04nrMS9fvgLHrl2VmwsZkAi6/UcRN2OZtPoeMW9TPn1ljb/BrZdxlpm+UQTdhKSmubiQP39+qteogbWVJZEXL1GqVClyf/ctY8aMTdMeGw8e3KdQocLK5Axh2jQXrl+7hueq1Tx79oxGDR1wdXMTc+QnIUkSqzw9iYmJYYCTEwYGBsyZM5vjx46xbbt+ZU1IX0RDmpARaTQazEzL07lzFyZOmoSUOH2uY9euuh7Cn4u2x7mdvd17g2iyLFOlciXGjZ9A+/btP6pRQ/h4Pj77GTVyJOcjLnzWcy3LMo8ePaRgwYw3nYwkSXTp3Int27cT/ToGAwMDlnl4MGTIYGLfvFVuLggg6grCR5ITR0hop89N2mD+7NkzIiLO662j+jXdvXsH27p16duvH6NHj1FmZzhHg4Np0KA+q9espUOHDsrsLCEgwB9j4yKULFkSFB3Gzpw5Q82aNT9rAOe/io6OxtNzJQH+/hQ2NsbCwpJ27dqleaBHkiQGDnTi2tVrHDh48KOO/+TJExo1dCA6Ovqz17W04uPjGTtmDGZmZvTs1SvNvztZltm2bRujR43kl186cO/eXW7cvMnOnbvInz8/sizTt28fnj19iveWrV/kM39NsiwTEhKim9o86e/nwYP7XLt2Ld3cv78kbQfPjZs2Y2lhQf4CBTL9tZCViKDbJ0g6lWRSdUyNmOyY8R6WP4UIuglaUuL0Q7t272b4sGFERUVxMuQUFSuY0X/AAIYOHZZmhYgsy0ydOgUzswq0b99emZ3uTZ40iezZsyPLMq6u05jm6sqIESPT7PyQeI46dviFfv37Z8hKzJ49u5k4YQIFfviB8+fOUbJkScqVK4fnqtVpep6EtCca0oSMSqPRsHfvHrJnz07jxk2U2Z+NdjSVz4EDH3S/3rVrF82aNfss90I/P1+WL1vGxk2b07wRIqPRjt7KkzcvixcvUWanKS8vL65cuczEiQmLsmckBw8eoEXz5gDkyZOHkiVLUrZsWVatXvNZrlEhcxB1BSEzW7d2LVOmTMbXz58SJUooszMM7fICJUqUxM3dPcvXCzKqzz2qKyQkBGsrSwKDgqldu7YyO1WyLDNyxAgWL15Erly5ePzk6UcF7P4r56lTcXNzhc80ZfiuXbv4pX07go8ew9zcnNOnT2Np8TObNnvpZoF69PAhTZs2YeDAQXTv0UN5CCELWLliBXPnzvliwWbhyxLf6Cf4IU821v9aEh83E72/rBZwE4Sk1Go1+/bvZ/LkySxatJi169bTrasjO3ftTtOAm9bzZ8+VSRnG5ClTuHAhAlfXaZw7H8HIkaPS/PwAPHmSsP5MRhQeHs6Z8LMcPHgINzd3Jk6axErPVZ/lPAmCIAAYGBjQokXLLxpwI7H8nDBhom791Pdp0aLFZ7sXqlQqHj9+okzOklQqFc1btGTAgPevd/OpVCqV3nTMGcmc2XM4eOgQsW/e6sprEXATBCEr6+LoSNeu3ejTu7dumuWMRpZlfHz2k/t//8PVze2zBW38/f0YMmQwnzAmQHiPz/XdkdhxzNNzJe3atcPc3FyZ/U579uxh9+5dAMTExOjWzv3c+vbti5mZGZ27dEnzukp8fDzz5v1BmzZtdCO7qlatComjRrXX+Y8FC2JrW48dO3Ykm8L7Y0iSRIP69TPsfSarkmWZP0/8iU3dhKnrhcxHfKuCIKS5QoUK4+m5ih8LFqRixYps3LQZU1PTz1KQPHnyWJmUYajVajZt9iL2zVvKli37WSvCGdXEiZNQJS6M3rNXLxo3bvJFer4JgiB8DRMmThRlQTrUoUMHKlWqpEwWkjh0+DA2NnUBdOX156j3CYIgZBQqlYqJkybRrXs3tm/frszOECIjI9m1axeLFy/5rPd0WZZFwC0DCw0NZfWqVdSta/tR14kkScycMZ3zERd0affv39fb5nMpWKgQp06Hsnz5io96z+8jSRILFszn+LFjdOjYUXfsa9euAXDr1k29a92mrg0HDx7g5MmTurT/4ujRYPEMkcGoVCrq129A//4DlFlCJpF2dxZBEIQvTJZl/v474wbdvgTx8CIIgiB8LFF2fB3ivAuCIGQuarWaLl0cM+RSCAAVKlRg+fIVotOj8E5bt2whW7ZsdOrcWZn1Tu7ubhgaGpItWzbderb37t1VbvafSZKERqNJdRSZgYFBqoGqpHUy7XE+pJ528+ZN5s+bR6lSpWjSpKku/fr1hKCbkZGR3ms2atQYIyMjIi9cyLCzHQj/XceOHalcubIyWcgkRNBNEIQMS6VSodFoUq0oCZ93GglBEAQhcxJlx9chzrsgCIKQVYmp8TImWZYJCwvDysqa7NmzK7NTdffuHVycnRkzdixqtZpixYsBcP/ep490kyQJFxdn6tSuhZFhLipWMGPcb79h16ABkiQREOCP89Sp2NvZYW9npwvK+fn56qW/ffuWmTNnUMHMlI4dfsHNzZWAAH/ly+nIsswfv//OgwcPsLOz1xtBFxUVBUD1xOkmtVQqFT//bMHly5c/KKiXEhGsE4T0SQTdBEHI8AwNcymTBEEQBEEQBEEQBEHIAOLi4pRJQgag0WgIDg7if//L/cEjImVZZuaMmXTu0oV69eqjVqspVLAgpNH0ktNcXNi8aRPHjv9JTOwb1q3fwOnTp/W2kZEJCgokODhIl3Y0+Cg3bt7Qpbu7u7F92zZ27tpNq9ZtcHF2Ztu2bakGuSRJIigoEBKDa35+vvj5+eLre4Tjx44BUKlSJb1OViqVimLFixEZGfmfg25pOT2mIAhpRyX/1181sM57Nw3r2yiThSzogG8g7Vs2UiYLX5GXl5cyKd365ZdflEl6oqKiuHXrpjIZWZZxd3Nn7K9jU6zgybKMrW29d/YcP3ToIM+ePVcmpztf8xzt3buX6OhoZXK6875zJHxZ3jt9RLkg6PmUckn5+/6UY2UlyvOm5Ofnm+L9X6PRMGP6DH4b91uK+TY271/w+79+Rym95/96rK/ByMiIpk3/nU4oJamd94cPH3HlymWsra2VWQDUrWub4n5aL1++ZP/+/crkdCel71jImkRdQRAEAB+f/WzevJnVq9e8s5wT0p/4+Hi+NTKkW/fueHgsU2an6MKFC9SoXo2//n5M7ty5kWWZYUOH4uGxlAEDnPj9jz+UuyDLMtNcXHB1ncb8+Qvo26+fchNI3K6rYxfKlivH+PETdPVVf38/2rdrx6O//katViPLMvZ2dgQHBxH9OkbXViJJEg0dHAgKCmTAACfmzJ2LWq1GkiQc7O25eOkiUVE3yJEjh+KV4fnz5xT88QesrW2SBdC0wb1bt27zY2KAUWv6dHcWLlzIjRs3P2q0oJYkSRjmyqn3OQRB+PpE0E1IEyLolv6sXrWK0aNHKZPTnbx583LlasL81qnxWLqUrVu3KpMhsWfQu25jBw8demfD4KFDB+ncqZMyOV0pWrQoYWfClcl6PuUcHTp8+J0PN3v37qVH927K5HTl99//oIujozJZ+IpEQ5qgtGL5cn777Vdl8nvNnfs7jl276qUtXLiAqVOm6KUJ+tzdp9O7Tx9lso5Go6Ghg4MyWeddZUfPXr3o2LGjMllPgfzfK5Peq1ixYoSGnVEm/6djfS2rVq95Z9Dtfef9XZZ6eFC6dGllss7Lly8pVbKEMjldmTNnLl27pe86hfDliLqCoLRv3z5lUppp0qSJMumzvl5WlNI5TiouLi7F587t27ezc8d21qxdl2L+u9be0soK36Xy/H6pz6x83aS0QbchQ4Yyc9YsZXYykiTRs2cPapnXov+AAciyjEqlwsXZGXd3Nzp26oSn5yq971sbSHv48BEHDx2ifbu2zJw1m1KlSukdW7uti7Mzbm6uNGrUiNZt2mJlZUXRokXZsWMHbdu2hcT3YW9nx9GjwcmCbg729gQHB7Hfx4d69errjqsN0r2Kfk22bNn0XhcgLCyMn3+qg6WllV471MWLF6lerSqVKlXixMmQZIGxTZs20aN7Ny5fuUrx4sX18pJKbV05SZLI/d23/PPiZbJja6X0fpP6UtfS15TSdZzRPndKn0FIv0TQTUgTIugmfE6p3aZkWcbB3p7fxv2GrW09ZTZkofVRxDkS0hvRkCYI6V9qZYe/vx/ubu4cPHQo1TIitXTh/VI77wcPHuBo8FFcpk1TZoE450ImJOoKgpKXl9dn6exXunRpzkdcUCaT//t8vH79Wpks/Afr1m+gTZs2ymQdbacTjaQh+tUroqOjdX8vXrxIcXSQ1pKlSzExMVEm6zEyzJXq/pnB0qUeyTqtrFi+nCFDBuulpbV27dqxZu06ZbLO27dv+fGHAgwePARnFxdldjInTpygq2MXihdP3kkoODiIxo0bs237Dr06z+nTp7G0+JnQsDNUqFAB56lTqVGzBk2apNzJ6eLFSIYOGaqb6hGgWbNmTJw0mcqVK4MiiJZWQTcvLy+6dXXE2cWFMWPG6tLnzfuDsWPGMGzYcNynT09Wn/Px2U+rli05fPgIVqnMdgCwfNkyvL29iYmN4XXib+dVdDTRr14RGxuLlVXK+xYrXoyVKz2VyXqGDR3KsmUeyuRMo6a5OUFBwcpkDHPlVCalW5u9vGnevLkyWUjHRNDtK4qOlRi38h5X7r2hrPE3uPUyxijnvyNyVh18wu2/3jLZsRAAfuEvmeX9CIDR7X+kXtXvdNt+bSLoJnwN2orPuPHjUg0oZXXiHAlfi2hIE4SMy9/fDzdXt/eOhBbS1q5duzh29OgH9RQXhMxA1BUEIWtJbS0sw1w56dOnL3/Mm5diveNdM9cIX1d8fDy1zGtibW3NH/PmK7P1aDQaHBzs6datO0WKGOvlHTt6lGnTplGrdm0CAgJ137kkSQwaNJDX0dGsXrMWSZJo26Y1VatWY+KkSSleL7IsEx0dzfp16zh27Ch79uwhNjYWMzMzAoOC+e677/SCa0mDbtpOy0FBgfgcOKBrQ0k6Mu7Fy1cpTi/p4uyMq+s0vWCdJEm0aN6cw4cPERgUTO3atZW7sXzZMgYPHsSZ8LOYmpoqs3VS+/1IksS3Roa8fBWd4kg3WZZTTBcE4fMSJVc60N4mL/MGFk0WcPMOfKa3Xb2q37FmTAm+zy1uloIgCIIgCIKQmbx584a3b98okwVBEAQhU1Cr1Sn+FSpUCEmWkqVr/4T0S5IkSpQowT8vXiizkpk/fx558+Shc+fO2NrW0/vL/b//AfDo4UO9fcLCwvBcuRI7+4SpuWVZ5syZM5QpWzbFgJs2mBYScpL+Awawdt16Qk6dZsKEiURGRnLx4kV4x+wBScelJP23SqXS7ZPaNandXjlK7/DhQzRr1oxatWol2fpfd+/eBaBAgQLKLD3K34XyN6JM0/6JgJsgfB0p3ymErybiZiytp1zH98wLyhp/o8wWBEEQBEEQBCGTevP2rTJJEARBEDK1IkWLEh8fr0wWMoBs2bJRqlRpXvzzzzun9zx9+jTubm64uU9PMWhVoMAPADx48EDvOCEhJ8mXLx9RUddxdp6Kq+s0Hjx4QIl3rH0myzJnz56FxABY2bJlGTN2LN988w0VKlTQbZPS+0363lJ6n7xjxFnFSpUAePAgIXCo0WhYtcqTwoULs9nLO9VA3+07t8mTJw958uRRZgmCkIGlfAfJoKZOnUQt8+of9Ldx4wbl7mnq/r17tGrZjEOHDiqz3mtsh4Ks/7Uk+XInnyNYEL4ESZLQaDRIkpRiRUT4lyzL4jy9hyRJuj9xngRByOgkSSI+Pj7VxcyF9CMjlj/Pn+nPdPElaet+2v8KgiAIwpdQxNgYjUajTBYyiCJFi/DPPy+SfYeSJBEQ4M/KFSvo07sXxsbGnDhxQm8bWZbx9/fj4cMHkLhGnL+/H76+R5BlmbCwMH75pQNWVlZYW1tjYWEBQPESKQfdtPU9F2dnTp06hSRJvHz5kmHDhtKsWTNy5sxJQIA/fn6+uqCav78fAQH+BAT447lype5YDx8+ws/PF39/P/z8fHVBs23btuHn55usrmRtbY2ZmRlXr1whPj6exYsX8efx41y5ei3V0WayLHP3zl0sLS2VWYIgZHCZKuhWq3YdZVKKcufOTbXq1ZXJaerY8aPcu3eP/fv38ubNh08TU7FETmqXN1ImC8IXc+bMGUaNHImDvT0O9vbMmjWTp0+fKjfL8uLj43Fzc6Vc2TIUK1YUFxdnrl69mqzilZXFx8fj6jqN8uXKUqxYUSZNnEh4eHiyyrggCEJGIEkSgQEBNG/WjB8K5MfB3p5du3aJntnpVFRUFAMHOlGsWFFq1qjOyhUrePbsWYYJvn1J8fHxrFu7lhrVq2GYKyf9+vXlxJ9/ivJaEIQMI2kni4xOOwInK5VXRYsWI/rVK2VylpVW37+201FaHCs1arWaIkWKcvRoMPfu3VNm4+bqxubNm8mfvwAFCvzAurVruXHjhi5fu47w/n37sbKyxsrKmhnTZzBj+gw0Gg3BQUFUrVqVunVtsba2YefOnbRp04ZChQrrvY6WNjC2avVqZs6YjmGunBTI/z1/PXqEq5s7BgYGBAUGMWP6DGRZ1r1eUGAQQYFBbNq0SZe+csUKli5ZwpXLV3B3c0eSJKysrPFcuRJ3N3flS5M/f35Wr1nLrl07+fGHAly5coXToWFky5b6gIpnz54RHBxE5cpVUh1ZJ3wc7TX/OcuDjNixT/jyVPInXB3rvHfTsL6NMvmruXfvHv379aZipcpMm+aWYk+CLVu8OHbsKDNmzOabbz7P9I2vXr1i2NDBnDt3FiMjI+bPX0SlypWVmxEdKzFu5T2qmhjSw+F7ZTZT1yX09JjsWEiX9tfzeEYsvUPPhvmpV/W7JFt/XQd8A8Ui2JmAt7c3A50GsGPHTipUrMjp06fw8vLC98gRNm7cxE8//6zc5auSZRnPlSuxrVePUqVKKbM/G41GQ+NGDfnxxx9xGjiIYsWKsnHjRpYvW0afvn0ZMWJkuqkwac9Rvfr1KVmypDL7s9FoNDRq6EDBggVxGjiI4sWLsWnTJlavWkW1atVYtXpNujlHwufhvdNHlAtCprJ61Sr69+/HSs9VNGjQgPDwM3h5eXH50iUCg4Lf+UCd0URFRRHg70+Pnj1TnQonPQsLC6N582YMHDiQVi1bERMby+ZNm9i6dQvr12+gzk8/pcvPFRYWxtnwcHr07KnM+mwkSWL0qFEEBPgzzdUVOzt7Nm3ciJeXF99/nw/PVatTfKYShLQg6gpCWtiyZQsLFy4g+tUrWrVuTcuWrXRTyGUk8fHxLFq0kL179gJQrVo1evTsiampqXLTTGf+/Hn8efw4GzdtTpfls5a2M8rnKhclSWLtmjXs3buHmJhYunbrRvv27T/6nMTHx7Nz506WLlmCSqWiUKGCdOvenbp1bVN973///Tc++/dz/fp1zGuZ07hxkw9+Xr979w5WlpYMHDSIUaNG6+VJkoRKpdIFQtRqdbLPk3QbLbVajSRJVKpYgUWLF1O3ri13796hlrk5O3ftTnV9tKS0QRdZllGpVLrPow3IJF2njcSAnfY9KN9Laukp0c6GoV1T7V3Wr1tH7969OP7nCar/x8EhkiRhmCsn0a9jUv1+04Ok18DnEhERwdo1awg7E0alipWYNXt2mj+j/fXoETt37mTfvn28fv0ah4YO9OrVm7x58yo3FbK4z3elfwUFCuSnTJlyRJw/x0PF4pskBsMOHzpE48ZNP1vADeD8uXNcvBgJQHR0NAcOHhCRbyHd02g0zJwxnfkLFvKzhQV58+bFzs4eD49l1Ktfn4kTJ6a7Hs8qlYpevXt/0YCbLMvMnTsHC0tLfv9jHnXq1KFwYWNGjRrNxEmTmTB+PAcP+Ch3+2q05+hLBtwAZs2aiaWVle4cFSpUmBEjRjJv/ny8vLzYsOHzTvErCIKQljQaDc7OU9m6bRudOnXixx9/xMGhIcuXr0ClVjN2zJjP2pvySytVqhQ9e/VK1iiSEUiSxNw5s5k8aTJjx/5KeVNTqlWrhvv06TRr1oyJEyem2++qevXqXzTgBhAYGMDNmzdYsdKTRo0aky1bNhy7dmXu77/j5eXFxo0blbsIgiCkG3//9RcTxo+jT5++rF6zFlmWqVG9Gg8e3Fdumq5pNBpat2rF0eBgpkyZomsorla1CvPnz8v07UmWllZYWKTv6fXu3LmDec0amNeswZ07d5TZn0ySJFycnfn117F07uLIiJEj6Ne3D6dOnVJu+k6SJOHm5orz1Cn06t2bNWvXUKVqVYYOGULPHt1TrANFRERgb9cAb29vChUqxPBhw9i7d49ys1QZGxehe/ceBPgHJGsz0gbZ1Go1BgYGKdYtk26jDFRZ29jo1kjz9PSke/cemJubJ9k7ddpjGRgY6B1TpVLp0rSBN+370v5b+V5SS0+JgYEB2bJle+c2JLYtHT12lCZNmlA5hYEaH0qlUjFh4sQUz216IUkSffr0xjBXTjxXrvws97SIiAgcu3TmydMnHDp0mEuXLjFm9Og0fa2///6bpk2bEH42nLm//86UKZN59vQZlSpV5M/jx5WbC1ncu+8AGUyOHN9gaWXFo0ePOHc+YdHMpM6fO0dsbAw1a9ZUZqUZjUaDn78v1jZ1dWnHjgXz4H7GqvQJWc+1a9eIiIhg9OhRehUxAwMDataoydGjwezatUtvn6xq9+7duLm6snnTJr30atWqATBr9uw0LdgzGlmW8fP1w83VlSNHjujl2djUpWjRoqxa5ZlihV8QBCE9CgoK5P79+/Tv31+vMcHAwIBSJUuyaNFCHqXQ4Uv48q5evcrWrVsZPHiQ3vRFarWacuXKi/qMwu5du9m3bx+zZs7QSzcxMaFo0aKsWLE8WQOaIAhCeuHj48OtW7ewsbGhYsWKVK1aFYDAwCDlpumWLMssX7aMatWq8ce8+VhYWlK1alXc3N0ZN24801xcuHr1qnK3TKV69eoMGjw4XQcNHj9+TGRkJJGRkfz999/K7E8iyzLLPDxwd3dj1erVtGrVinr16lOkSBFWrfL8qLaF8PBw3FxdWbLUg44dO1K4sDEjR47Cffr0FDu/3rlzB8cunbGwtGTX7t30HzCAn376iVWeqz74eV2lUtG7T2+uX7/GxjTsXKtWq7GxqcvMGdPp0aM7L/55wTRX13R9nXyMkydOsGH9eoYPH/FJo7FUKhUTJkx8b5DvawsOSrgvHz129KOu6Q/x5s0bevfqSdmyZVmxYiVqtZoiRYuwY8f2D76O30eSJH79dSx9+vRl4cJFlC5dGgtLK1ymTaNO7drpcqCC8HWl71/kf1CtWjXy5y9AUGCg3sWu0Wjw2b8PK2sb8uVLPpVjWrl18yZv3rylT59+FDY2BuD+vXscO35UuakgpCsmJib07NULF2eXZEPSTc0SprS4dDEyzQqsjEqlUtGiRQumuboywMlJL0879cfDBw+y9Bo/KpWKQYMH0at3b9q1a6fMpkSJkjx88EBUSARB0CMlzomvnZIlPbG2tsHa2obDh48keyguU6YsABcvXUx37zu9khOn9dFoNGlerzAxMaFHz554eXsnG+Ut6jPJ2dazpWevXqxbr99IplKpKFGiJOFnznzU+tSCIAhfUoEfCmBtbUORIkUAaNy4CUCGGukmyzKLFi1kxozp/PXXX3p5jZs04cWLF6xcsULUMb6ycuXKMWfOXObMmUv58uWV2Z/k1atXLFvmQcdOnXBwaAiJ10WevHk5FRLywd+9LMusWLEcgLDQUL28Jk2aUqhQIVasWK6rA0mSxDIPDx4+fIiT00BdO5CJSRl8fPbzt+J6fBdj4yLMmj2bP/74ndu3byuz/7MOHTrgMm0abdq0Ydbs2ek+sPShJEmiW7eujBo1mp8tLJTZmY5arWbu77/z22/jGDdufJp+j5Ik4eGxlPDwcAYOHKQLyhYtUpQHDx7w8GHC0k2f6saNG2xYvz7Fjn3WNjaiY5+QTNpd5emEsbEx5cubJpti8tHDh1y5doU6tX/S2z41fn6+NKhfFz8/X2XWO/n5+WJpaUnJkiWxsLDSpR88cIBXYmFYIR0zMDBg0aLFWFhasnjxInr27MH169fRaDRcvZLQsy40NFSvV1FKDWZSJlnA+l1GjRpNjx492b17N2NGj2b1qlVoNBpdYX7v3j1dJUKWZeLj4zP9OVFq3rwFzs4u7N69m9GjRunOkSRJRF6M1DtHWik1tmsb4QVByLwkSWLPnt20atkSO7sGmNeswTIPj3QVmDcwMODAwYPExsayYMF8evXqqSsjHz5KqG+eO3cu1Z63KZWXWdXr16+ZOmUKxYoVpWSJEnT4pX2aNs4YGBiwePESKleuwsYNG+jTpzd+fr5IksSFiAuQQn0mtXImK3xvzZu3YOHCRQQFBuLi4ozz1KnEx8cjyzIXL13kzZs3REYmTJuvlVJ5LSeu0yEIgvAlNWrUmEOHD+vu6WtWrwbIUGu6qdVqatWuzfjxE5JNMaf9/4iIiCzdqTM9MDQ0ZOCgQQwcNAhDQ0Nl9n8myzIeHkuJjIykb99+eu0IUdevc/369Q8uX1UqFYUKFqKLoyNNmjbVy5NlmdKlTQg/c4bY2FgALl26xLJlHvTvP0AXSJRlmStXLgNw/8HHBSsaN27CVGdnunXr+sHv+UM0bdqMpk2bpVrPzmhkWcba2opevXszcdKkZO0imVWTJk2ZPGUKJiYmyqxP8vTpU1YsX07HTp2wtPq3HV57Dd66eSvJ1v/dt0ZGNG7cGO8tW5J17NOWOaJjn5BUpvtlpzbF5LHjRylYsCBly5XT2z41wcGBvHjxguDgQGVWqp4+fcL1qOvUrFkTlUpFQ4eGGBkZAXDxYiTnz51T7vJOkx0LMdmxkDJZED4LjUbDiuXLqVypIidPnOCnOj9RwcyU8ePGcf78eQBy5MgBiYWXt7c3lSpWwMgwF3379uH+vXusWb0aw1w5qVjBjMmTJileIXOQZZnAgADq2lizc8d2KlWujLe3N0aGuXj48BEA3+XODYm/+0GDBlK2jAndujpy795dvePMnj2LaS4uaVohTQ9kWWbPnt1YWVqwY/s2Klepgre3N6VKluT69Ws8efxYd4604uLiGD5sGEaGuXBxdkaj0RAfH0/ZMib4+/vpbSsIQuah0WhYsmQxTgOcGOA0gIMHDzF37u8MHTqEo8HBys2/mtjYWIYNHUqTxo2Ii4vTlZF9+vTm6ZMnAOTInlBGJqXRaJg6dQompUtRrmwZrCwtCAjwV26WZdy+fZvWrVqhNlBz6dJlbty8iUajYcL4cWnWmChJEiuWL8e0fDmuR13H4mcL+vbpQ4vmzbl46SIkqc8AeHt7062rY5IjJJRjJ0+epHOnjhgZ5mLgQCcuXbqkt01mcffuHRo0qM/q1asoUbwEL1++pIhxYQL8/XmcOH1Wzpw5ddtfuXwZxy6d9cprjUbDzz/VEeW1IAhflSRJbNq0iXHjxtOggZ0yO11budKTQYMHc+jgAVycnTl//jwajYaoqCgATp0K0Y1C0nYI0ZITR4+Lht5/PX/+nLCwMN050Wg0xMXFvbOuIcsykZGReHt7c+LECV68eIGfn6/uWV37fBoXF6d3rrXlYFxcHIGBAUiSRExMDAEB/sk6qKTk0cOHrFi+HBubunprlT158oSnT59StGjRjwo2TZw0iWXLlvPg/n1+/30ufn6+us+dtDONJEksX7aMf/75h6bNmukF+24ldob62OCiWq2mceMmjBw58qPec1ajUqmY5jKN0aPHpMuAmyzL+Pn56qbO195j3tcRLT4+nm3btrFz5w6uXr3Kg/v3dc892t+PRqNJ9rtK+kfiPe78+fM8ffr0na+HdrTmMg+uXLlC06b/XseSJBEVdR2AYsWLKfb6b34sWJBt23dQo0YN9u/fx9QpUzh//jySJHH5UkKgWtmxLzUfcj6FjC/9/brTgHKKyVevXnH40CEaN27KN998o9w8RVZWNuTOnRsrKxtlVqpOnz5N6VKlddNXli1XjiqJc4rHxcXhs3+fXuVIENILjUZD+3ZtGTx4EC9fRbN23Xr69O1LTOwbnj57yrnzCQHjwoWNUalU7Ny5k66OXVi4aBGvY2KRZZnevXszbvw4fH39aNWqNevWrc1017ssyzhPnYqDgz0zZ83Cc9VqHB0d2e/jg5+fP0FBCUH6IsbGSJLEoEGDqFG9BitWrmTLli2EJpniITQ0lAnjxxMYGJipClpZlnFxcaZd27bMmTuXVavX6M6R95YtTJwwARLPkbYyEh8fT6uWLdm6bStmZma4ubnSp09vypiUxtGxK/Xq1Ve8iiAImYEsy6zy9GTkiBHMmDmThg0bYWBgoOuhuGfPnnRxf7x9+zb169ly9GgwN2/dZsSIkfTu04fo1zG8+OcfHj9OCLoZJ05tpaXRaHDs0pkLERHs9znA5StXKVWqFCOGD39no09mFRMTQ/t2bSleojgTJkzk22+/xcDAgCpVquLt7c3du/92TPmvJEmiXds2DB48iBcvXzF58hS69+jB1WvXKV26FJcuJgTOtPUZjUZDt66ODBs+QncMWZbZvXs3TZs0ZseOHZiamrLK05PBgwali+sxLf15/DgmpUtTqWIlVnquwrFrV2bNnk1QUDAzZ87UbWecOGW+RqNh3LjfOHLkCBUrVsTNzZWePXvQpXMnqlStKsprQRDSnLahViu1AJMsy3Tp3Inq1aszYWL6X9soKVmWCQ0Nxd6uAYsWLSY6OppRI0fSuVNHIiIiAMiR2I61YcMGDHPlpJZ5TTZv3kxkZCT9+/fDMFdOujp2SXZesqLz589T8McfGDJ4EA729ly4cIGOHX6hfLmyfGtkiLe3t3IXNBoNE8aPZ/SoUWzbuoWhQwZT18aaxo0aIUkScXFxGBnm4lsjQ7771oiYmBhInOnKyDAXRoa5+O5bI+LextGooQN58/wPN1c3Gjo44Dx16jsDbx7LPLh58yatW7dGrVYjJ44cv5a4jl/NJIG495ETZ9lp3qwZo0aNJCoqipUrVmBlacHVq1d58vgxJHamCQsLY9kyD1q1akWVKlV0x5Akidu3bpM3b15Kly6d5OgfRq1W07RpM2WyoFDX1vaDgjNfmiRJNG7UiOHDhlG8eDGOHD7MzJkzqFG9mq4jWkr3GS8vL741MmTypImsXLGSunVtKFmyhO5+rf39GBnmwt3NXfda2t+PkWEuli9bxubNm6lYwYy2bVpTuFBBBg50eme74osXL1ixfDn58uWjaeLoTjlxRobDhw9TtGhRChZMm8EskiTh7e1N6VKlWLtmDW/evGHIkMHY2TUg8mLCrBBJO/YFBQbS1bFLkiNkrY59QiYNuhUubEzZcmV1U0yeP3eO2NgYatasqdw0VfXq1eeIb8AHPzy+efOG/fv3smzZUmqZV6eWeXWsLH/i+LFjum1Ohpzk1s2bevsBeAc+Y+iiO0THJr9xJeUX/pJuM2/y5EXqNxxB+FiyLDNxwgT27dvHZi9vsmfPrstTqVTY2NQlInGkW+06ddBoNAzo34+FCxdha1sPtVrN6+ho/Px82bZ1G2/j3jJnzmyMixR5Z+UyI/L398Pd3Q07O3scHBrqPczVrlOHX8eOBcC8Vi28Nm9CrVLTvUcP9u3dB0D4mXDd9qdPnQKgTZs2ydbQy8guXbrEksWLsbOzx97eQe8cmZubs3v37oR/16qlq2QGBQZSp04dzp49R8ip0/zz4iU1a9SkV+/eTJg4Ube/IAiZi0ajYfPmzTRq1IhffvlFl64tOxYuXJDiQ92XJEkSixYuJDQ0FGcXF70HKQMDAypVqkxwcMKi4DVqVNfbz8lpALdv32bhosWUL18eAwMD7B0aEhkZycWLCSOusgo5cb2a8PBwBg0anGJjqHZKsP9KlmUmjB/Pvn37+G3cOL3vSqVSUdO8FpcuJzzU1q5TB4ABA/ozaNBgqlfX/+4WLliAs7MLDx4+IuxMOEuWLCU4OChT1Ws0Gg2tW7ciX758DBs+XG+twjJly/IocdpUU1NT/ve//wGwb99evvnmG86cCefEyRCe//OCOrXrkDNXLhYuXKTbXxAEIS2sW7cOI8NclDEpzebNmzl48ACm5cthmCsndeva6OoIkiTRvFkzLCwtcXN35/HffzN16hTl4dIlWZb58/hxLH7+iaHDhrN7zx6mz5jBwUOHsLWtp3sOL2JszI0bN+jVswfr1m/AwMAAN9dpdO7UkW5duzFh4kS2bt2qC9JlVRqNht69erJm7TqmOjsTHBxE/Xq2/PrbOBwdu5IrVy4upjBl8tatWzly5DCr16zBy3sLJ0NO4eQ0ULeNgYEBoWFn6OKYMDJeOz1j3bq2REXdoHOXhIb1pk2b0LRZM17HxOJz4ACvXr1k48YNqQYNJEki6nrCaJyHDx/i4uys+zviewSAKlWqfHBwJj4+nqpVKlO2bFmOHjvOggUL2bBxE3/Mm8+4337VbWdsbMz5c+fQaDSYmpqxbu1aDhzwwdvbm1mzZvLo0UOqV6/xwa8rZB6LFi0kPj6ekFOnIfGafvjgIUd8/bC0smKVp2ey+nBcXBzTXJxZsmQpERci2bN3L3fu3NXVr1UqFS9fReOxLGG9QS1t+uo1awH4+++/2bB+PStWrOTylassXLiIVZ6ebN26Ndlrap0ND+f+/fuUNjFhxvTpOE+diouzM26urjx9+lQ3E92nkiSJRYsW0q2rIy9evsLLewtu7u74+flTpkyZFDv2DR06hIGDBusdJ2nHPjMzs0zbsU9IkPyJNxP45ptvsLCw5NGjR5wJC8Nn/z5++slCNwLtc7hy+TIFCvzAnydOEXIqTPe3c+ceCif2Dn327CnHjh3V7WOUU828gUXxcTNh3sCiGOV899dRr+p3+LiZ4ONmQr2q3ymzBeE/CQ0NZeHCBRgbG9OkScLC00nFvX2rW4+wro0Nly9fpkXLlvTq3RsSC5/r169TrFgxzGvVonr1GixZspTFi5foNeBkdJIkMSlxykx7B/tkDYY3kwTU7e3tiYq6wfARwwE4ejSYfPny0TvxnMmyzPmIhAeoWrVr6/bL6LQVkWfPnmHvYJ8smPjPP//o/m1vb6+r/NjWq8f4CRP4/vvvUavVDBkymMdPHjNmzNhkxxAEIfPYt28vR48G07RpM73f+qFDByHx/pgWD0mfIjQ0lCVLFlOqVCkaNmykzOb2nYTpd6ysrClcOKG+B+Dre4Q1q1fzS4cO/PDDD7r0x48TpuvLalNMxsfHs2TxYkxNTfXW2ZEkiYDAAAAaNkp+fj+Gtj4DYG9nr8wmPi5ON11iXZuExlo/X19dAxqJ72fJ4sWUNilN/wEDyJs3LyqVim7du1O9evWvfj2mFVmWGTp0CM+ePcPOzi7ZuhSSJOkaFJs0aaqr8zRr1pz1GzZSqHBhDAwMCAjwZ+OmjXh4LMtUdT5BEL6+yMhI+vTuxfmIC5iYlMHdzZV+ffuxfsNGprm6EnLyJHv27EGWZRy7dObbb43o168/AAGBgTxOHNGT3l27do169WxxdHSkU6dOes+YDg0bMn16wogQ81q12Lp1C61bt6Z169bcvn2bx48fs2btOur89BPTXFwA+P77fLr9s6Lo6GhevHhB27ZtCQ9P6PA6YeJEqlevztNnT4mJiaF2Hf3nb5VKxZXLl4mLi+Nm4rTXAM2bN8fKyhoSR29VqFCBokWKAvD27RtdemFjY4oXKw7Ab7+NY/DgIajVagwMDGjUqDG3bt3S64yflCzL/45yUYFKrQIVyMgcDU5oOzQzM/ug+oc24GZoaMjkKVP06tbm5ubcuHEDEjvTfPfdd1xPDPYFBwezceNG5syew/Jly/DzTZgqukqVKsnaPITMb/v27Tg6OnIucXkka2sbZs2ezb179zgaHEyrVq2SXY/BwUFcvXqVfN/n0/1+1Go19es3QJZlVCoV2bNnxyrJemsk/vayZ89OmzZtAJg9exYzZ83iZwsLSGx3A1i5YoXeflqyLOtm5bJrYMfLly+5/+A+V65c5uTJkwBUqFgx2fv9WLIss3zZMkaPGkW/fv3JkSOH7pgqlQpLS6tkHfumTpmCubk5tZO092k0GhbMn6/r2BcadiZTduwT/pVp76A1qtckb958rF+/hoiI81ha6v+409KbN2/YsHE99WzrJ2sgLlS4MBYW/772vv17+euvv/S2EYSvKfT0Kd6+fUvDRo1SbDA5dTphRFaTJk0o8MMPmJmZ4eGxTFfIPH/+nHPnzmFpZYVareZ///sfPXr2pFKlSoojZWwXL17UjU5zcGiozNZVpI2NjbGwsGTS5Mk0btyEq1evcvbsWezt7SlYKGFYu0aj4dy5c+TJk0dvKoeMTpZl/Hx9IZVzdP/+fQB++OFHLCwsdekqlQqVSkV8fDy/jh3LNzm+YcKEiXqjFARByFxkWWb7tm2QWL4k5ePjAx/Zs/dzkGWZsNBQ3r59i729Q7I6nizLnE1s0LG0tNQ1TGgDTCTOnJBUSOIDYNIAXVYQHh7OvXv3sLSy0vtOr1y5wvFjxyhfvjw1atTQ2+djaeszNc3NdQ+8SSnrM48fPyZbtmxUrFhRt81fjx6xYMF8Ro8eo/c+Hz16SNly5TLNA7Esy/geSehB3yCFAOWtW7d0jXOWVimX1wsWzGfO7DkEBASK8loQhDS3d+8eOnbqROnSpTl//hyXL19mzty5CdNHjh8PgLl5TVZ5erJt2zZ27NjBt0aGumkWa1T/tDLlS5AkiX79+gJQN3EGmaSS/r+9vT1v37ylT9++REVF8fz5c+zs7KhUqRJqtZqlSz3w3rIFY2P9qa6zmtu3b+PsMg2VSqULHtnZJazv9+uvv3LqdCj29g6KvRKWhomMjKRZ0yYMGjQQ56lTuRB5AZ8DB5LV/wDevHmr9//a+oGyE4s23dDISC9dKz4+ngsXLmBv78DEiZOYNGkykyZNZsKEiZw6FQLwQe0qsiwzauRIrl+/Tp06P+lGqCfNf/s24T03adIUlUrFpcR1bvfu28ehw4c5dPgwBw8dolChggCYVajwVevhwtdha2tLF0dHzoSFAdC1W1eyZctGpUqVCAo+yvoNG5Pdq6ytbShTpgy/tG9PyxYtcJ46FeepU5k8ZYres1CxYu9eW61w4cKUK1cuyf8nPC99+23Kvx9ZlnVtdHZ2dsyaPZulSz1Yt34DOXMmTMlrZlYh2fv9WGFhYYwfPw6AZs1TmDpVlpN17Nu6dQvdu/fQbaLt2GdSxiRTd+wT9H3alZeOGRcpgqmZKVFRURQrUZyySX64aSkmJoZVq1YSGnqK7DlyJHsYV6lU2NnZYZRYyEZdv87ChQuIjo7W204QvgZJkjifOAVFBbPklSqNRkP4mTMADHBySpYPcPLkCQAqV66cYn5moZ2qo2LFipiYmCizCQlJqBQPcHIib968kFgJOHz4EABdu3XTFfZXrlzhVEgIlSpVTnbPyMju3r1DVFRUqudIW3Hr0KGD7hxpSZJEt66O3L17h7m///7JFSNBENK3ly9fcvjwYYoXL06BJCPB7t+/x+5dCdPQtmjR4qveCyRJIuJCwr2/Ro3kU+xcvHiRiIgIypYty8BBg3Tpjx49ZP/+/ZiammJqaqpLlyRJ15v5QxpQMpP9+xKmWa6hmKrI28sLgNat23zSd520PpNSz+yU6jMXLkRgaGiot92ePXswNzfXW8NElmWWeSyjZs2ayY6bUd29e1cXVLNI7E2c1NHgYADatWuXrHFSkiRGDB/OiT//TLUxUhAE4VO9iX1D165duX79Os+fP+eXX36hZcuWqNVqIi5Est/Hh8KFjSlWvBibvbzZt3+/7m/vvn0ULZYwIik9u3jxoq7jpr198g4Qf/75JyR26rS0tGLipEnY2tbjfOKUkz//bKErU7v36EHz5i309s+KKlasSLt27Xjz5g2+vkeoVbs2ZcqUhcQGfG2QUqldu3a4T59O4cKFWeXpiZubK40aNqRXr55IKUz79uZNwkg3pSJFUw56atsDla5evUp8fDylSpXSqx/5+OwnJiYGJ6eB/PhjQhDsXWRZ1s0UYVO3rjKbv//6SzeyTduZ5sKFC5QqVQoDAwNdpxqNRsORI0coUaIEDRp82FI7QuYyadJkVCoVZ8IT6s02NjaQ2LZdq1atFOt92bJlY83adTRt2pTg4CDc3Fxxc3PF1rYujx4mTFf+Ltprv0jiSFKlly8TZt5KyfHjxwEonaT96ebNmwQEBFC+fHkaNkzeGfxjnT4VwqtXr6hZs2ayDpUkBuVQdOyLi4vT6wSYVTr2CfqSlzaZhHaKSQMDAxo3bso3iQvPpqWYmBhGjRiG58oV/PP8H5wG9GWQU3/doqoxMTEMHNCPvn166QXZDvjsw7FzR90UQ4LwNV2+dBlANw1qUn5+voSGhtKte3dd4SLLMp4rV7Jv314kSSLkZEKwqXjxErr9FiyYT/fu3XT/nxlcTmworVK1arKK+vPnz9m3by9Vq1Zl4MBBukJUlmXOJDbylS79byVAO9LB0tIyxdGFGdXVxMWeq1StqsxCo9HoFq3u1LmzXkUjLi4OGxtrihQpyoaNm3TnZPPmzdjb2YkKiCBkQhcvXuTp06eo1Wq9+8G8P+bx11+PmDlrFnXr2urt8zVo5+ev89NPyix27twBwIABTnz//b9TmF++nFCu/mxhoVdenPjzTy5evEjjxo0pVaqULj2zk2VZ15v69evXuvR79+7i5uZKoUKF+G3cuGRl68fS1mdq1ki+hrO/v1+y+kytWrW5efOmrlONLMucO3dOty6L1uHDh9i1ayfW1jbJAq8Z1dWrVwAoVaoUxYsnTImlJUkSe/YkBL4HDhyk973Ex8fTpHFj8uXLx/oNG3Xl9dmzZ0V5LQhCmkopwKRt7DUxMdHdyxs0sKNly5bUr99A99eggR316zfQO156pC1/TE1N9eoRaMvOxPVfk3bqlCRJt86bbb16evsI/zpy5DAAtcxrfVD9QpZlhg4dxsmQU5w6HcrgwUMA8Nq8mStXEsrMpLRTMGslff5PKT21oNtffz0CoEyZMrptJUniyOEjFCjwAwMH/du28C537iR0fgWwTKEzjXa0f9LONDdu3KBMmbJ65+fw4UM8ffqUAU5OHxTsEzKnhHa+k1SsWPGDZueQZZkqVarg5b2FC5GRzJw1ix9/LMipkBDmzZuX7HeRmnz59DtmJ90vtWPExMaSv0ABvXtoUGAgr1+/pv0vv5ArVy697T+WXse+FNoCNRqNbq3upB37vvtOf0modevXYW/vkOk79gn6MvW32q7dL/x54lSyHpppJVeuXCxa4qG3htuiJR66H3VK+dq/7Tt3kz9/AeUhBeGLUqlUdO2WEBy7fv2aXp4kSXiuXEnZsmVZvHiJrhDwWLoUJ6cBzPtjHpIkcTixQlu5cmVILHRGjxrFIMWCoRldh44dAXiRZF0yEgvKFSuWc//+fYYOG65XqKtUKu7cvgOg600vyzK3byesAVTTPHnDYEb2888W5MqViyePn+ily7LMtm3bOHToIJOnTNGbUjM+Pp42rVtTuFAhqlarxoULF4iPj+fMmTPMnDGd3n36fNCDhiAIGYu2waho0WIsX7YMjUbDzJkzWLlyBd5btuDkNPCrd0pQq9XUq5/QoPXs2TO9vAcP7rN92zasrKzp26+f3n3KZ3/C9JitWrXSpUmSxPTp0wFYstTjq3+2L0mj0RASEoKVlTV+fr6EhIRwNDiYIYMH08XRkavXrpM9e3blbh9FrVbr6jNPnuqXQZIksXLFCnLnzo3zVGddfSZnzpzY29vTo3s3lnl4EBcXx8mTJ6hXrz6SJBEfH0/37t1wnjqV7Tt26uo5mUHdurZUrFhRN9VUUlu3bmXPnj0MHDhIr4euRqNhxnR3NBoNhQsXJjQ0lPj4eMLCwhg40EmU14IgpLnMHmDSBtXMzc2TNbi+fv2aLVu8dZ06kzriewRjY+Ms1YHnY2mDtVbWCWuyvYssyzg5DWDlihVkz56dSpUqMWv2bI4cSVg2QTsqPyll0E1LWQ5qAwWpBd2021eo+O96tyEhIWzYsJ5hw4d98Hd87VpC59dSpUqRv4B+O6MkSWxJ7Pyq7ExjamqqF+zbsmULP1tYMGjQ4GSfRcg6bt26xYULF/jp55+T3ZtSEhDgT6PEEWXGxkUYMmQoUTduYGZmxunTp1McLZqSp0+f6V13qf07qfLlymNa3lT3PjUaDVu2bKF2nTp6HeI/xbs69h0/dgx/f7/3duzbs2cPTZs11ds3M3bsE/S9/9cjCEKmpUqc/tTMzIyw0FDu3LmDJElcvHiRzp06Eh4eTtiZcL0h5IZGRnyfPz979u5lwID+NGiQ0Ivw5s0bBAT409DBgT59+1I1hdFOGVnp0qVp164dERERhIeHo9FodIHJCePH89u4cXTo0EFvH5VKRd9+/QA4f/4cjx49wsXZGTc3V4BMd46++eYbmjZtyoEDPpw6dUp3jlZ5etLVsQu//TaOsWN/1VUoZFlmzpzZ5MiRnX79+zN3zmxq1qjOt0aG/FSnNlZW1rRu3Vr5MoIgZHCyLBMQ4A/AH/P+4NTpUxgZ5uLatWscPHSYpk2bpYuglEqlolq1ahgaGrJwwXxevHiBRqPhwoULDB40CI1Gk2x6PY1Gg4/PfgCGDhlCeHg4N2/eZPiwYTx58phz5yMooGgMyeyuXbvGvXv3KG9anpatWjN40EBGjRpJgwZ2eHgsS7Pv2t7enipVqnAmLCxZfWbHjh1s376DHwv+22vbwMCADRs3Ua16dYYMGUzu777l3Llz2Nk1wMy0PD/+UIDYmBh279mbbDRYRqdWq2nRoiV3794lMDAASZLQaDSsXLGCro5daNWqFbNmz9Yrr5d5eLB161bG/jqWQ4cOYmVpwbdGhvz8Ux1qVK9BmzZtlC8jCILwyTJzgEnbqVPZsUeWZWbPmsW1a9dwc3fX69R5//49Qk6eTHWaNyEheBR54QIFCvyAre37Z02QZRljY2OWLl2CRqPRpWuXS2jRsqUuTVsuxiQZuf8hlNNZa1lZWVOmTBn27N4DiR1Sp0yeTI0aNRk2bPgHN8Qn7Uyj3Gfr1q14e3szecoUXWcalUpFo0aNiIiI0G2/ZMliNm3cyKhRo8S1lcX5+yWsh1ipYqVk11NKZFkmKChQt+QKifVs81q19NZAu3Xrlu7fSaU2ii2p1LZp27YtN28mTJkOsHrVKk6c+BPXaa7J1jb8L97XsW/x4kUf1LEv5ORJbG3r6ercmbVjn6BPBN0EIYsrWLAga9et587du5QtY0KB/N/TuVNHChT4gYgLkckawxo3bszkSZNp1rQp+fLmY9y4hIDTjOkzcJ3mSr369fj99z+S7ZfRGRgYsGr1Glq1ak2L5s0xMsyFYa6c7N69m9OhYbq5r5Vat27N0qUeuLu5U61aVV2vuFatWlGoUGHl5hma9hyNGDGS9u3aYWSYi8qVKrJu/Tr27d/PpMmT9XpKSZLE4cOHWbHSk3r16rNr926cnAbSunVr1qxdx+w5czLddSQIQsJv/8CBA5QsWZJy5cqzfPkKXsfEsnSpBzVq1PigHpVfioNDQ/bu3ceNmzf5oUB+jAxz0dDBgcpVqnA6NCzZPerhwwdcu3aNcuXKMXPWLMaOGUNdGxvy5s3LwUOHMTExSVef70vYt28vAFUqV6FLly6cOBnCnydOMsDJKU0bdX788Uf27NlLfHw8lSpW0NVn8uTNy6vo11haWSl3wcDAgGXLluPl7Y21tQ3W1jYU/PFHRo0aTWjYGTZs3ES+fPlSLN8zMpVKxW/jxuHhsYxhQ4dimCsnpuXLsW79OrZs3cqGjZuSXafbt29n/YaN1K/fgM1e3gwY4KRXXqfldykIgkAWCDCZmJjQunVrIiIiOHv2LBqNhlevXuHsPBV3dzf2+/hga6s/wi8kJGGaQCsr60xXNqUVSZI4deoU9evX49tvv1VmJ5O0g4ljl85s2LCBTZs2sXTpUsxr1aJChQr4+fkyZvRo3dTi8+fPY8zo0fj6HmHK5Mm6TrWzZ81m1MiRxMbGsn79et32LZo3Z+SIEXpBPRIb9Nu1a8/Bgwfw9T2CY5fOqNVqFi9Z8lHXvFqtpnnzFgmdaQKSd6ZRdn5Vq9U0bNiIkJCTnD17Fi8vL0aOGIGziwuNGjVWHl7IQmRZJuxMwhplHxoM0l5XbVq3Yu7cOXh5ebF40SLWrF6Nvb0DKpWKKVMmM3zYMACCg4Po3r0bmzdvZuyYMVha/Kw7TvduXYmNjWXsmDG60XMqlYoe3bsxdcqUJK+acB23at0ajUaD89SpODtPZeBAJxYvWYqFZcLahWnB3t4eMzOzT+rYB9CgQX3MTMvzQ4H8mbZjn6BPJacWLv4A67x307B+wqKKQtZ2wDeQ9i0bKZOFDESSJF3vEUmSyJYtW6oVeUmSUKvVyLKsV0mVZTlZI01mI8uyrhJrkLjocGqf2d/fj1OnTjFggJNuSolfx45l/vx5rN+wkbZt2yp3yRQ+5hwlvYa0/6+9vlK7/oSMwXunjygXhBT5+/vRqGFDunXvzpIlS1O9P6QnSctIEh/yUrpH7dmzm3Zt29KjZ0+WLFmKlDidiipxgfqsRpZl7O3sCA4O4vKVq1/kwVL7XWnP94ece41Gg3HhQjRv0YIlS5a+s9zKbDQaje7aVqvVqX5uZXlN4r6p/RYE4UOIuoLwLtu3b6dTxw7Mnfs7TgMHKrMzhbi4OBy7dMbf359//vkHExMTypUrx8JFiyhYsFCy++s0Fxdu3b7Fr7/+prc2kPAvWZbp3KkjEydNxtTUVJmdjCzLTJvmQrNmzTEzM2P27FmcO3sWM7MKjJ8wAQMDAwIC/AkMCMTK2orXr1+jVqs5ffo0VlZWPHr0Fz/8UACVSsWzZ885f+4c48aPZ9u2bcnSJ06alKyclWWZdevWcevmTUqULEnbtm3/0zpU8fHxuLu5sWbNau7evUuxYsUobGzMxIkTsbWtl+Lr/vbrr0RERJAz5ze0btOWDh06JNtOyHqmubiQN29enAYOTHYPSom/vx/BwcH89ts4Tp44wcKFC8j3/fd0dexK7Tp1En5jLi6YlClD3rx5kGWZZ8+ekz17di5duoilpaWuLfHMmTPUr9+AXTt3Ymmlnx79KpqJkyYpX579+/dx4cIFcuTIgampKXZ29h/0vj9GREQETk4DOBUSgqGhIcWLF6d2nTosWLAwWSdMLY1Gw969e1i0cBEAefL8D3t7BxrY2VGkSJFU9xMyDxF0E9KECLoJgr74+Hi+NUqYRsLnwAFsbevx/PlzypYxoUyZMgQEBn3yGjaCkJ6JhjQhNYsXLWLEiOFs2Lgp001JN3XKFNzd3Zg5axZDhgxVZmc5Go0Gk9KlKFqsGAEBgem2IefKlStUrlSRJUuW0qNnT2W2IAifiagrCO+iDTD99tu4TDm9pJa20+GHdhbRdlAUPp+UOppkBNprSdsp5l2dabTkLNJ5WvhytGGGjPgbepdP6dg3YIATEyZOzFId+wQxvaQgCMJnU716dVq3bo2lpRXnz5+nnm1dihQpgsey5SLgJghCliTLMo8fPwYgX768yuwMTZIkLl++BEDDhqIRGSAoKJAHDx7QoH6D9z6Ufi2yLLNp40YAKlaqpMwWBEEQvpIJEyfi4bEsUwfcSGy4NTAw0AVI3ldeigbbz+9930F6pb2WcuTIQbZs2T7oWhFBACGtfUgwKiNSq9Ufda8GuH79Os+fP6dYsWK6fYWsQ3zbgiAIn0G2bNkYP2EChw8f5rtvjejerSstWrZk9549VKxYUbm5IAhClqBSqRg/YQKnQ8OSrVOS0UmSxPbt27G2tsn0DYQfyta2Hn5+/oyfMOGDHky/BlmWOXr0KGZmZpQrV06ZLQiCIHxFooFSEARByIiSduyr9IHr4wmZi6jBCIIgfCZNmjTlwcNHvHj5ilOnQ5k0aTJFihRVbiYIgpClGBgYZMrOB9myZeNM+Fm8vL3FHP1J/GxhgYGBgTI53VCr1SxavJg1a9eRO3duZbYgCIIgCIIgCMJHSdqxr2zZsspsIQsQQTdBEITPKFu2bOTIkeODh58LgiAIGZepqSl582auaTOzgrJly1JJTC0pCIIgCIIgCEIaEB37BBF0EwRBEARBEARBEARBEARBEARBSAOiY1/WJoJugiAIgiAIgiAIgiAIgiAIgiAIgvCJRNBNEARBEARBEARBEARBEARBEARBED6RCLoJgiAIgiAIgiAIgiAIgiAIgiAIwicSQTdBEARBEARBEARBEARBEARBEARB+EQi6CYIgiAIgiAIgiAIgiAIgiAIgiAIn0gly7KsTPxQ67x3K5MEQRAEQRAEQRAEQRAEQRAEQRAEIcv55KBbw/o2ymQhCzrgG0j7lo2UyYIgCEIW5b3TR5QLgiAIgiCkStQVBEEQBEEQhMzo/xH4P5NDxiEeAAAAAElFTkSuQmCC)"
      ],
      "metadata": {
        "id": "5X-1N1eH9c4v"
      }
    },
    {
      "cell_type": "code",
      "source": [
        "find_years = range(2020, 2026)\n",
        "years = pygeo.getQuantity(model_name, \"times\")\n",
        "\n",
        "'''\n",
        "pygeo.selectFromMeasure(\n",
        " modelName=\"CHAOS\",\n",
        " measure=MF,\n",
        " options={\n",
        "        \"time\": (2000, 2010),\n",
        "        \"theta\": (90, 180),\n",
        "        \"phi\": (0, 270)\n",
        " }\n",
        ")\n",
        "'''\n",
        "\n",
        "loss_history_by_year = {}\n",
        "\n",
        "for year in find_years:\n",
        "    if year in years:\n",
        "\n",
        "        #fetching magnetic field of my specified time range\n",
        "        mf_grid = pygeo.selectFromMeasure(\n",
        "            modelName=model_name,\n",
        "            measure=MF,\n",
        "            options={\"time\": (year, year)}\n",
        "        )\n",
        "\n",
        "        sv_grid = pygeo.selectFromMeasure(\n",
        "            modelName=model_name,\n",
        "            measure=SV,\n",
        "            options={\"time\": (year, year)}\n",
        "        )\n",
        "\n",
        "        print(f\"\\nData loaded for year {year}\\n\")\n",
        "\n",
        "        # Convert data to numpy and reshape to [theta, phi, value]\n",
        "        mf_np = np.array(mf_grid).reshape(-1, 3) #[θ,φ,B]\n",
        "        sv_np = np.array(sv_grid).reshape(-1, 3) #[θ,φ,dBr/dt]\n",
        "\n",
        "        # Convert to torch tensors with gradients enabled for theta and phi\n",
        "        theta = torch.tensor(mf_np[:, 0:1], dtype=torch.float32, requires_grad=True)\n",
        "        phi   = torch.tensor(mf_np[:, 1:2], dtype=torch.float32, requires_grad=True)\n",
        "        Br    = torch.tensor(mf_np[:, 2:3], dtype=torch.float32)\n",
        "        dBr_dt = torch.tensor(sv_np[:, 2:3], dtype=torch.float32)\n",
        "\n",
        "        # Concatenate theta and phi as input to the PINN\n",
        "        inputs = torch.cat([theta, phi], dim=1)\n",
        "\n",
        "        # Reinitialize the model and optimizer for each year\n",
        "        model = CoreFlowPINN()\n",
        "        optimizer = torch.optim.Adam(model.parameters(), lr=0.001)\n",
        "\n",
        "        loss_history = []\n",
        "        r = torch.tensor(3480e3, dtype=torch.float32)\n",
        "\n",
        "        # Training loop\n",
        "        for epoch in range(100):\n",
        "            optimizer.zero_grad()\n",
        "\n",
        "            # Predict u_theta and u_phi using the PINN\n",
        "            u_pred = model(inputs)\n",
        "            u_theta = u_pred[:, 0:1]\n",
        "            u_phi   = u_pred[:, 1:2]\n",
        "\n",
        "            # to calculate divergence according to image above\n",
        "            q_theta = u_theta * Br #A theta\n",
        "            q_phi   = u_phi * Br   # A phi\n",
        "\n",
        "            q_theta_sin = q_theta * torch.sin(theta) #A theta times sin theta (like the formula)\n",
        "\n",
        "            # differenciation  of the both terms seen in formula\n",
        "\n",
        "            dq_theta_sin_dtheta = torch.autograd.grad(\n",
        "                q_theta_sin, theta,\n",
        "                grad_outputs=torch.ones_like(q_theta_sin),\n",
        "                create_graph=True, retain_graph=True\n",
        "            )[0]\n",
        "\n",
        "            #q_phi is differentiated, no need for sine as it is not in formula\n",
        "\n",
        "            dq_phi_dphi = torch.autograd.grad(\n",
        "                q_phi, phi,\n",
        "                grad_outputs=torch.ones_like(q_phi),\n",
        "                create_graph=True, retain_graph=True\n",
        "            )[0]\n",
        "\n",
        "            divergence_L1 = (1 / (r * torch.sin(theta))) * (\n",
        "                dq_theta_sin_dtheta + dq_phi_dphi\n",
        "            )\n",
        "\n",
        "\n",
        "            residual = dBr_dt + divergence_L1\n",
        "            loss_L1 = torch.mean(residual ** 2)\n",
        "\n",
        "            # divergence for L2\n",
        "            # according to formula the definations are just different\n",
        "\n",
        "            cos2_theta = torch.cos(theta) ** 2\n",
        "\n",
        "            q2_theta = u_theta * cos2_theta\n",
        "            q2_phi   = u_phi * cos2_theta\n",
        "\n",
        "            # same as L1\n",
        "\n",
        "            q2_theta_sin = q2_theta * torch.sin(theta)\n",
        "\n",
        "            dq2_theta_sin_dtheta = torch.autograd.grad(\n",
        "                q2_theta_sin, theta,\n",
        "                grad_outputs=torch.ones_like(q2_theta_sin),\n",
        "                create_graph=True, retain_graph=True\n",
        "            )[0]\n",
        "\n",
        "            dq2_phi_dphi = torch.autograd.grad(\n",
        "                q2_phi, phi,\n",
        "                grad_outputs=torch.ones_like(q2_phi),\n",
        "                create_graph=True, retain_graph=True\n",
        "            )[0]\n",
        "\n",
        "            divergence_L2= (1 / (r * torch.sin(theta))) * (\n",
        "                dq2_theta_sin_dtheta + dq2_phi_dphi\n",
        "            )\n",
        "            # no residual like L1 since there’s nothing to compare to\n",
        "\n",
        "            loss_L2 = torch.mean(divergence_L2 ** 2)\n",
        "\n",
        "            # Total loss: L1² + L2²\n",
        "            loss = loss_L1 + loss_L2\n",
        "\n",
        "            loss.backward()\n",
        "            optimizer.step()\n",
        "\n",
        "            loss_history.append(loss.item())\n",
        "\n",
        "            print(f\"{year} : Epoch {epoch} --- Loss {loss.item():.6f}\")\n",
        "\n",
        "        loss_history_by_year[year] = loss_history # for the graph\n",
        "\n",
        "    else:\n",
        "        print(f\"\\nNo data available for year {year}\")\n"
      ],
      "metadata": {
        "colab": {
          "base_uri": "https://localhost:8080/"
        },
        "id": "fRDFr2sfVZcK",
        "outputId": "bd14a5f8-70f1-4c4b-c11f-b000ea1bb595"
      },
      "execution_count": 15,
      "outputs": [
        {
          "output_type": "stream",
          "name": "stdout",
          "text": [
            "\n",
            "Data loaded for year 2020\n",
            "\n",
            "2020 : Epoch 0 --- Loss 15161143.000000\n",
            "2020 : Epoch 1 --- Loss 15161139.000000\n",
            "2020 : Epoch 2 --- Loss 15161137.000000\n",
            "2020 : Epoch 3 --- Loss 15161135.000000\n",
            "2020 : Epoch 4 --- Loss 15161132.000000\n",
            "2020 : Epoch 5 --- Loss 15161131.000000\n",
            "2020 : Epoch 6 --- Loss 15161128.000000\n",
            "2020 : Epoch 7 --- Loss 15161124.000000\n",
            "2020 : Epoch 8 --- Loss 15161123.000000\n",
            "2020 : Epoch 9 --- Loss 15161121.000000\n",
            "2020 : Epoch 10 --- Loss 15161120.000000\n",
            "2020 : Epoch 11 --- Loss 15161118.000000\n",
            "2020 : Epoch 12 --- Loss 15161113.000000\n",
            "2020 : Epoch 13 --- Loss 15161110.000000\n",
            "2020 : Epoch 14 --- Loss 15161109.000000\n",
            "2020 : Epoch 15 --- Loss 15161107.000000\n",
            "2020 : Epoch 16 --- Loss 15161105.000000\n",
            "2020 : Epoch 17 --- Loss 15161104.000000\n",
            "2020 : Epoch 18 --- Loss 15161101.000000\n",
            "2020 : Epoch 19 --- Loss 15161097.000000\n",
            "2020 : Epoch 20 --- Loss 15161094.000000\n",
            "2020 : Epoch 21 --- Loss 15161093.000000\n",
            "2020 : Epoch 22 --- Loss 15161090.000000\n",
            "2020 : Epoch 23 --- Loss 15161088.000000\n",
            "2020 : Epoch 24 --- Loss 15161086.000000\n",
            "2020 : Epoch 25 --- Loss 15161083.000000\n",
            "2020 : Epoch 26 --- Loss 15161080.000000\n",
            "2020 : Epoch 27 --- Loss 15161079.000000\n",
            "2020 : Epoch 28 --- Loss 15161075.000000\n",
            "2020 : Epoch 29 --- Loss 15161074.000000\n",
            "2020 : Epoch 30 --- Loss 15161069.000000\n",
            "2020 : Epoch 31 --- Loss 15161066.000000\n",
            "2020 : Epoch 32 --- Loss 15161061.000000\n",
            "2020 : Epoch 33 --- Loss 15161060.000000\n",
            "2020 : Epoch 34 --- Loss 15161056.000000\n",
            "2020 : Epoch 35 --- Loss 15161053.000000\n",
            "2020 : Epoch 36 --- Loss 15161050.000000\n",
            "2020 : Epoch 37 --- Loss 15161047.000000\n",
            "2020 : Epoch 38 --- Loss 15161044.000000\n",
            "2020 : Epoch 39 --- Loss 15161039.000000\n",
            "2020 : Epoch 40 --- Loss 15161034.000000\n",
            "2020 : Epoch 41 --- Loss 15161033.000000\n",
            "2020 : Epoch 42 --- Loss 15161030.000000\n",
            "2020 : Epoch 43 --- Loss 15161025.000000\n",
            "2020 : Epoch 44 --- Loss 15161022.000000\n",
            "2020 : Epoch 45 --- Loss 15161018.000000\n",
            "2020 : Epoch 46 --- Loss 15161014.000000\n",
            "2020 : Epoch 47 --- Loss 15161011.000000\n",
            "2020 : Epoch 48 --- Loss 15161006.000000\n",
            "2020 : Epoch 49 --- Loss 15161003.000000\n",
            "2020 : Epoch 50 --- Loss 15160998.000000\n",
            "2020 : Epoch 51 --- Loss 15160996.000000\n",
            "2020 : Epoch 52 --- Loss 15160990.000000\n",
            "2020 : Epoch 53 --- Loss 15160988.000000\n",
            "2020 : Epoch 54 --- Loss 15160982.000000\n",
            "2020 : Epoch 55 --- Loss 15160977.000000\n",
            "2020 : Epoch 56 --- Loss 15160973.000000\n",
            "2020 : Epoch 57 --- Loss 15160968.000000\n",
            "2020 : Epoch 58 --- Loss 15160963.000000\n",
            "2020 : Epoch 59 --- Loss 15160958.000000\n",
            "2020 : Epoch 60 --- Loss 15160954.000000\n",
            "2020 : Epoch 61 --- Loss 15160949.000000\n",
            "2020 : Epoch 62 --- Loss 15160944.000000\n",
            "2020 : Epoch 63 --- Loss 15160939.000000\n",
            "2020 : Epoch 64 --- Loss 15160933.000000\n",
            "2020 : Epoch 65 --- Loss 15160928.000000\n",
            "2020 : Epoch 66 --- Loss 15160924.000000\n",
            "2020 : Epoch 67 --- Loss 15160919.000000\n",
            "2020 : Epoch 68 --- Loss 15160914.000000\n",
            "2020 : Epoch 69 --- Loss 15160908.000000\n",
            "2020 : Epoch 70 --- Loss 15160905.000000\n",
            "2020 : Epoch 71 --- Loss 15160898.000000\n",
            "2020 : Epoch 72 --- Loss 15160894.000000\n",
            "2020 : Epoch 73 --- Loss 15160887.000000\n",
            "2020 : Epoch 74 --- Loss 15160881.000000\n",
            "2020 : Epoch 75 --- Loss 15160876.000000\n",
            "2020 : Epoch 76 --- Loss 15160870.000000\n",
            "2020 : Epoch 77 --- Loss 15160864.000000\n",
            "2020 : Epoch 78 --- Loss 15160857.000000\n",
            "2020 : Epoch 79 --- Loss 15160853.000000\n",
            "2020 : Epoch 80 --- Loss 15160845.000000\n",
            "2020 : Epoch 81 --- Loss 15160838.000000\n",
            "2020 : Epoch 82 --- Loss 15160835.000000\n",
            "2020 : Epoch 83 --- Loss 15160829.000000\n",
            "2020 : Epoch 84 --- Loss 15160821.000000\n",
            "2020 : Epoch 85 --- Loss 15160816.000000\n",
            "2020 : Epoch 86 --- Loss 15160808.000000\n",
            "2020 : Epoch 87 --- Loss 15160804.000000\n",
            "2020 : Epoch 88 --- Loss 15160796.000000\n",
            "2020 : Epoch 89 --- Loss 15160789.000000\n",
            "2020 : Epoch 90 --- Loss 15160785.000000\n",
            "2020 : Epoch 91 --- Loss 15160777.000000\n",
            "2020 : Epoch 92 --- Loss 15160770.000000\n",
            "2020 : Epoch 93 --- Loss 15160764.000000\n",
            "2020 : Epoch 94 --- Loss 15160758.000000\n",
            "2020 : Epoch 95 --- Loss 15160751.000000\n",
            "2020 : Epoch 96 --- Loss 15160747.000000\n",
            "2020 : Epoch 97 --- Loss 15160739.000000\n",
            "2020 : Epoch 98 --- Loss 15160732.000000\n",
            "2020 : Epoch 99 --- Loss 15160726.000000\n",
            "\n",
            "Data loaded for year 2021\n",
            "\n",
            "2021 : Epoch 0 --- Loss 14038696.000000\n",
            "2021 : Epoch 1 --- Loss 14038670.000000\n",
            "2021 : Epoch 2 --- Loss 14038642.000000\n",
            "2021 : Epoch 3 --- Loss 14038616.000000\n",
            "2021 : Epoch 4 --- Loss 14038591.000000\n",
            "2021 : Epoch 5 --- Loss 14038568.000000\n",
            "2021 : Epoch 6 --- Loss 14038541.000000\n",
            "2021 : Epoch 7 --- Loss 14038514.000000\n",
            "2021 : Epoch 8 --- Loss 14038488.000000\n",
            "2021 : Epoch 9 --- Loss 14038465.000000\n",
            "2021 : Epoch 10 --- Loss 14038440.000000\n",
            "2021 : Epoch 11 --- Loss 14038414.000000\n",
            "2021 : Epoch 12 --- Loss 14038389.000000\n",
            "2021 : Epoch 13 --- Loss 14038365.000000\n",
            "2021 : Epoch 14 --- Loss 14038340.000000\n",
            "2021 : Epoch 15 --- Loss 14038316.000000\n",
            "2021 : Epoch 16 --- Loss 14038291.000000\n",
            "2021 : Epoch 17 --- Loss 14038267.000000\n",
            "2021 : Epoch 18 --- Loss 14038244.000000\n",
            "2021 : Epoch 19 --- Loss 14038218.000000\n",
            "2021 : Epoch 20 --- Loss 14038195.000000\n",
            "2021 : Epoch 21 --- Loss 14038171.000000\n",
            "2021 : Epoch 22 --- Loss 14038147.000000\n",
            "2021 : Epoch 23 --- Loss 14038123.000000\n",
            "2021 : Epoch 24 --- Loss 14038098.000000\n",
            "2021 : Epoch 25 --- Loss 14038076.000000\n",
            "2021 : Epoch 26 --- Loss 14038051.000000\n",
            "2021 : Epoch 27 --- Loss 14038029.000000\n",
            "2021 : Epoch 28 --- Loss 14038005.000000\n",
            "2021 : Epoch 29 --- Loss 14037983.000000\n",
            "2021 : Epoch 30 --- Loss 14037959.000000\n",
            "2021 : Epoch 31 --- Loss 14037937.000000\n",
            "2021 : Epoch 32 --- Loss 14037913.000000\n",
            "2021 : Epoch 33 --- Loss 14037891.000000\n",
            "2021 : Epoch 34 --- Loss 14037867.000000\n",
            "2021 : Epoch 35 --- Loss 14037848.000000\n",
            "2021 : Epoch 36 --- Loss 14037826.000000\n",
            "2021 : Epoch 37 --- Loss 14037804.000000\n",
            "2021 : Epoch 38 --- Loss 14037782.000000\n",
            "2021 : Epoch 39 --- Loss 14037760.000000\n",
            "2021 : Epoch 40 --- Loss 14037738.000000\n",
            "2021 : Epoch 41 --- Loss 14037717.000000\n",
            "2021 : Epoch 42 --- Loss 14037695.000000\n",
            "2021 : Epoch 43 --- Loss 14037673.000000\n",
            "2021 : Epoch 44 --- Loss 14037653.000000\n",
            "2021 : Epoch 45 --- Loss 14037629.000000\n",
            "2021 : Epoch 46 --- Loss 14037608.000000\n",
            "2021 : Epoch 47 --- Loss 14037586.000000\n",
            "2021 : Epoch 48 --- Loss 14037566.000000\n",
            "2021 : Epoch 49 --- Loss 14037547.000000\n",
            "2021 : Epoch 50 --- Loss 14037525.000000\n",
            "2021 : Epoch 51 --- Loss 14037504.000000\n",
            "2021 : Epoch 52 --- Loss 14037485.000000\n",
            "2021 : Epoch 53 --- Loss 14037464.000000\n",
            "2021 : Epoch 54 --- Loss 14037442.000000\n",
            "2021 : Epoch 55 --- Loss 14037423.000000\n",
            "2021 : Epoch 56 --- Loss 14037403.000000\n",
            "2021 : Epoch 57 --- Loss 14037382.000000\n",
            "2021 : Epoch 58 --- Loss 14037362.000000\n",
            "2021 : Epoch 59 --- Loss 14037343.000000\n",
            "2021 : Epoch 60 --- Loss 14037324.000000\n",
            "2021 : Epoch 61 --- Loss 14037303.000000\n",
            "2021 : Epoch 62 --- Loss 14037286.000000\n",
            "2021 : Epoch 63 --- Loss 14037264.000000\n",
            "2021 : Epoch 64 --- Loss 14037245.000000\n",
            "2021 : Epoch 65 --- Loss 14037226.000000\n",
            "2021 : Epoch 66 --- Loss 14037205.000000\n",
            "2021 : Epoch 67 --- Loss 14037188.000000\n",
            "2021 : Epoch 68 --- Loss 14037167.000000\n",
            "2021 : Epoch 69 --- Loss 14037148.000000\n",
            "2021 : Epoch 70 --- Loss 14037129.000000\n",
            "2021 : Epoch 71 --- Loss 14037111.000000\n",
            "2021 : Epoch 72 --- Loss 14037092.000000\n",
            "2021 : Epoch 73 --- Loss 14037073.000000\n",
            "2021 : Epoch 74 --- Loss 14037052.000000\n",
            "2021 : Epoch 75 --- Loss 14037033.000000\n",
            "2021 : Epoch 76 --- Loss 14037016.000000\n",
            "2021 : Epoch 77 --- Loss 14036990.000000\n",
            "2021 : Epoch 78 --- Loss 14036971.000000\n",
            "2021 : Epoch 79 --- Loss 14036956.000000\n",
            "2021 : Epoch 80 --- Loss 14036937.000000\n",
            "2021 : Epoch 81 --- Loss 14036918.000000\n",
            "2021 : Epoch 82 --- Loss 14036897.000000\n",
            "2021 : Epoch 83 --- Loss 14036878.000000\n",
            "2021 : Epoch 84 --- Loss 14036861.000000\n",
            "2021 : Epoch 85 --- Loss 14036843.000000\n",
            "2021 : Epoch 86 --- Loss 14036824.000000\n",
            "2021 : Epoch 87 --- Loss 14036806.000000\n",
            "2021 : Epoch 88 --- Loss 14036788.000000\n",
            "2021 : Epoch 89 --- Loss 14036769.000000\n",
            "2021 : Epoch 90 --- Loss 14036750.000000\n",
            "2021 : Epoch 91 --- Loss 14036731.000000\n",
            "2021 : Epoch 92 --- Loss 14036714.000000\n",
            "2021 : Epoch 93 --- Loss 14036695.000000\n",
            "2021 : Epoch 94 --- Loss 14036676.000000\n",
            "2021 : Epoch 95 --- Loss 14036657.000000\n",
            "2021 : Epoch 96 --- Loss 14036640.000000\n",
            "2021 : Epoch 97 --- Loss 14036624.000000\n",
            "2021 : Epoch 98 --- Loss 14036605.000000\n",
            "2021 : Epoch 99 --- Loss 14036587.000000\n",
            "\n",
            "Data loaded for year 2022\n",
            "\n",
            "2022 : Epoch 0 --- Loss 12618809.000000\n",
            "2022 : Epoch 1 --- Loss 12618800.000000\n",
            "2022 : Epoch 2 --- Loss 12618791.000000\n",
            "2022 : Epoch 3 --- Loss 12618783.000000\n",
            "2022 : Epoch 4 --- Loss 12618775.000000\n",
            "2022 : Epoch 5 --- Loss 12618767.000000\n",
            "2022 : Epoch 6 --- Loss 12618760.000000\n",
            "2022 : Epoch 7 --- Loss 12618754.000000\n",
            "2022 : Epoch 8 --- Loss 12618748.000000\n",
            "2022 : Epoch 9 --- Loss 12618741.000000\n",
            "2022 : Epoch 10 --- Loss 12618736.000000\n",
            "2022 : Epoch 11 --- Loss 12618731.000000\n",
            "2022 : Epoch 12 --- Loss 12618727.000000\n",
            "2022 : Epoch 13 --- Loss 12618723.000000\n",
            "2022 : Epoch 14 --- Loss 12618720.000000\n",
            "2022 : Epoch 15 --- Loss 12618715.000000\n",
            "2022 : Epoch 16 --- Loss 12618711.000000\n",
            "2022 : Epoch 17 --- Loss 12618707.000000\n",
            "2022 : Epoch 18 --- Loss 12618706.000000\n",
            "2022 : Epoch 19 --- Loss 12618702.000000\n",
            "2022 : Epoch 20 --- Loss 12618699.000000\n",
            "2022 : Epoch 21 --- Loss 12618697.000000\n",
            "2022 : Epoch 22 --- Loss 12618694.000000\n",
            "2022 : Epoch 23 --- Loss 12618691.000000\n",
            "2022 : Epoch 24 --- Loss 12618687.000000\n",
            "2022 : Epoch 25 --- Loss 12618686.000000\n",
            "2022 : Epoch 26 --- Loss 12618682.000000\n",
            "2022 : Epoch 27 --- Loss 12618678.000000\n",
            "2022 : Epoch 28 --- Loss 12618674.000000\n",
            "2022 : Epoch 29 --- Loss 12618670.000000\n",
            "2022 : Epoch 30 --- Loss 12618667.000000\n",
            "2022 : Epoch 31 --- Loss 12618664.000000\n",
            "2022 : Epoch 32 --- Loss 12618660.000000\n",
            "2022 : Epoch 33 --- Loss 12618656.000000\n",
            "2022 : Epoch 34 --- Loss 12618652.000000\n",
            "2022 : Epoch 35 --- Loss 12618648.000000\n",
            "2022 : Epoch 36 --- Loss 12618644.000000\n",
            "2022 : Epoch 37 --- Loss 12618640.000000\n",
            "2022 : Epoch 38 --- Loss 12618637.000000\n",
            "2022 : Epoch 39 --- Loss 12618632.000000\n",
            "2022 : Epoch 40 --- Loss 12618627.000000\n",
            "2022 : Epoch 41 --- Loss 12618623.000000\n",
            "2022 : Epoch 42 --- Loss 12618619.000000\n",
            "2022 : Epoch 43 --- Loss 12618616.000000\n",
            "2022 : Epoch 44 --- Loss 12618611.000000\n",
            "2022 : Epoch 45 --- Loss 12618607.000000\n",
            "2022 : Epoch 46 --- Loss 12618603.000000\n",
            "2022 : Epoch 47 --- Loss 12618598.000000\n",
            "2022 : Epoch 48 --- Loss 12618593.000000\n",
            "2022 : Epoch 49 --- Loss 12618590.000000\n",
            "2022 : Epoch 50 --- Loss 12618584.000000\n",
            "2022 : Epoch 51 --- Loss 12618581.000000\n",
            "2022 : Epoch 52 --- Loss 12618575.000000\n",
            "2022 : Epoch 53 --- Loss 12618570.000000\n",
            "2022 : Epoch 54 --- Loss 12618566.000000\n",
            "2022 : Epoch 55 --- Loss 12618561.000000\n",
            "2022 : Epoch 56 --- Loss 12618554.000000\n",
            "2022 : Epoch 57 --- Loss 12618550.000000\n",
            "2022 : Epoch 58 --- Loss 12618545.000000\n",
            "2022 : Epoch 59 --- Loss 12618539.000000\n",
            "2022 : Epoch 60 --- Loss 12618534.000000\n",
            "2022 : Epoch 61 --- Loss 12618530.000000\n",
            "2022 : Epoch 62 --- Loss 12618524.000000\n",
            "2022 : Epoch 63 --- Loss 12618518.000000\n",
            "2022 : Epoch 64 --- Loss 12618513.000000\n",
            "2022 : Epoch 65 --- Loss 12618508.000000\n",
            "2022 : Epoch 66 --- Loss 12618500.000000\n",
            "2022 : Epoch 67 --- Loss 12618495.000000\n",
            "2022 : Epoch 68 --- Loss 12618490.000000\n",
            "2022 : Epoch 69 --- Loss 12618483.000000\n",
            "2022 : Epoch 70 --- Loss 12618478.000000\n",
            "2022 : Epoch 71 --- Loss 12618472.000000\n",
            "2022 : Epoch 72 --- Loss 12618465.000000\n",
            "2022 : Epoch 73 --- Loss 12618460.000000\n",
            "2022 : Epoch 74 --- Loss 12618452.000000\n",
            "2022 : Epoch 75 --- Loss 12618445.000000\n",
            "2022 : Epoch 76 --- Loss 12618438.000000\n",
            "2022 : Epoch 77 --- Loss 12618432.000000\n",
            "2022 : Epoch 78 --- Loss 12618426.000000\n",
            "2022 : Epoch 79 --- Loss 12618419.000000\n",
            "2022 : Epoch 80 --- Loss 12618411.000000\n",
            "2022 : Epoch 81 --- Loss 12618405.000000\n",
            "2022 : Epoch 82 --- Loss 12618398.000000\n",
            "2022 : Epoch 83 --- Loss 12618389.000000\n",
            "2022 : Epoch 84 --- Loss 12618384.000000\n",
            "2022 : Epoch 85 --- Loss 12618375.000000\n",
            "2022 : Epoch 86 --- Loss 12618368.000000\n",
            "2022 : Epoch 87 --- Loss 12618361.000000\n",
            "2022 : Epoch 88 --- Loss 12618352.000000\n",
            "2022 : Epoch 89 --- Loss 12618344.000000\n",
            "2022 : Epoch 90 --- Loss 12618339.000000\n",
            "2022 : Epoch 91 --- Loss 12618330.000000\n",
            "2022 : Epoch 92 --- Loss 12618321.000000\n",
            "2022 : Epoch 93 --- Loss 12618313.000000\n",
            "2022 : Epoch 94 --- Loss 12618305.000000\n",
            "2022 : Epoch 95 --- Loss 12618298.000000\n",
            "2022 : Epoch 96 --- Loss 12618289.000000\n",
            "2022 : Epoch 97 --- Loss 12618282.000000\n",
            "2022 : Epoch 98 --- Loss 12618272.000000\n",
            "2022 : Epoch 99 --- Loss 12618264.000000\n",
            "\n",
            "No data available for year 2023\n",
            "\n",
            "No data available for year 2024\n",
            "\n",
            "No data available for year 2025\n"
          ]
        }
      ]
    },
    {
      "cell_type": "markdown",
      "source": [
        "![image.png](data:image/png;base64,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)"
      ],
      "metadata": {
        "id": "BwvLU0GxqgrH"
      }
    },
    {
      "cell_type": "code",
      "source": [
        "            '''\n",
        "\n",
        "\n",
        "            q_theta = u_theta * Br #A theta\n",
        "            q_phi   = u_phi * Br   # A phi\n",
        "\n",
        "            q_theta_sin = q_theta * torch.sin(theta)\n",
        "\n",
        "            dq_theta_sin_dtheta = torch.autograd.grad(\n",
        "                q_theta_sin, theta,\n",
        "                grad_outputs=torch.ones_like(q_theta_sin),\n",
        "                create_graph=True, retain_graph=True\n",
        "            )[0]\n",
        "\n",
        "            dq_phi_dphi = torch.autograd.grad(\n",
        "                q_phi, phi,\n",
        "                grad_outputs=torch.ones_like(q_phi),\n",
        "                create_graph=True, retain_graph=True\n",
        "            )[0]\n",
        "\n",
        "            divergence = (1 / (r * torch.sin(theta))) * (\n",
        "                dq_theta_sin_dtheta + dq_phi_dphi\n",
        "            )\n",
        "\n",
        "            # testing\n",
        "            residual = dBr_dt + divergence\n",
        "            loss_L1 = torch.mean(residual ** 2)\n",
        "\n",
        "            '''"
      ],
      "metadata": {
        "colab": {
          "base_uri": "https://localhost:8080/",
          "height": 88
        },
        "id": "E8s6nLlCqgdy",
        "outputId": "c50f5233-9b49-4400-b991-4961bd1a9ad6"
      },
      "execution_count": 16,
      "outputs": [
        {
          "output_type": "execute_result",
          "data": {
            "text/plain": [
              "'\\n\\n           \\nq_theta = u_theta * Br #A theta\\nq_phi   = u_phi * Br   # A phi\\n\\nq_theta_sin = q_theta * torch.sin(theta)\\n\\ndq_theta_sin_dtheta = torch.autograd.grad(\\n    q_theta_sin, theta,\\n    grad_outputs=torch.ones_like(q_theta_sin),\\n    create_graph=True, retain_graph=True\\n)[0]\\n\\ndq_phi_dphi = torch.autograd.grad(\\n    q_phi, phi,\\n    grad_outputs=torch.ones_like(q_phi),\\n    create_graph=True, retain_graph=True\\n)[0]\\n\\ndivergence = (1 / (r * torch.sin(theta))) * (\\n    dq_theta_sin_dtheta + dq_phi_dphi\\n)\\n\\n# testing \\nresidual = dBr_dt + divergence\\nloss_L1 = torch.mean(residual ** 2)\\n\\n'"
            ],
            "application/vnd.google.colaboratory.intrinsic+json": {
              "type": "string"
            }
          },
          "metadata": {},
          "execution_count": 16
        }
      ]
    },
    {
      "cell_type": "markdown",
      "source": [
        "![image.png](data:image/png;base64,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)"
      ],
      "metadata": {
        "id": "vYHDKRWPqBXm"
      }
    },
    {
      "cell_type": "code",
      "source": [
        "'''\n",
        "# === L2²: quasi-geostrophic constraint ===\n",
        "            cos2_theta = torch.cos(theta) ** 2\n",
        "            q2_theta = u_theta * cos2_theta\n",
        "            q2_phi   = u_phi * cos2_theta\n",
        "            q2_theta_sin = q2_theta * torch.sin(theta)\n",
        "\n",
        "            dq2_theta_sin_dtheta = torch.autograd.grad(\n",
        "                q2_theta_sin, theta,\n",
        "                grad_outputs=torch.ones_like(q2_theta_sin),\n",
        "                create_graph=True, retain_graph=True\n",
        "            )[0]\n",
        "\n",
        "            dq2_phi_dphi = torch.autograd.grad(\n",
        "                q2_phi, phi,\n",
        "                grad_outputs=torch.ones_like(q2_phi),\n",
        "                create_graph=True, retain_graph=True\n",
        "            )[0]\n",
        "\n",
        "            divergence_qg = (1 / (r * torch.sin(theta))) * (\n",
        "                dq2_theta_sin_dtheta + dq2_phi_dphi\n",
        "            )\n",
        "\n",
        "            loss_L2 = torch.mean(divergence_qg ** 2)\n",
        "            '''"
      ],
      "metadata": {
        "colab": {
          "base_uri": "https://localhost:8080/",
          "height": 105
        },
        "id": "ycigUEptqA2h",
        "outputId": "170720a7-5087-4caf-b762-d9be9ed1590b"
      },
      "execution_count": 17,
      "outputs": [
        {
          "output_type": "execute_result",
          "data": {
            "text/plain": [
              "'\\n# === L2²: quasi-geostrophic constraint ===\\n            cos2_theta = torch.cos(theta) ** 2\\n            q2_theta = u_theta * cos2_theta\\n            q2_phi   = u_phi * cos2_theta\\n            q2_theta_sin = q2_theta * torch.sin(theta)\\n\\n            dq2_theta_sin_dtheta = torch.autograd.grad(\\n                q2_theta_sin, theta,\\n                grad_outputs=torch.ones_like(q2_theta_sin),\\n                create_graph=True, retain_graph=True\\n            )[0]\\n\\n            dq2_phi_dphi = torch.autograd.grad(\\n                q2_phi, phi,\\n                grad_outputs=torch.ones_like(q2_phi),\\n                create_graph=True, retain_graph=True\\n            )[0]\\n\\n            divergence_qg = (1 / (r * torch.sin(theta))) * (\\n                dq2_theta_sin_dtheta + dq2_phi_dphi\\n            )\\n\\n            loss_L2 = torch.mean(divergence_qg ** 2)\\n            '"
            ],
            "application/vnd.google.colaboratory.intrinsic+json": {
              "type": "string"
            }
          },
          "metadata": {},
          "execution_count": 17
        }
      ]
    },
    {
      "cell_type": "code",
      "source": [
        "import matplotlib.pyplot as plt\n",
        "\n",
        "for year, losses in loss_history_by_year.items():\n",
        "    plt.plot(losses, label=f\"{year}\")\n",
        "\n",
        "plt.xlabel(\"Epoch\")\n",
        "plt.ylabel(\"Loss\")\n",
        "plt.title(\"Loss Curves by Year\")\n",
        "plt.legend()\n",
        "plt.grid(True)\n",
        "plt.tight_layout()\n",
        "plt.show()\n",
        "\n"
      ],
      "metadata": {
        "colab": {
          "base_uri": "https://localhost:8080/",
          "height": 487
        },
        "id": "xbG0L4Z1WRaF",
        "outputId": "6af7839b-3de9-467e-cd10-7fe12964025f"
      },
      "execution_count": 18,
      "outputs": [
        {
          "output_type": "display_data",
          "data": {
            "text/plain": [
              "<Figure size 640x480 with 1 Axes>"
            ],
            "image/png": "[encoded data removed]"
          },
          "metadata": {}
        }
      ]
    }
  ]
}